{
  "nbformat": 4,
  "nbformat_minor": 0,
  "metadata": {
    "colab": {
      "name": "torch_load_final.ipynb의 사본",
      "provenance": [],
      "collapsed_sections": [
        "-Ftr2lesqNI-",
        "Pow7E6edrdaC"
      ],
      "mount_file_id": "1FXVO55tkxHFmT_J1t7AY99Xh6zQA4w0o",
      "authorship_tag": "ABX9TyOhgdY8OVpdjK2ORugDm79C",
      "include_colab_link": true
    },
    "kernelspec": {
      "name": "python3",
      "display_name": "Python 3"
    },
    "language_info": {
      "name": "python"
    }
  },
  "cells": [
    {
      "cell_type": "markdown",
      "metadata": {
        "id": "view-in-github",
        "colab_type": "text"
      },
      "source": [
        "<a href=\"https://colab.research.google.com/github/kikiru328/Bone_Detection/blob/main/%ED%98%9C%EC%A0%95/BA_zscore_predict.ipynb\" target=\"_parent\"><img src=\"https://colab.research.google.com/assets/colab-badge.svg\" alt=\"Open In Colab\"/></a>"
      ]
    },
    {
      "cell_type": "markdown",
      "metadata": {
        "id": "cg6TRCG7p90K"
      },
      "source": [
        
      ]
    },
    {
      "cell_type": "code",
      "metadata": {
        "id": "fJn24VSD1MbA"
      },
      "source": [
        "# 필요 경로 및 gender 변수\n",
        "img_path ='/content/drive/MyDrive/team2/preprocessing_done/female/105_F.jpg'\n",
        "model_path = '/content/drive/MyDrive/team2/yolov5'\n",
        "tjnet_path = '/content/drive/MyDrive/team2/TJM/tjnet4.h5'\n",
        "gender = 1"
      ],
      "execution_count": 104,
      "outputs": []
    },
    {
      "cell_type": "code",
      "metadata": {
        "colab": {
          "base_uri": "https://localhost:8080/"
        },
        "id": "oQdhpXVdriHz",
        "outputId": "6d27b979-dfe0-40c5-e3d1-8470d4587010"
      },
      "source": [
        "predict_zscore(gender, img_path, model_path, tjnet_path, show_crop=False)"
      ],
      "execution_count": 111,
      "outputs": [
        {
          "output_type": "stream",
          "name": "stdout",
          "text": [
            "예측 z_score:  -2.6470602\n"
          ]
        }
      ]
    },
    {
      "cell_type": "markdown",
      "metadata": {
        "id": "-Ftr2lesqNI-"
      },
      "source": [
        "## 사용자함수(실행필수)"
      ]
    },
    {
      "cell_type": "code",
      "metadata": {
        "id": "Ig2izZWUWr7u"
      },
      "source": [
        "def predict_zscore(gender, img_path, model_path,tjnet_path, show_crop=True):\n",
        "  yolo_crop_img(gender, img_path, model_path, show_crop=show_crop)\n",
        "  import numpy as np\n",
        "  import tensorflow.keras as tf\n",
        "  model = tf.models.load_model(tjnet_path, compile=False)\n",
        "  # grobal X : X_ray 이미지의 yolo crop image 값\n",
        "  y_predict = model.predict(X)\n",
        "  global pred\n",
        "  pred = y_predict[0][0]\n",
        "  print('예측 z_score: ', pred)\n",
        "\n",
        "\n",
        "def yolo_crop_img(gender, img_path, model_path, result_out=False, show_crop=False):\n",
        "  import os\n",
        "  os.chdir(model_path)\n",
        "  import torch\n",
        "  model = torch.load('./model.pt', map_location='cpu')\n",
        "  result = model(img_path)\n",
        "  global crops\n",
        "  crops = result.crop(save=False)\n",
        "  global X\n",
        "  X = out_crop_img(crops, gender)\n",
        "  if show_crop: show_img(result)\n",
        "  if result_out: return result\n",
        "\n",
        "def show_img(result):\n",
        "  import matplotlib.pyplot as plt\n",
        "  import numpy as np\n",
        "  %matplotlib inline\n",
        "  plt.figure(figsize=(16,12))\n",
        "  plt.imshow(np.squeeze(result.render()))\n",
        "  plt.show()\n",
        "\n",
        "def out_crop_img(crop, gender):\n",
        "  import re\n",
        "  import cv2\n",
        "  import numpy as np\n",
        "\n",
        "  gender = np.array(gender).reshape(1,)\n",
        "\n",
        "  for i in range(7):\n",
        "    carpal = re.compile('CARPAL.')\n",
        "    ip = re.compile('IP.')\n",
        "    lmcp = re.compile('LMCP.')\n",
        "    lpip = re.compile('LPIP.')\n",
        "    mmcp = re.compile('MMCP.')\n",
        "    mpip = re.compile('MPIP.')\n",
        "    tmcp = re.compile('TMCP.')\n",
        "\n",
        "    if carpal.search(crop[i]['label']):\n",
        "      CARPAL_img = crop[i]['im']\n",
        "      CARPAL_img = cv2.resize(CARPAL_img, (224,224),cv2.INTER_AREA)\n",
        "      CARPAL_img = CARPAL_img.reshape(1, 224, 224, 3)\n",
        "\n",
        "    if ip.search(crop[i]['label']):\n",
        "      IP_img = crop[i]['im']\n",
        "      IP_img = cv2.resize(IP_img, (75,75),cv2.INTER_AREA)\n",
        "      IP_img = IP_img.reshape(1, 75, 75, 3)\n",
        "      \n",
        "    if lmcp.search(crop[i]['label']):\n",
        "      LMCP_img = crop[i]['im']\n",
        "      LMCP_img = cv2.resize(LMCP_img, (75,75),cv2.INTER_AREA)\n",
        "      LMCP_img = LMCP_img.reshape(1, 75, 75, 3)\n",
        "\n",
        "    if lpip.search(crop[i]['label']):\n",
        "      LPIP_img = crop[i]['im']\n",
        "      LPIP_img = cv2.resize(LPIP_img, (75,75),cv2.INTER_AREA)\n",
        "      LPIP_img = LPIP_img.reshape(1, 75, 75, 3)\n",
        "\n",
        "    if mmcp.search(crop[i]['label']):\n",
        "      MMCP_img = crop[i]['im']\n",
        "      MMCP_img = cv2.resize(MMCP_img, (75,75),cv2.INTER_AREA)\n",
        "      MMCP_img = MMCP_img.reshape(1, 75, 75, 3)\n",
        "    \n",
        "    if mpip.search(crop[i]['label']):\n",
        "      MPIP_img = crop[i]['im']\n",
        "      MPIP_img = cv2.resize(MPIP_img, (75,75),cv2.INTER_AREA)\n",
        "      MPIP_img = MPIP_img.reshape(1, 75, 75, 3)\n",
        "\n",
        "    if tmcp.search(crop[i]['label']):\n",
        "      TMCP_img = crop[i]['im']\n",
        "      TMCP_img = cv2.resize(TMCP_img, (75,75),cv2.INTER_AREA)\n",
        "      TMCP_img = TMCP_img.reshape(1, 75, 75, 3)\n",
        "\n",
        "    else : continue\n",
        "\n",
        "  gender = gender.reshape(1, 1)\n",
        "  return [CARPAL_img, LMCP_img, MMCP_img,TMCP_img, LPIP_img, MPIP_img, IP_img, gender]"
      ],
      "execution_count": 110,
      "outputs": []
    },
    {
      "cell_type": "markdown",
      "metadata": {
        "id": "Pow7E6edrdaC"
      },
      "source": [
        "## -"
      ]
    },
    {
      "cell_type": "code",
      "metadata": {
        "id": "C_faH3NfhfgR"
      },
      "source": [
        "# # 필요한 패키지\n",
        "# import os\n",
        "# # 현재 경로 확인\n",
        "# os.getcwd()\n",
        "# # 경로 설정\n",
        "# os.chdir('/content/drive/MyDrive/team2/yolov5')\n",
        "# %cp -r /content/drive/MyDrive/model.pt /content/drive/MyDrive/team2/yolov5/model.pt"
      ],
      "execution_count": 2,
      "outputs": []
    },
    {
      "cell_type": "code",
      "metadata": {
        "id": "x2W7DM3Kderw"
      },
      "source": [
        "import numpy as np\n",
        "import tensorflow.keras as tf\n",
        "\n",
        "model = tf.models.load_model(tjnet_path, compile=False)"
      ],
      "execution_count": 35,
      "outputs": []
    },
    {
      "cell_type": "code",
      "metadata": {
        "colab": {
          "base_uri": "https://localhost:8080/"
        },
        "id": "M5CUQgwrjnBg",
        "outputId": "b8a15127-05a3-4726-c62b-5463c26a7524"
      },
      "source": [
        "# grobal X : X_ray 이미지의 tjnet input 값\n",
        "y_predict = model.predict(X)\n",
        "print('예측 z_score: ', y_predict[0][0])"
      ],
      "execution_count": 99,
      "outputs": [
        {
          "output_type": "stream",
          "name": "stdout",
          "text": [
            "예측 z_score:  -2.6470602\n"
          ]
        }
      ]
    },
    {
      "cell_type": "code",
      "metadata": {
        "id": "MZ0xUVfVnQ9_"
      },
      "source": [
        "# label = labels[y_predict[0].argmax()]\n",
        "# confidence = y_predict[0][y_predict[0].argmax()]"
      ],
      "execution_count": 76,
      "outputs": []
    }
  ]
}
