{
  "nbformat": 4,
  "nbformat_minor": 0,
  "metadata": {
    "kernelspec": {
      "display_name": "Python 3",
      "language": "python",
      "name": "python3"
    },
    "language_info": {
      "codemirror_mode": {
        "name": "ipython",
        "version": 3
      },
      "file_extension": ".py",
      "mimetype": "text/x-python",
      "name": "python",
      "nbconvert_exporter": "python",
      "pygments_lexer": "ipython3",
      "version": "3.8.10"
    },
    "toc": {
      "base_numbering": 1,
      "nav_menu": {},
      "number_sections": true,
      "sideBar": true,
      "skip_h1_title": false,
      "title_cell": "Table of Contents",
      "title_sidebar": "Contents",
      "toc_cell": false,
      "toc_position": {},
      "toc_section_display": true,
      "toc_window_display": false
    },
    "varInspector": {
      "cols": {
        "lenName": 16,
        "lenType": 16,
        "lenVar": 40
      },
      "kernels_config": {
        "python": {
          "delete_cmd_postfix": "",
          "delete_cmd_prefix": "del ",
          "library": "var_list.py",
          "varRefreshCmd": "print(var_dic_list())"
        },
        "r": {
          "delete_cmd_postfix": ") ",
          "delete_cmd_prefix": "rm(",
          "library": "var_list.r",
          "varRefreshCmd": "cat(var_dic_list()) "
        }
      },
      "types_to_exclude": [
        "module",
        "function",
        "builtin_function_or_method",
        "instance",
        "_Feature"
      ],
      "window_display": false
    },
    "colab": {
      "name": "데이터탐색(1주차에주신자료참고).ipynb",
      "provenance": [],
      "collapsed_sections": [
        "mRIK_DZv7JYC",
        "-PJsw2ow7JZT",
        "01JBhWcV7JZa",
        "TQBCPFAz7JZh",
        "PNr8WA8Z7JZq"
      ],
      "include_colab_link": true
    }
  },
  "cells": [
    {
      "cell_type": "markdown",
      "metadata": {
        "id": "view-in-github",
        "colab_type": "text"
      },
      "source": [
        "<a href=\"https://colab.research.google.com/github/kikiru328/Bone_Detection/blob/main/%ED%98%9C%EC%A0%95/%EC%9D%B4%EC%83%81%EC%B9%98%ED%83%90%EC%83%89.ipynb\" target=\"_parent\"><img src=\"https://colab.research.google.com/assets/colab-badge.svg\" alt=\"Open In Colab\"/></a>"
      ]
    },
    {
      "cell_type": "code",
      "metadata": {
        "ExecuteTime": {
          "end_time": "2020-08-14T07:53:06.827680Z",
          "start_time": "2020-08-14T07:53:06.074270Z"
        },
        "id": "LgvLqGMm7JXt"
      },
      "source": [
        "import cv2\n",
        "import os\n",
        "import numpy as np\n",
        "import pandas as pd\n",
        "import matplotlib.pylab as plt\n",
        "import seaborn as sns\n",
        "import math\n",
        "%matplotlib inline"
      ],
      "execution_count": null,
      "outputs": []
    },
    {
      "cell_type": "markdown",
      "metadata": {
        "id": "mRIK_DZv7JYC"
      },
      "source": [
        "## 데이터 탐색\n"
      ]
    },
    {
      "cell_type": "code",
      "metadata": {
        "id": "qhvjjmWS7JYN",
        "outputId": "0b2054a6-cfbd-4a36-f958-f648170da53e"
      },
      "source": [
        "%pwd"
      ],
      "execution_count": null,
      "outputs": [
        {
          "data": {
            "text/plain": [
              "'C:\\\\workspace\\\\cakd3\\\\team2'"
            ]
          },
          "execution_count": 2,
          "metadata": {},
          "output_type": "execute_result"
        }
      ]
    },
    {
      "cell_type": "code",
      "metadata": {
        "ExecuteTime": {
          "end_time": "2020-08-13T00:20:15.311121Z",
          "start_time": "2020-08-13T00:20:15.277119Z"
        },
        "id": "WjgceRGg7JYY"
      },
      "source": [
        "df.head()"
      ],
      "execution_count": null,
      "outputs": []
    },
    {
      "cell_type": "code",
      "metadata": {
        "ExecuteTime": {
          "end_time": "2020-08-14T05:04:34.666808Z",
          "start_time": "2020-08-14T05:04:34.663808Z"
        },
        "id": "2mSv0KEQ7JYb"
      },
      "source": [
        "import pandas as pd\n",
        "\n",
        "csv_path = \"./team2_data/data/BoneAge/\"\n",
        "df1 = pd.read_excel(csv_path+\"BA_total.xlsx\")\n",
        "df1.head()"
      ],
      "execution_count": null,
      "outputs": []
    },
    {
      "cell_type": "code",
      "metadata": {
        "ExecuteTime": {
          "end_time": "2020-08-14T05:04:35.002827Z",
          "start_time": "2020-08-14T05:04:34.988826Z"
        },
        "id": "RN6n4ryh7JYe"
      },
      "source": [
        "df1.isnull().sum()"
      ],
      "execution_count": null,
      "outputs": []
    },
    {
      "cell_type": "code",
      "metadata": {
        "id": "GuX3qV1d7JYg"
      },
      "source": [
        "import matplotlib.pyplot as plt\n",
        "plt.figure(figsize=(10,6))\n",
        "m = df1[\"성별(F:2,M:1)\"].loc[df1[\"성별(F:2,M:1)\"]==1]\n",
        "f = df1[\"성별(F:2,M:1)\"].loc[df1[\"성별(F:2,M:1)\"]==2]\n",
        "plt.hist([m, f], bins=2)\n",
        "plt.xlabel(\"male\", fontsize=16)\n",
        "plt.ylabel(\"Count\", fontsize=16)\n",
        "plt.show()"
      ],
      "execution_count": null,
      "outputs": []
    },
    {
      "cell_type": "code",
      "metadata": {
        "id": "qI8OQUUW7JYm"
      },
      "source": [
        "# 파생변수 골연령(개월), 정규화된 값 추가\n",
        "# df1['boneage'] = df1['BA_total']*12\n",
        "# ba_mean = df1.boneage.mean()\n",
        "# ba_std = df1.boneage.std()\n",
        "# df1[\"BA_z\"] = (df1.boneage-ba_mean)/ba_std\n",
        "\n",
        "from scipy.stats import zscore\n",
        "df1['BA_zscore'] = zscore(df1['BA_total'])"
      ],
      "execution_count": null,
      "outputs": []
    },
    {
      "cell_type": "code",
      "metadata": {
        "id": "xQqxYZnI7JYq"
      },
      "source": [
        "df1.head(2)"
      ],
      "execution_count": null,
      "outputs": []
    },
    {
      "cell_type": "code",
      "metadata": {
        "id": "OMszPy9U7JYt"
      },
      "source": [
        "df1.columns"
      ],
      "execution_count": null,
      "outputs": []
    },
    {
      "cell_type": "code",
      "metadata": {
        "id": "J1CBUmxT7JYy"
      },
      "source": [
        "def cat_age(x):\n",
        "    for i in range(3,19):\n",
        "        if i-1 <= x < i : \n",
        "            x = i-1\n",
        "    return x"
      ],
      "execution_count": null,
      "outputs": []
    },
    {
      "cell_type": "code",
      "metadata": {
        "id": "xWpDL0LT7JY0"
      },
      "source": [
        "df1['age'] = df1['검사 시 나이'].map(cat_age)"
      ],
      "execution_count": null,
      "outputs": []
    },
    {
      "cell_type": "code",
      "metadata": {
        "id": "g49SRr0I7JY4"
      },
      "source": [
        "df1.head(3)"
      ],
      "execution_count": null,
      "outputs": []
    },
    {
      "cell_type": "code",
      "metadata": {
        "id": "BbkhK98i7JY7"
      },
      "source": [
        "x1 = df1['age']\n",
        "x2 = df1['BA_total']\n",
        "plt.hist([x1, x2], bins=9, label=['original age','bone age'])\n",
        "plt.xlabel(\"Age\", fontsize=16)\n",
        "plt.ylabel(\"Count\", fontsize=16)\n",
        "plt.title('Age')\n",
        "plt.legend()\n",
        "plt.show()"
      ],
      "execution_count": null,
      "outputs": []
    },
    {
      "cell_type": "code",
      "metadata": {
        "id": "XAkosIx37JY-"
      },
      "source": [
        "plt.scatter(x=df1[\"BA_total\"], y=df1[\"신장\"])\n",
        "plt.xlabel(\"Bone AGE\", fontsize=16)\n",
        "plt.ylabel(\"Height\", fontsize=16)\n",
        "plt.show()"
      ],
      "execution_count": null,
      "outputs": []
    },
    {
      "cell_type": "code",
      "metadata": {
        "id": "rX7qu6Ho7JY_"
      },
      "source": [
        "# 이상치 보고 삭제하기"
      ],
      "execution_count": null,
      "outputs": []
    },
    {
      "cell_type": "code",
      "metadata": {
        "id": "O_3EdZSX7JZB"
      },
      "source": [
        "df1[df1[\"신장\"] < 80]  # F - 107 이상한것으로 나타남."
      ],
      "execution_count": null,
      "outputs": []
    },
    {
      "cell_type": "markdown",
      "metadata": {
        "id": "AmaOvlM48T6S"
      },
      "source": [
        "### 성장도표"
      ]
    },
    {
      "cell_type": "code",
      "metadata": {
        "id": "2g-Ktb857JZI"
      },
      "source": [
        "# 성장도표\n",
        "df2 = pd.read_excel(csv_path+\"Tall_korea.xls\")\n",
        "df2.head()"
      ],
      "execution_count": null,
      "outputs": []
    },
    {
      "cell_type": "code",
      "metadata": {
        "id": "RTKEb74V7JZN"
      },
      "source": [
        "df2['성별'].value_counts()"
      ],
      "execution_count": null,
      "outputs": []
    },
    {
      "cell_type": "code",
      "metadata": {
        "scrolled": false,
        "id": "LhYx4mNO7JZP"
      },
      "source": [
        "# df2['만나이(세)'].value_counts().sort_index()"
      ],
      "execution_count": null,
      "outputs": []
    },
    {
      "cell_type": "code",
      "metadata": {
        "id": "8u5ABtSN7JZQ"
      },
      "source": [
        "df2[df2['만나이(세)'].notnull()]"
      ],
      "execution_count": null,
      "outputs": []
    },
    {
      "cell_type": "markdown",
      "metadata": {
        "id": "-PJsw2ow7JZT"
      },
      "source": [
        "## 데이터 탐색 (1주차 제공해주신 자료)"
      ]
    },
    {
      "cell_type": "code",
      "metadata": {
        "ExecuteTime": {
          "end_time": "2020-08-11T01:17:38.774800Z",
          "start_time": "2020-08-11T01:17:38.743600Z"
        },
        "id": "MDqZrBVB7JZU"
      },
      "source": [
        "df.isnull().sum()"
      ],
      "execution_count": null,
      "outputs": []
    },
    {
      "cell_type": "code",
      "metadata": {
        "ExecuteTime": {
          "end_time": "2020-08-11T00:44:02.732427Z",
          "start_time": "2020-08-11T00:44:02.672226Z"
        },
        "scrolled": true,
        "id": "Y9extxsC7JZY"
      },
      "source": [
        "df.describe()"
      ],
      "execution_count": null,
      "outputs": []
    },
    {
      "cell_type": "markdown",
      "metadata": {
        "id": "01JBhWcV7JZa"
      },
      "source": [
        "### 골연령 그래프"
      ]
    },
    {
      "cell_type": "code",
      "metadata": {
        "ExecuteTime": {
          "end_time": "2020-08-14T05:04:38.464089Z",
          "start_time": "2020-08-14T05:04:38.410487Z"
        },
        "id": "vj7iZ3w17JZc"
      },
      "source": [
        "# # 파생변수 골연령(개월), 정규화된 값 추가\n",
        "# df['boneage'] = df.BA*12\n",
        "# ba_mean = df.boneage.mean()\n",
        "# ba_std = df.boneage.std()\n",
        "# df[\"BA_z\"] = (df.boneage-ba_mean)/ba_std\n",
        "# df.head()"
      ],
      "execution_count": 1,
      "outputs": []
    },
    {
      "cell_type": "code",
      "metadata": {
        "id": "nPK_Kui97JZe"
      },
      "source": [
        "df['BA_total'] = (df['BA 1'] + df['BA 2'])/2"
      ],
      "execution_count": null,
      "outputs": []
    },
    {
      "cell_type": "code",
      "metadata": {
        "ExecuteTime": {
          "end_time": "2020-08-14T05:04:40.006535Z",
          "start_time": "2020-08-14T05:04:39.801325Z"
        },
        "id": "XC4eV1bk7JZe",
        "outputId": "1a755f78-0ca0-4d70-e00a-22a56350747d"
      },
      "source": [
        "plt.figure(figsize=(10,6))\n",
        "plt.hist(df['BA_total'], bins=9)\n",
        "plt.xlabel(\"Bone Age\", fontsize=16)\n",
        "plt.ylabel(\"Count\", fontsize=16)\n",
        "plt.show()"
      ],
      "execution_count": null,
      "outputs": [
        {
          "data": {
            "image/png": "[encoded data removed]",
            "text/plain": [
              "<Figure size 720x432 with 1 Axes>"
            ]
          },
          "metadata": {
            "needs_background": "light"
          },
          "output_type": "display_data"
        }
      ]
    },
    {
      "cell_type": "code",
      "metadata": {
        "ExecuteTime": {
          "end_time": "2020-08-14T05:04:40.744569Z",
          "start_time": "2020-08-14T05:04:40.624364Z"
        },
        "id": "qhBCBeFa7JZg",
        "outputId": "2e9c9965-d4c4-4cdf-edb8-58a44eb22af1"
      },
      "source": [
        "plt.figure(figsize=(10,6))\n",
        "m = df[\"성별\"].loc[df[\"성별\"]==0]\n",
        "f = df[\"성별\"].loc[df[\"성별\"]==1]\n",
        "plt.hist([m, f], bins=2)\n",
        "plt.xlabel(\"male\", fontsize=16)\n",
        "plt.ylabel(\"Count\", fontsize=16)\n",
        "plt.show()"
      ],
      "execution_count": null,
      "outputs": [
        {
          "name": "stderr",
          "output_type": "stream",
          "text": [
            "/home/centos/anaconda3/lib/python3.6/site-packages/numpy/core/_asarray.py:83: VisibleDeprecationWarning: Creating an ndarray from ragged nested sequences (which is a list-or-tuple of lists-or-tuples-or ndarrays with different lengths or shapes) is deprecated. If you meant to do this, you must specify 'dtype=object' when creating the ndarray\n",
            "  return array(a, dtype, copy=False, order=order)\n",
            "/home/centos/anaconda3/lib/python3.6/site-packages/numpy/core/_asarray.py:83: VisibleDeprecationWarning: Creating an ndarray from ragged nested sequences (which is a list-or-tuple of lists-or-tuples-or ndarrays with different lengths or shapes) is deprecated. If you meant to do this, you must specify 'dtype=object' when creating the ndarray\n",
            "  return array(a, dtype, copy=False, order=order)\n"
          ]
        },
        {
          "data": {
            "image/png": "[encoded data removed]",
            "text/plain": [
              "<Figure size 720x432 with 1 Axes>"
            ]
          },
          "metadata": {},
          "output_type": "display_data"
        }
      ]
    },
    {
      "cell_type": "markdown",
      "metadata": {
        "id": "TQBCPFAz7JZh"
      },
      "source": [
        "### 성별-골연령 히스토그램"
      ]
    },
    {
      "cell_type": "code",
      "metadata": {
        "ExecuteTime": {
          "end_time": "2020-08-14T05:04:42.947220Z",
          "start_time": "2020-08-14T05:04:42.898019Z"
        },
        "id": "8vokqnyb7JZi"
      },
      "source": [
        "#파생변수 골연령대 추가\n",
        "df[\"BA_GROUP\"] = df[\"BA\"].map(lambda x: int(x))\n",
        "df.head()"
      ],
      "execution_count": null,
      "outputs": []
    },
    {
      "cell_type": "code",
      "metadata": {
        "ExecuteTime": {
          "end_time": "2020-08-14T05:04:43.895456Z",
          "start_time": "2020-08-14T05:04:43.863855Z"
        },
        "id": "GvXQqWX37JZj"
      },
      "source": [
        "#성별 값 1, 2를 텍스트 Male, Female로 변경\n",
        "df[\"성별\"] = df[\"성별\"].replace([0, 1], [\"Male\", \"Female\"])\n",
        "df.head()"
      ],
      "execution_count": null,
      "outputs": []
    },
    {
      "cell_type": "code",
      "metadata": {
        "ExecuteTime": {
          "end_time": "2020-08-14T05:04:46.714297Z",
          "start_time": "2020-08-14T05:04:46.627094Z"
        },
        "id": "vUcJkwM-7JZl"
      },
      "source": [
        "#성별, BA 연령대로 피벗테이블\n",
        "df_ = df.loc[:, [\"filename\", \"성별\", \"BA_GROUP\"]]\n",
        "df_pivot = df_.pivot_table(index=[\"성별\"], columns=[\"BA_GROUP\"], values=[\"filename\"], aggfunc=[\"count\"], fill_value=0, margins=True)\n",
        "df_pivot"
      ],
      "execution_count": null,
      "outputs": []
    },
    {
      "cell_type": "code",
      "metadata": {
        "id": "z2eLFEuZ7JZo"
      },
      "source": [
        "#골연령대 기준으로 히스토그램\n",
        "plt.figure(figsize=(10,6))\n",
        "m = df.loc[df[\"성별\"]==\"Male\"][\"BA_GROUP\"]\n",
        "f = df.loc[df[\"성별\"]==\"Female\"][\"BA_GROUP\"]\n",
        "plt.hist([m, f], bins=9)\n",
        "plt.legend([\"Male\", \"Female\"], fontsize=20)\n",
        "plt.xlabel(\"Bone Age(Group)\", fontsize=16)\n",
        "plt.ylabel(\"Count\", fontsize=16)\n",
        "plt.show()"
      ],
      "execution_count": null,
      "outputs": []
    },
    {
      "cell_type": "code",
      "metadata": {
        "id": "9Nrg3YCW7JZp"
      },
      "source": [
        "#골열령 기준으로 히스토그램\n",
        "plt.figure(figsize=(10,6))\n",
        "m = df.loc[df[\"성별\"]==\"Male\"][\"BA\"]\n",
        "f = df.loc[df[\"성별\"]==\"Female\"][\"BA\"]\n",
        "plt.hist([m, f], bins=45)\n",
        "plt.legend([\"Male\", \"Female\"], fontsize=20)\n",
        "plt.xlabel(\"Bone Age\", fontsize=16)\n",
        "plt.ylabel(\"Count\", fontsize=16)\n",
        "plt.show()"
      ],
      "execution_count": null,
      "outputs": []
    },
    {
      "cell_type": "markdown",
      "metadata": {
        "id": "PNr8WA8Z7JZq"
      },
      "source": [
        "### 신장-골연령 산점도"
      ]
    },
    {
      "cell_type": "code",
      "metadata": {
        "id": "bYmxJVJV7JZr"
      },
      "source": [
        "plt.figure(figsize=(10,8))\n",
        "plt.scatter(x=df[\"BA\"], y=df[\"신장\"])\n",
        "plt.xlabel(\"Bone AGE\", fontsize=16)\n",
        "plt.ylabel(\"Height\", fontsize=16)\n",
        "plt.show()"
      ],
      "execution_count": null,
      "outputs": []
    },
    {
      "cell_type": "code",
      "metadata": {
        "id": "047n-JXo7JZs"
      },
      "source": [
        ""
      ],
      "execution_count": null,
      "outputs": []
    }
  ]
}