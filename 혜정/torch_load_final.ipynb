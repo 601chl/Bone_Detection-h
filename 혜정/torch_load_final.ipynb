{
  "nbformat": 4,
  "nbformat_minor": 0,
  "metadata": {
    "colab": {
      "name": "torch_load_final.ipynb의 사본",
      "provenance": [],
      "collapsed_sections": [],
      "mount_file_id": "https://github.com/kikiru328/Bone_Detection/blob/main/%ED%98%9C%EC%A0%95/torch_load_final.ipynb",
      "authorship_tag": "ABX9TyNw94y75wKbcKjuSVj3uNIm",
      "include_colab_link": true
    },
    "kernelspec": {
      "name": "python3",
      "display_name": "Python 3"
    },
    "language_info": {
      "name": "python"
    }
  },
  "cells": [
    {
      "cell_type": "markdown",
      "metadata": {
        "id": "view-in-github",
        "colab_type": "text"
      },
      "source": [
        "<a href=\"https://colab.research.google.com/github/kikiru328/Bone_Detection/blob/main/%ED%98%9C%EC%A0%95/torch_load_final.ipynb\" target=\"_parent\"><img src=\"https://colab.research.google.com/assets/colab-badge.svg\" alt=\"Open In Colab\"/></a>"
      ]
    },
    {
      "cell_type": "markdown",
      "metadata": {
        "id": "cg6TRCG7p90K"
      },
      "source": [
        "공용폴더에 폴더(yolov5), 파일(model.pt) 업로드해뒀습니다."
      ]
    },
    {
      "cell_type": "code",
      "metadata": {
        "id": "C_faH3NfhfgR"
      },
      "source": [
        "# # 필요한 패키지\n",
        "# import os\n",
        "# # 현재 경로 확인\n",
        "# os.getcwd()\n",
        "# # 경로 설정\n",
        "# os.chdir('/content/drive/MyDrive/team2/yolov5')\n",
        "# %cp -r /content/drive/MyDrive/model.pt /content/drive/MyDrive/team2/yolov5/model.pt"
      ],
      "execution_count": null,
      "outputs": []
    },
    {
      "cell_type": "code",
      "metadata": {
        "id": "fJn24VSD1MbA"
      },
      "source": [
        "img_path ='/content/drive/MyDrive/team2/preprocessing_done/female/101_F.jpg'\n",
        "model_path = '/content/drive/MyDrive/team2/yolov5'"
      ],
      "execution_count": null,
      "outputs": []
    },
    {
      "cell_type": "code",
      "metadata": {
        "id": "-bBmfbMk2ZVl"
      },
      "source": [
        "yolo_crop_img(img_path, model_path, result_out=False, show_crop=True)"
      ],
      "execution_count": null,
      "outputs": []
    },
    {
      "cell_type": "code",
      "metadata": {
        "id": "Ig2izZWUWr7u"
      },
      "source": [
        "def yolo_crop_img(img_path, model_path, result_out=False, show_crop=False):\n",
        "  import os\n",
        "  os.chdir(model_path)\n",
        "  import torch\n",
        "  model = torch.load('./model.pt', map_location='cpu')\n",
        "  result = model(img_path)\n",
        "  global crops\n",
        "  crops = result.crop(save=False)\n",
        "  \n",
        "  if show_crop: show_img(result)\n",
        "  if result_out: return result\n",
        "  "
      ],
      "execution_count": null,
      "outputs": []
    },
    {
      "cell_type": "code",
      "metadata": {
        "id": "EYrWtetcqaBG"
      },
      "source": [
        "def show_img(result):\n",
        "  import matplotlib.pyplot as plt\n",
        "  import numpy as np\n",
        "  %matplotlib inline\n",
        "  plt.figure(figsize=(16,12))\n",
        "  plt.imshow(np.squeeze(result.render()))\n",
        "  plt.show()"
      ],
      "execution_count": null,
      "outputs": []
    },
    {
      "cell_type": "code",
      "metadata": {
        "id": "HjxtKyp7MjWJ"
      },
      "source": [
        "def out_crop_img(crops, gender):\n",
        "  import re\n",
        "  import cv2\n",
        "  import numpy as np\n",
        "  for i in range(7):\n",
        "    carpal = re.compile('CARPAL.')\n",
        "    ip = re.compile('IP.')\n",
        "    lmcp = re.compile('LMCP.')\n",
        "    lpip = re.compile('LPIP.')\n",
        "    mmcp = re.compile('MMCP.')\n",
        "    mpip = re.compile('MPIP.')\n",
        "    tmcp = re.compile('TMCP.')\n",
        "    if carpal.search(crop[i]['label']):\n",
        "      CARPAL_img = crop[i]['im']\n",
        "      CARPAL_img = cv2.resize(CARPAL_img, (224,224),cv2.INTER_AREA)\n",
        "    if ip.search(crop[i]['label']):\n",
        "      IP_img = crop[i]['im']\n",
        "      IP_img = cv2.resize(IP_img, (75,75),cv2.INTER_AREA)\n",
        "    if lmcp.search(crop[i]['label']):\n",
        "      LMCP_img = crop[i]['im']\n",
        "      LMCP_img = cv2.resize(LMCP_img, (75,75),cv2.INTER_AREA)\n",
        "    if lpip.search(crop[i]['label']):\n",
        "      LPIP_img = crop[i]['im']\n",
        "      LPIP_img = cv2.resize(LPIP_img, (75,75),cv2.INTER_AREA)\n",
        "    if mmcp.search(crop[i]['label']):\n",
        "      MMCP_img = crop[i]['im']\n",
        "      MMCP_img = cv2.resize(MMCP_img, (75,75),cv2.INTER_AREA)\n",
        "    if mpip.search(crop[i]['label']):\n",
        "      MPIP_img = crop[i]['im']\n",
        "      MPIP_img = cv2.resize(MPIP_img, (75,75),cv2.INTER_AREA)\n",
        "    if tmcp.search(crop[i]['label']):\n",
        "      TMCP_img = crop[i]['im']\n",
        "      TMCP_img = cv2.resize(TMCP_img, (75,75),cv2.INTER_AREA)\n",
        "    else : continue\n",
        "  gender = np.array(gender).reshape(1,)\n",
        "  return [CARPAL_img, LMCP_img, MMCP_img,TMCP_img, LPIP_img, MPIP_img, IP_img, gender]\n",
        "  "
      ],
      "execution_count": null,
      "outputs": []
    },
    {
      "cell_type": "code",
      "metadata": {
        "id": "n-jhcQS0WxPE"
      },
      "source": [
        "ar = out_crop_img(crops, 1)"
      ],
      "execution_count": null,
      "outputs": []
    },
    {
      "cell_type": "code",
      "metadata": {
        "id": "POrH9Xy4W2G9",
        "colab": {
          "base_uri": "https://localhost:8080/"
        },
        "outputId": "e7668f38-33de-4ed6-8753-56c3da1b7eb5"
      },
      "source": [
        "ar[0].shape"
      ],
      "execution_count": null,
      "outputs": [
        {
          "output_type": "execute_result",
          "data": {
            "text/plain": [
              "(224, 224, 3)"
            ]
          },
          "metadata": {},
          "execution_count": 101
        }
      ]
    }
  ]
}