{
  "nbformat": 4,
  "nbformat_minor": 0,
  "metadata": {
    "colab": {
      "name": "torch_load_test.ipynb",
      "provenance": [],
      "collapsed_sections": [],
      "mount_file_id": "1U9C23i_Ja9vCR0-Lc_0uPlN1R1S25jEp",
      "authorship_tag": "ABX9TyNxorjxP/xy12vy7Z5ibRsp",
      "include_colab_link": true
    },
    "kernelspec": {
      "name": "python3",
      "display_name": "Python 3"
    },
    "language_info": {
      "name": "python"
    }
  },
  "cells": [
    {
      "cell_type": "markdown",
      "metadata": {
        "id": "view-in-github",
        "colab_type": "text"
      },
      "source": [
        "<a href=\"https://colab.research.google.com/github/kikiru328/Bone_Detection/blob/main/%ED%98%9C%EC%A0%95/torch_load_test.ipynb\" target=\"_parent\"><img src=\"https://colab.research.google.com/assets/colab-badge.svg\" alt=\"Open In Colab\"/></a>"
      ]
    },
    {
      "cell_type": "markdown",
      "metadata": {
        "id": "cg6TRCG7p90K"
      },
      "source": [
        "공용폴더에 폴더(yolov5), 파일(custom_yolov5.pt) 업로드해뒀습니다."
      ]
    },
    {
      "cell_type": "code",
      "metadata": {
        "colab": {
          "base_uri": "https://localhost:8080/",
          "height": 35
        },
        "id": "C_faH3NfhfgR",
        "outputId": "c3d8304d-1588-4bd4-f445-807b1f6aeecc"
      },
      "source": [
        "# 필요한 패키지\n",
        "import os\n",
        "# 현재 경로 확인\n",
        "os.getcwd()"
      ],
      "execution_count": 44,
      "outputs": [
        {
          "output_type": "execute_result",
          "data": {
            "application/vnd.google.colaboratory.intrinsic+json": {
              "type": "string"
            },
            "text/plain": [
              "'/content/drive/.shortcut-targets-by-id/1zBa-MKJnDRom0YmxKKhEdp2QZVZmLZDz/2차 프로젝트 원본 데이터'"
            ]
          },
          "metadata": {},
          "execution_count": 44
        }
      ]
    },
    {
      "cell_type": "code",
      "metadata": {
        "id": "AVUUp6KchO7q"
      },
      "source": [
        "# 경로 설정\n",
        "절대_경로_설정 = '/content/drive/MyDrive/2차 프로젝트 원본 데이터'\n",
        "os.chdir(절대_경로_설정)"
      ],
      "execution_count": 43,
      "outputs": []
    },
    {
      "cell_type": "code",
      "metadata": {
        "id": "NAuotKAOlQBD"
      },
      "source": [
        "# map_location=torch.device('cpu')\n",
        "model = torch.load('./custom_yolov5.pt',map_location='cpu')"
      ],
      "execution_count": 26,
      "outputs": []
    },
    {
      "cell_type": "code",
      "metadata": {
        "id": "hOAVWGuvmJlx"
      },
      "source": [
        "img = '/content/sample.jpg' # input image\n",
        "result = model(img)\n",
        "crops = result.crop(save=True)"
      ],
      "execution_count": null,
      "outputs": []
    },
    {
      "cell_type": "code",
      "metadata": {
        "id": "fXZPmQ7Gnxkc"
      },
      "source": [
        "# Saved results to runs/detect/exp\n",
        "path = './runs/detect/exp/crops/'  #폴더명 = 클래스명으로 잘린이미지가 각 클래스 폴더 안에 저장됨."
      ],
      "execution_count": 38,
      "outputs": []
    },
    {
      "cell_type": "code",
      "metadata": {
        "id": "jzrEOYqIpfLE"
      },
      "source": [
        "# ['gender','CARPAL', 'LMCP', 'MMCP', 'TMCP', 'LPIP', 'MPIP', 'IP']"
      ],
      "execution_count": null,
      "outputs": []
    },
    {
      "cell_type": "code",
      "metadata": {
        "colab": {
          "base_uri": "https://localhost:8080/",
          "height": 269
        },
        "id": "6roPq94RmmH_",
        "outputId": "6203d0a1-65ef-49e2-94f8-d9ae6bff05d6"
      },
      "source": [
        "import matplotlib.pyplot as plt\n",
        "import numpy as np\n",
        "%matplotlib inline\n",
        "plt.imshow(np.squeeze(result.render()))\n",
        "plt.show()"
      ],
      "execution_count": 37,
      "outputs": [
        {
          "output_type": "display_data",
          "data": {
            "image/png": "[encoded data removed]",
            "text/plain": [
              "<Figure size 432x288 with 1 Axes>"
            ]
          },
          "metadata": {
            "needs_background": "light"
          }
        }
      ]
    },
    {
      "cell_type": "code",
      "metadata": {
        "id": "APRORYlLnRUz"
      },
      "source": [
        "# 마지막에 폴더 삭제해주기.\n",
        "import shutil\n",
        "shutil.rmtree('/content/drive/MyDrive/team2/runs/detect/exp')"
      ],
      "execution_count": 41,
      "outputs": []
    }
  ]
}