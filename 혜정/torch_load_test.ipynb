{
  "nbformat": 4,
  "nbformat_minor": 0,
  "metadata": {
    "colab": {
      "name": "torch_load_test.ipynb의 사본",
      "provenance": [],
      "collapsed_sections": [],
      "mount_file_id": "15kLw821drb2kHBEFc2yAfc9MHTXdJr1d",
      "authorship_tag": "ABX9TyPQZMdle7EUNrW83rVLR3KQ",
      "include_colab_link": true
    },
    "kernelspec": {
      "name": "python3",
      "display_name": "Python 3"
    },
    "language_info": {
      "name": "python"
    }
  },
  "cells": [
    {
      "cell_type": "markdown",
      "metadata": {
        "id": "view-in-github",
        "colab_type": "text"
      },
      "source": [
        "<a href=\"https://colab.research.google.com/github/kikiru328/Bone_Detection/blob/main/%ED%98%9C%EC%A0%95/torch_load_test.ipynb\" target=\"_parent\"><img src=\"https://colab.research.google.com/assets/colab-badge.svg\" alt=\"Open In Colab\"/></a>"
      ]
    },
    {
      "cell_type": "markdown",
      "metadata": {
        "id": "cg6TRCG7p90K"
      },
      "source": [
        "공용폴더에 폴더(yolov5), 파일(custom_yolov5.pt) 업로드해뒀습니다."
      ]
    },
    {
      "cell_type": "code",
      "metadata": {
        "id": "C_faH3NfhfgR"
      },
      "source": [
        "# # 필요한 패키지\n",
        "# import os\n",
        "# # 현재 경로 확인\n",
        "# os.getcwd()\n",
        "# # 경로 설정\n",
        "# os.chdir('/content/drive/MyDrive/team2/yolov5')\n",
        "# %cp -r /content/drive/MyDrive/model.pt /content/drive/MyDrive/team2/yolov5/model.pt"
      ],
      "execution_count": 86,
      "outputs": []
    },
    {
      "cell_type": "code",
      "metadata": {
        "id": "fJn24VSD1MbA"
      },
      "source": [
        "img_path ='/content/drive/MyDrive/team2/preprocessing_done/female/101_F.jpg'\n",
        "model_path = '/content/drive/MyDrive/team2/yolov5'"
      ],
      "execution_count": 90,
      "outputs": []
    },
    {
      "cell_type": "code",
      "metadata": {
        "id": "-bBmfbMk2ZVl"
      },
      "source": [
        "crop = yolo_crop_img(img_path, model_path, result_out=False, show_crop=True)"
      ],
      "execution_count": null,
      "outputs": []
    },
    {
      "cell_type": "code",
      "metadata": {
        "id": "EYrWtetcqaBG"
      },
      "source": [
        "def yolo_crop_img(img_path, model_path, result_out=False, show_crop=False):\n",
        "  import os\n",
        "  os.chdir(model_path)\n",
        "  import torch\n",
        "  model = torch.load('./model.pt', map_location='cpu')\n",
        "  result = model(img_path)\n",
        "  crops = result.crop(save=False)\n",
        "  if result_out: return result, crops\n",
        "  if show_crop: show_img(result)\n",
        "  return crops\n",
        "\n",
        "def show_img(result):\n",
        "  import matplotlib.pyplot as plt\n",
        "  import numpy as np\n",
        "  %matplotlib inline\n",
        "  plt.figure(figsize=(16,12))\n",
        "  plt.imshow(np.squeeze(result.render()))\n",
        "  plt.show()\n",
        "\n",
        "def out_crop_img(crops, gender):\n",
        "  import re\n",
        "  for i in range(7):\n",
        "    carpal = re.compile('CARPAL.')\n",
        "    ip = re.compile('IP.')\n",
        "    lmcp = re.compile('LMCP.')\n",
        "    lpip = re.compile('LPIP.')\n",
        "    mmcp = re.compile('MMCP.')\n",
        "    mpip = re.compile('MPIP.')\n",
        "    tmcp = re.compile('TMCP.')\n",
        "\n",
        "    if carpal.search(crops[i]['label']):\n",
        "      CARPAL_img = crops[i]['im']\n",
        "    if ip.search(crops[i]['label']):\n",
        "      IP_img = crops[i]['im']\n",
        "    if lmcp.search(crops[i]['label']):\n",
        "      LMCP_img = crops[i]['im']\n",
        "    if lpip.search(crops[i]['label']):\n",
        "      LPIP_img = crops[i]['im']\n",
        "    if mmcp.search(crops[i]['label']):\n",
        "      MMCP_img = crops[i]['im']\n",
        "    if mpip.search(crops[i]['label']):\n",
        "      MPIP_img = crops[i]['im']\n",
        "    if tmcp.search(crops[i]['label']):\n",
        "      TMCP_img = crops[i]['im']\n",
        "    else : continue\n",
        "    # print(crops[i]['label'])\n",
        "\n",
        "    try:\n",
        "      CARPAL_img = cv2.resize(CARPAL_img, (224,224),cv2.INTER_AREA)\n",
        "      IP_img = cv2.resize(IP_img, (100,500),cv2.INTER_AREA)\n",
        "      LMCP_img = cv2.resize(LMCP_img, (100,500),cv2.INTER_AREA)\n",
        "      LPIP_img = cv2.resize(LPIP_img, (100,500),cv2.INTER_AREA)\n",
        "      MMCP_img = cv2.resize(MMCP_img, (100,500),cv2.INTER_AREA)\n",
        "      MPIP_img = cv2.resize(MPIP_img, (100,500),cv2.INTER_AREA)\n",
        "      TMCP_img = cv2.resize(TMCP_img, (100,500),cv2.INTER_AREA)\n",
        "    except: continue\n",
        "\n",
        "    return [CARPAL_img, IP_img, LMCP_img, LPIP_img, MMCP_img, MPIP_img, TMCP_img, gender]"
      ],
      "execution_count": 111,
      "outputs": []
    },
    {
      "cell_type": "code",
      "metadata": {
        "id": "V9DSaZ3q4JOw"
      },
      "source": [
        "ar = out_crop_img(crop, 1)"
      ],
      "execution_count": null,
      "outputs": []
    }
  ]
}