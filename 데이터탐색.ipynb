{
  "nbformat": 4,
  "nbformat_minor": 0,
  "metadata": {
    "colab": {
      "name": "데이터탐색.ipynb",
      "provenance": [],
      "collapsed_sections": [
        "Jm_PUtw84Icz",
        "pxN76sGgkUwE",
        "DFwdF-B_kUoi",
        "nngQlBCmkUhA",
        "O5BV--y1kUTQ"
      ],
      "machine_shape": "hm",
      "authorship_tag": "ABX9TyNYOIv6dX8t4NXQLyiBcKqz",
      "include_colab_link": true
    },
    "kernelspec": {
      "name": "python3",
      "display_name": "Python 3"
    },
    "language_info": {
      "name": "python"
    },
    "accelerator": "GPU"
  },
  "cells": [
    {
      "cell_type": "markdown",
      "metadata": {
        "id": "view-in-github",
        "colab_type": "text"
      },
      "source": [
        "<a href=\"https://colab.research.google.com/github/kikiru328/Bone_Detection/blob/main/%EB%8D%B0%EC%9D%B4%ED%84%B0%ED%83%90%EC%83%89.ipynb\" target=\"_parent\"><img src=\"https://colab.research.google.com/assets/colab-badge.svg\" alt=\"Open In Colab\"/></a>"
      ]
    },
    {
      "cell_type": "markdown",
      "metadata": {
        "id": "8dcV29juwEid"
      },
      "source": [
        "- 코드소스에 있는 데이터탐색 원본 파일이 없어서 갖고 있는 데이터 다 합쳐서 통합df 생성\n",
        "-  통합 df로 데이터 탐색\n",
        "- BA는 의사 두명의 평균값으로 새로운 컬럼 BA \n",
        "\n"
      ]
    },
    {
      "cell_type": "markdown",
      "metadata": {
        "id": "Jm_PUtw84Icz"
      },
      "source": [
        "## 데이터 불러오기"
      ]
    },
    {
      "cell_type": "code",
      "metadata": {
        "colab": {
          "base_uri": "https://localhost:8080/"
        },
        "id": "nUuxVSY0kfC4",
        "outputId": "bbcd6518-e78d-440c-9331-145aa96f6065"
      },
      "source": [
        "from google.colab import drive\n",
        "drive.mount('/content/drive')"
      ],
      "execution_count": 5,
      "outputs": [
        {
          "output_type": "stream",
          "name": "stdout",
          "text": [
            "Mounted at /content/drive\n"
          ]
        }
      ]
    },
    {
      "cell_type": "code",
      "metadata": {
        "id": "nJ4YB84gjpFW"
      },
      "source": [
        "import cv2\n",
        "import os\n",
        "import numpy as np\n",
        "import pandas as pd\n",
        "import matplotlib.pylab as plt\n",
        "import seaborn as sns\n",
        "import math\n",
        "%matplotlib inline"
      ],
      "execution_count": 6,
      "outputs": []
    },
    {
      "cell_type": "code",
      "metadata": {
        "colab": {
          "base_uri": "https://localhost:8080/"
        },
        "id": "9mOI3sFkl8MU",
        "outputId": "50823515-acce-4e79-e1f1-9f21e1c2a9ec"
      },
      "source": [
        "!pip install pickle5"
      ],
      "execution_count": 10,
      "outputs": [
        {
          "output_type": "stream",
          "name": "stdout",
          "text": [
            "Collecting pickle5\n",
            "  Downloading pickle5-0.0.11.tar.gz (132 kB)\n",
            "\u001b[?25l\r\u001b[K     |██▌                             | 10 kB 28.4 MB/s eta 0:00:01\r\u001b[K     |█████                           | 20 kB 20.6 MB/s eta 0:00:01\r\u001b[K     |███████▍                        | 30 kB 16.0 MB/s eta 0:00:01\r\u001b[K     |██████████                      | 40 kB 14.2 MB/s eta 0:00:01\r\u001b[K     |████████████▍                   | 51 kB 7.7 MB/s eta 0:00:01\r\u001b[K     |██████████████▉                 | 61 kB 9.0 MB/s eta 0:00:01\r\u001b[K     |█████████████████▍              | 71 kB 8.5 MB/s eta 0:00:01\r\u001b[K     |███████████████████▉            | 81 kB 9.5 MB/s eta 0:00:01\r\u001b[K     |██████████████████████▎         | 92 kB 7.4 MB/s eta 0:00:01\r\u001b[K     |████████████████████████▉       | 102 kB 7.8 MB/s eta 0:00:01\r\u001b[K     |███████████████████████████▎    | 112 kB 7.8 MB/s eta 0:00:01\r\u001b[K     |█████████████████████████████▊  | 122 kB 7.8 MB/s eta 0:00:01\r\u001b[K     |████████████████████████████████| 132 kB 7.8 MB/s \n",
            "\u001b[?25hBuilding wheels for collected packages: pickle5\n",
            "  Building wheel for pickle5 (setup.py) ... \u001b[?25l\u001b[?25hdone\n",
            "  Created wheel for pickle5: filename=pickle5-0.0.11-cp37-cp37m-linux_x86_64.whl size=219323 sha256=0943c819271a39ef06bb8dda57d24ae7ddc1399791e3e127fc9c24abd429c2f8\n",
            "  Stored in directory: /root/.cache/pip/wheels/7e/6a/00/67136a90d6aca437d806d1d3cedf98106e840c97a3e5188198\n",
            "Successfully built pickle5\n",
            "Installing collected packages: pickle5\n",
            "Successfully installed pickle5-0.0.11\n"
          ]
        }
      ]
    },
    {
      "cell_type": "markdown",
      "metadata": {
        "id": "pxN76sGgkUwE"
      },
      "source": [
        "## 데이터 탐색"
      ]
    },
    {
      "cell_type": "code",
      "metadata": {
        "colab": {
          "base_uri": "https://localhost:8080/"
        },
        "id": "hCcSPgzNkUtU",
        "outputId": "69298310-655a-438e-c331-c6ab12cb1063"
      },
      "source": [
        "df.isnull().sum()"
      ],
      "execution_count": 45,
      "outputs": [
        {
          "output_type": "execute_result",
          "data": {
            "text/plain": [
              "No.        0\n",
              "Group      0\n",
              "등록번호       0\n",
              "생년월일       0\n",
              "성별         0\n",
              "진료의        0\n",
              "검사 시 나이    0\n",
              "신장         0\n",
              "체중         0\n",
              "BMI        0\n",
              "처방일자       0\n",
              "시행일자       0\n",
              "BA 1       0\n",
              "BA 2       0\n",
              "dtype: int64"
            ]
          },
          "metadata": {},
          "execution_count": 45
        }
      ]
    },
    {
      "cell_type": "code",
      "metadata": {
        "colab": {
          "base_uri": "https://localhost:8080/",
          "height": 0
        },
        "id": "3tVc0gIZkUqw",
        "outputId": "cd0a56ae-6da9-47e3-9227-f839b5d3764d"
      },
      "source": [
        "df.describe()"
      ],
      "execution_count": 46,
      "outputs": [
        {
          "output_type": "execute_result",
          "data": {
            "text/html": [
              "<div>\n",
              "<style scoped>\n",
              "    .dataframe tbody tr th:only-of-type {\n",
              "        vertical-align: middle;\n",
              "    }\n",
              "\n",
              "    .dataframe tbody tr th {\n",
              "        vertical-align: top;\n",
              "    }\n",
              "\n",
              "    .dataframe thead th {\n",
              "        text-align: right;\n",
              "    }\n",
              "</style>\n",
              "<table border=\"1\" class=\"dataframe\">\n",
              "  <thead>\n",
              "    <tr style=\"text-align: right;\">\n",
              "      <th></th>\n",
              "      <th>Group</th>\n",
              "      <th>등록번호</th>\n",
              "      <th>성별</th>\n",
              "      <th>검사 시 나이</th>\n",
              "      <th>신장</th>\n",
              "      <th>체중</th>\n",
              "      <th>BMI</th>\n",
              "      <th>BA 1</th>\n",
              "      <th>BA 2</th>\n",
              "    </tr>\n",
              "  </thead>\n",
              "  <tbody>\n",
              "    <tr>\n",
              "      <th>count</th>\n",
              "      <td>378.000000</td>\n",
              "      <td>3.780000e+02</td>\n",
              "      <td>378.000000</td>\n",
              "      <td>378.000000</td>\n",
              "      <td>378.000000</td>\n",
              "      <td>378.000000</td>\n",
              "      <td>378.000000</td>\n",
              "      <td>378.000000</td>\n",
              "      <td>378.000000</td>\n",
              "    </tr>\n",
              "    <tr>\n",
              "      <th>mean</th>\n",
              "      <td>1223.706349</td>\n",
              "      <td>7.544013e+06</td>\n",
              "      <td>1.579365</td>\n",
              "      <td>10.681612</td>\n",
              "      <td>135.976190</td>\n",
              "      <td>34.581746</td>\n",
              "      <td>17.931217</td>\n",
              "      <td>10.744048</td>\n",
              "      <td>10.694444</td>\n",
              "    </tr>\n",
              "    <tr>\n",
              "      <th>std</th>\n",
              "      <td>620.349791</td>\n",
              "      <td>1.207052e+06</td>\n",
              "      <td>0.494315</td>\n",
              "      <td>3.365552</td>\n",
              "      <td>18.466414</td>\n",
              "      <td>13.077332</td>\n",
              "      <td>2.954443</td>\n",
              "      <td>3.816471</td>\n",
              "      <td>3.858689</td>\n",
              "    </tr>\n",
              "    <tr>\n",
              "      <th>min</th>\n",
              "      <td>9.000000</td>\n",
              "      <td>3.323383e+06</td>\n",
              "      <td>1.000000</td>\n",
              "      <td>2.953425</td>\n",
              "      <td>88.200000</td>\n",
              "      <td>10.300000</td>\n",
              "      <td>8.700000</td>\n",
              "      <td>1.750000</td>\n",
              "      <td>1.500000</td>\n",
              "    </tr>\n",
              "    <tr>\n",
              "      <th>25%</th>\n",
              "      <td>667.000000</td>\n",
              "      <td>7.369624e+06</td>\n",
              "      <td>1.000000</td>\n",
              "      <td>7.458219</td>\n",
              "      <td>119.975000</td>\n",
              "      <td>23.125000</td>\n",
              "      <td>15.800000</td>\n",
              "      <td>7.000000</td>\n",
              "      <td>7.000000</td>\n",
              "    </tr>\n",
              "    <tr>\n",
              "      <th>50%</th>\n",
              "      <td>1411.000000</td>\n",
              "      <td>7.919978e+06</td>\n",
              "      <td>2.000000</td>\n",
              "      <td>11.227397</td>\n",
              "      <td>140.450000</td>\n",
              "      <td>34.200000</td>\n",
              "      <td>17.450000</td>\n",
              "      <td>11.250000</td>\n",
              "      <td>11.500000</td>\n",
              "    </tr>\n",
              "    <tr>\n",
              "      <th>75%</th>\n",
              "      <td>1743.000000</td>\n",
              "      <td>8.310500e+06</td>\n",
              "      <td>2.000000</td>\n",
              "      <td>13.245205</td>\n",
              "      <td>150.000000</td>\n",
              "      <td>43.475000</td>\n",
              "      <td>19.600000</td>\n",
              "      <td>14.000000</td>\n",
              "      <td>14.000000</td>\n",
              "    </tr>\n",
              "    <tr>\n",
              "      <th>max</th>\n",
              "      <td>2116.000000</td>\n",
              "      <td>1.018294e+07</td>\n",
              "      <td>2.000000</td>\n",
              "      <td>17.775342</td>\n",
              "      <td>172.100000</td>\n",
              "      <td>76.000000</td>\n",
              "      <td>29.400000</td>\n",
              "      <td>17.000000</td>\n",
              "      <td>17.000000</td>\n",
              "    </tr>\n",
              "  </tbody>\n",
              "</table>\n",
              "</div>"
            ],
            "text/plain": [
              "             Group          등록번호  ...        BA 1        BA 2\n",
              "count   378.000000  3.780000e+02  ...  378.000000  378.000000\n",
              "mean   1223.706349  7.544013e+06  ...   10.744048   10.694444\n",
              "std     620.349791  1.207052e+06  ...    3.816471    3.858689\n",
              "min       9.000000  3.323383e+06  ...    1.750000    1.500000\n",
              "25%     667.000000  7.369624e+06  ...    7.000000    7.000000\n",
              "50%    1411.000000  7.919978e+06  ...   11.250000   11.500000\n",
              "75%    1743.000000  8.310500e+06  ...   14.000000   14.000000\n",
              "max    2116.000000  1.018294e+07  ...   17.000000   17.000000\n",
              "\n",
              "[8 rows x 9 columns]"
            ]
          },
          "metadata": {},
          "execution_count": 46
        }
      ]
    },
    {
      "cell_type": "code",
      "metadata": {
        "colab": {
          "base_uri": "https://localhost:8080/",
          "height": 0
        },
        "id": "x8H8Z3NVnt45",
        "outputId": "f3bf9b0e-e3f2-4569-c770-83e15cf1ff0a"
      },
      "source": [
        "df_add= df['BA 1']+df['BA 2']\n",
        "df['BA'] = df_add/2\n",
        "df"
      ],
      "execution_count": 47,
      "outputs": [
        {
          "output_type": "execute_result",
          "data": {
            "text/html": [
              "<div>\n",
              "<style scoped>\n",
              "    .dataframe tbody tr th:only-of-type {\n",
              "        vertical-align: middle;\n",
              "    }\n",
              "\n",
              "    .dataframe tbody tr th {\n",
              "        vertical-align: top;\n",
              "    }\n",
              "\n",
              "    .dataframe thead th {\n",
              "        text-align: right;\n",
              "    }\n",
              "</style>\n",
              "<table border=\"1\" class=\"dataframe\">\n",
              "  <thead>\n",
              "    <tr style=\"text-align: right;\">\n",
              "      <th></th>\n",
              "      <th>No.</th>\n",
              "      <th>Group</th>\n",
              "      <th>등록번호</th>\n",
              "      <th>생년월일</th>\n",
              "      <th>성별</th>\n",
              "      <th>진료의</th>\n",
              "      <th>검사 시 나이</th>\n",
              "      <th>신장</th>\n",
              "      <th>체중</th>\n",
              "      <th>BMI</th>\n",
              "      <th>처방일자</th>\n",
              "      <th>시행일자</th>\n",
              "      <th>BA 1</th>\n",
              "      <th>BA 2</th>\n",
              "      <th>BA</th>\n",
              "    </tr>\n",
              "  </thead>\n",
              "  <tbody>\n",
              "    <tr>\n",
              "      <th>0</th>\n",
              "      <td>310</td>\n",
              "      <td>1698</td>\n",
              "      <td>8255049</td>\n",
              "      <td>2007-08-03</td>\n",
              "      <td>2</td>\n",
              "      <td>1</td>\n",
              "      <td>9.969863</td>\n",
              "      <td>129.5</td>\n",
              "      <td>26.9</td>\n",
              "      <td>16.1</td>\n",
              "      <td>2017-01-09</td>\n",
              "      <td>2017-07-20</td>\n",
              "      <td>9.75</td>\n",
              "      <td>9.75</td>\n",
              "      <td>9.750</td>\n",
              "    </tr>\n",
              "    <tr>\n",
              "      <th>1</th>\n",
              "      <td>311</td>\n",
              "      <td>1897</td>\n",
              "      <td>8537405</td>\n",
              "      <td>2008-08-22</td>\n",
              "      <td>2</td>\n",
              "      <td>1</td>\n",
              "      <td>9.989041</td>\n",
              "      <td>132.0</td>\n",
              "      <td>31.0</td>\n",
              "      <td>17.8</td>\n",
              "      <td>2018-02-28</td>\n",
              "      <td>2018-08-16</td>\n",
              "      <td>10.50</td>\n",
              "      <td>11.00</td>\n",
              "      <td>10.750</td>\n",
              "    </tr>\n",
              "    <tr>\n",
              "      <th>2</th>\n",
              "      <td>312</td>\n",
              "      <td>1422</td>\n",
              "      <td>7942635</td>\n",
              "      <td>2005-01-19</td>\n",
              "      <td>2</td>\n",
              "      <td>1</td>\n",
              "      <td>10.008219</td>\n",
              "      <td>136.4</td>\n",
              "      <td>33.2</td>\n",
              "      <td>17.9</td>\n",
              "      <td>2015-01-20</td>\n",
              "      <td>2015-01-20</td>\n",
              "      <td>11.00</td>\n",
              "      <td>11.25</td>\n",
              "      <td>11.125</td>\n",
              "    </tr>\n",
              "    <tr>\n",
              "      <th>3</th>\n",
              "      <td>313</td>\n",
              "      <td>1475</td>\n",
              "      <td>7995857</td>\n",
              "      <td>2005-02-09</td>\n",
              "      <td>2</td>\n",
              "      <td>1</td>\n",
              "      <td>10.049315</td>\n",
              "      <td>133.5</td>\n",
              "      <td>31.2</td>\n",
              "      <td>17.6</td>\n",
              "      <td>2015-02-25</td>\n",
              "      <td>2015-02-25</td>\n",
              "      <td>10.00</td>\n",
              "      <td>10.25</td>\n",
              "      <td>10.125</td>\n",
              "    </tr>\n",
              "    <tr>\n",
              "      <th>4</th>\n",
              "      <td>314</td>\n",
              "      <td>1888</td>\n",
              "      <td>8520261</td>\n",
              "      <td>2008-09-11</td>\n",
              "      <td>2</td>\n",
              "      <td>1</td>\n",
              "      <td>10.060274</td>\n",
              "      <td>130.6</td>\n",
              "      <td>23.7</td>\n",
              "      <td>13.9</td>\n",
              "      <td>2018-10-01</td>\n",
              "      <td>2018-10-01</td>\n",
              "      <td>10.00</td>\n",
              "      <td>9.75</td>\n",
              "      <td>9.875</td>\n",
              "    </tr>\n",
              "    <tr>\n",
              "      <th>...</th>\n",
              "      <td>...</td>\n",
              "      <td>...</td>\n",
              "      <td>...</td>\n",
              "      <td>...</td>\n",
              "      <td>...</td>\n",
              "      <td>...</td>\n",
              "      <td>...</td>\n",
              "      <td>...</td>\n",
              "      <td>...</td>\n",
              "      <td>...</td>\n",
              "      <td>...</td>\n",
              "      <td>...</td>\n",
              "      <td>...</td>\n",
              "      <td>...</td>\n",
              "      <td>...</td>\n",
              "    </tr>\n",
              "    <tr>\n",
              "      <th>45</th>\n",
              "      <td>227_M</td>\n",
              "      <td>1995</td>\n",
              "      <td>8680666</td>\n",
              "      <td>2011-07-16</td>\n",
              "      <td>1</td>\n",
              "      <td>1</td>\n",
              "      <td>7.852055</td>\n",
              "      <td>122.1</td>\n",
              "      <td>23.2</td>\n",
              "      <td>15.6</td>\n",
              "      <td>2018-11-20</td>\n",
              "      <td>2019-05-21</td>\n",
              "      <td>6.50</td>\n",
              "      <td>6.50</td>\n",
              "      <td>6.500</td>\n",
              "    </tr>\n",
              "    <tr>\n",
              "      <th>46</th>\n",
              "      <td>228_M</td>\n",
              "      <td>1818</td>\n",
              "      <td>8412353</td>\n",
              "      <td>2012-03-07</td>\n",
              "      <td>1</td>\n",
              "      <td>2</td>\n",
              "      <td>7.879452</td>\n",
              "      <td>119.1</td>\n",
              "      <td>27.6</td>\n",
              "      <td>19.5</td>\n",
              "      <td>2019-07-23</td>\n",
              "      <td>2020-01-21</td>\n",
              "      <td>6.50</td>\n",
              "      <td>6.00</td>\n",
              "      <td>6.250</td>\n",
              "    </tr>\n",
              "    <tr>\n",
              "      <th>47</th>\n",
              "      <td>229_M</td>\n",
              "      <td>1706</td>\n",
              "      <td>8264892</td>\n",
              "      <td>2008-07-29</td>\n",
              "      <td>1</td>\n",
              "      <td>1</td>\n",
              "      <td>7.887671</td>\n",
              "      <td>125.1</td>\n",
              "      <td>27.3</td>\n",
              "      <td>17.5</td>\n",
              "      <td>2016-06-16</td>\n",
              "      <td>2016-06-16</td>\n",
              "      <td>7.00</td>\n",
              "      <td>6.50</td>\n",
              "      <td>6.750</td>\n",
              "    </tr>\n",
              "    <tr>\n",
              "      <th>48</th>\n",
              "      <td>230_M</td>\n",
              "      <td>228</td>\n",
              "      <td>5889504</td>\n",
              "      <td>2006-09-15</td>\n",
              "      <td>1</td>\n",
              "      <td>1</td>\n",
              "      <td>7.890411</td>\n",
              "      <td>121.0</td>\n",
              "      <td>23.2</td>\n",
              "      <td>15.9</td>\n",
              "      <td>2014-01-20</td>\n",
              "      <td>2014-08-04</td>\n",
              "      <td>6.50</td>\n",
              "      <td>6.25</td>\n",
              "      <td>6.375</td>\n",
              "    </tr>\n",
              "    <tr>\n",
              "      <th>49</th>\n",
              "      <td>231_M</td>\n",
              "      <td>2005</td>\n",
              "      <td>8694357</td>\n",
              "      <td>2011-07-29</td>\n",
              "      <td>1</td>\n",
              "      <td>1</td>\n",
              "      <td>7.893151</td>\n",
              "      <td>119.8</td>\n",
              "      <td>24.4</td>\n",
              "      <td>17.1</td>\n",
              "      <td>2018-12-04</td>\n",
              "      <td>2019-06-18</td>\n",
              "      <td>7.50</td>\n",
              "      <td>8.00</td>\n",
              "      <td>7.750</td>\n",
              "    </tr>\n",
              "  </tbody>\n",
              "</table>\n",
              "<p>378 rows × 15 columns</p>\n",
              "</div>"
            ],
            "text/plain": [
              "      No.  Group     등록번호        생년월일  ...        시행일자   BA 1   BA 2      BA\n",
              "0     310   1698  8255049  2007-08-03  ...  2017-07-20   9.75   9.75   9.750\n",
              "1     311   1897  8537405  2008-08-22  ...  2018-08-16  10.50  11.00  10.750\n",
              "2     312   1422  7942635  2005-01-19  ...  2015-01-20  11.00  11.25  11.125\n",
              "3     313   1475  7995857  2005-02-09  ...  2015-02-25  10.00  10.25  10.125\n",
              "4     314   1888  8520261  2008-09-11  ...  2018-10-01  10.00   9.75   9.875\n",
              "..    ...    ...      ...         ...  ...         ...    ...    ...     ...\n",
              "45  227_M   1995  8680666  2011-07-16  ...  2019-05-21   6.50   6.50   6.500\n",
              "46  228_M   1818  8412353  2012-03-07  ...  2020-01-21   6.50   6.00   6.250\n",
              "47  229_M   1706  8264892  2008-07-29  ...  2016-06-16   7.00   6.50   6.750\n",
              "48  230_M    228  5889504  2006-09-15  ...  2014-08-04   6.50   6.25   6.375\n",
              "49  231_M   2005  8694357  2011-07-29  ...  2019-06-18   7.50   8.00   7.750\n",
              "\n",
              "[378 rows x 15 columns]"
            ]
          },
          "metadata": {},
          "execution_count": 47
        }
      ]
    },
    {
      "cell_type": "code",
      "metadata": {
        "colab": {
          "base_uri": "https://localhost:8080/",
          "height": 0
        },
        "id": "cVBaSIB5oKA3",
        "outputId": "c113df30-97b7-4a17-f9e0-8e6ec769e27a"
      },
      "source": [
        "df= df.drop(['BA 1','BA 2'],axis=1)\n",
        "df.head()"
      ],
      "execution_count": 48,
      "outputs": [
        {
          "output_type": "execute_result",
          "data": {
            "text/html": [
              "<div>\n",
              "<style scoped>\n",
              "    .dataframe tbody tr th:only-of-type {\n",
              "        vertical-align: middle;\n",
              "    }\n",
              "\n",
              "    .dataframe tbody tr th {\n",
              "        vertical-align: top;\n",
              "    }\n",
              "\n",
              "    .dataframe thead th {\n",
              "        text-align: right;\n",
              "    }\n",
              "</style>\n",
              "<table border=\"1\" class=\"dataframe\">\n",
              "  <thead>\n",
              "    <tr style=\"text-align: right;\">\n",
              "      <th></th>\n",
              "      <th>No.</th>\n",
              "      <th>Group</th>\n",
              "      <th>등록번호</th>\n",
              "      <th>생년월일</th>\n",
              "      <th>성별</th>\n",
              "      <th>진료의</th>\n",
              "      <th>검사 시 나이</th>\n",
              "      <th>신장</th>\n",
              "      <th>체중</th>\n",
              "      <th>BMI</th>\n",
              "      <th>처방일자</th>\n",
              "      <th>시행일자</th>\n",
              "      <th>BA</th>\n",
              "    </tr>\n",
              "  </thead>\n",
              "  <tbody>\n",
              "    <tr>\n",
              "      <th>0</th>\n",
              "      <td>310</td>\n",
              "      <td>1698</td>\n",
              "      <td>8255049</td>\n",
              "      <td>2007-08-03</td>\n",
              "      <td>2</td>\n",
              "      <td>1</td>\n",
              "      <td>9.969863</td>\n",
              "      <td>129.5</td>\n",
              "      <td>26.9</td>\n",
              "      <td>16.1</td>\n",
              "      <td>2017-01-09</td>\n",
              "      <td>2017-07-20</td>\n",
              "      <td>9.750</td>\n",
              "    </tr>\n",
              "    <tr>\n",
              "      <th>1</th>\n",
              "      <td>311</td>\n",
              "      <td>1897</td>\n",
              "      <td>8537405</td>\n",
              "      <td>2008-08-22</td>\n",
              "      <td>2</td>\n",
              "      <td>1</td>\n",
              "      <td>9.989041</td>\n",
              "      <td>132.0</td>\n",
              "      <td>31.0</td>\n",
              "      <td>17.8</td>\n",
              "      <td>2018-02-28</td>\n",
              "      <td>2018-08-16</td>\n",
              "      <td>10.750</td>\n",
              "    </tr>\n",
              "    <tr>\n",
              "      <th>2</th>\n",
              "      <td>312</td>\n",
              "      <td>1422</td>\n",
              "      <td>7942635</td>\n",
              "      <td>2005-01-19</td>\n",
              "      <td>2</td>\n",
              "      <td>1</td>\n",
              "      <td>10.008219</td>\n",
              "      <td>136.4</td>\n",
              "      <td>33.2</td>\n",
              "      <td>17.9</td>\n",
              "      <td>2015-01-20</td>\n",
              "      <td>2015-01-20</td>\n",
              "      <td>11.125</td>\n",
              "    </tr>\n",
              "    <tr>\n",
              "      <th>3</th>\n",
              "      <td>313</td>\n",
              "      <td>1475</td>\n",
              "      <td>7995857</td>\n",
              "      <td>2005-02-09</td>\n",
              "      <td>2</td>\n",
              "      <td>1</td>\n",
              "      <td>10.049315</td>\n",
              "      <td>133.5</td>\n",
              "      <td>31.2</td>\n",
              "      <td>17.6</td>\n",
              "      <td>2015-02-25</td>\n",
              "      <td>2015-02-25</td>\n",
              "      <td>10.125</td>\n",
              "    </tr>\n",
              "    <tr>\n",
              "      <th>4</th>\n",
              "      <td>314</td>\n",
              "      <td>1888</td>\n",
              "      <td>8520261</td>\n",
              "      <td>2008-09-11</td>\n",
              "      <td>2</td>\n",
              "      <td>1</td>\n",
              "      <td>10.060274</td>\n",
              "      <td>130.6</td>\n",
              "      <td>23.7</td>\n",
              "      <td>13.9</td>\n",
              "      <td>2018-10-01</td>\n",
              "      <td>2018-10-01</td>\n",
              "      <td>9.875</td>\n",
              "    </tr>\n",
              "  </tbody>\n",
              "</table>\n",
              "</div>"
            ],
            "text/plain": [
              "   No.  Group     등록번호        생년월일  ...   BMI        처방일자        시행일자      BA\n",
              "0  310   1698  8255049  2007-08-03  ...  16.1  2017-01-09  2017-07-20   9.750\n",
              "1  311   1897  8537405  2008-08-22  ...  17.8  2018-02-28  2018-08-16  10.750\n",
              "2  312   1422  7942635  2005-01-19  ...  17.9  2015-01-20  2015-01-20  11.125\n",
              "3  313   1475  7995857  2005-02-09  ...  17.6  2015-02-25  2015-02-25  10.125\n",
              "4  314   1888  8520261  2008-09-11  ...  13.9  2018-10-01  2018-10-01   9.875\n",
              "\n",
              "[5 rows x 13 columns]"
            ]
          },
          "metadata": {},
          "execution_count": 48
        }
      ]
    },
    {
      "cell_type": "markdown",
      "metadata": {
        "id": "DFwdF-B_kUoi"
      },
      "source": [
        "## 골연령 그래프"
      ]
    },
    {
      "cell_type": "code",
      "metadata": {
        "colab": {
          "base_uri": "https://localhost:8080/",
          "height": 0
        },
        "id": "0WcKbsDAkUlw",
        "outputId": "f2f7d601-fa10-4d8b-c792-1e56f277590a"
      },
      "source": [
        "# 파생변수 골연령(개월), 정규화된 값 추가\n",
        "df['boneage']= df.BA*12    # 골개월\n",
        "ba_mean= df.boneage.mean()\n",
        "ba_std= df.boneage.std()\n",
        "df['BA_std']= df.boneage.std()\n",
        "df['BA_z'] = (df.boneage-ba_mean)/ba_std     # 정규화\n",
        "df.head()"
      ],
      "execution_count": 49,
      "outputs": [
        {
          "output_type": "execute_result",
          "data": {
            "text/html": [
              "<div>\n",
              "<style scoped>\n",
              "    .dataframe tbody tr th:only-of-type {\n",
              "        vertical-align: middle;\n",
              "    }\n",
              "\n",
              "    .dataframe tbody tr th {\n",
              "        vertical-align: top;\n",
              "    }\n",
              "\n",
              "    .dataframe thead th {\n",
              "        text-align: right;\n",
              "    }\n",
              "</style>\n",
              "<table border=\"1\" class=\"dataframe\">\n",
              "  <thead>\n",
              "    <tr style=\"text-align: right;\">\n",
              "      <th></th>\n",
              "      <th>No.</th>\n",
              "      <th>Group</th>\n",
              "      <th>등록번호</th>\n",
              "      <th>생년월일</th>\n",
              "      <th>성별</th>\n",
              "      <th>진료의</th>\n",
              "      <th>검사 시 나이</th>\n",
              "      <th>신장</th>\n",
              "      <th>체중</th>\n",
              "      <th>BMI</th>\n",
              "      <th>처방일자</th>\n",
              "      <th>시행일자</th>\n",
              "      <th>BA</th>\n",
              "      <th>boneage</th>\n",
              "      <th>BA_std</th>\n",
              "      <th>BA_z</th>\n",
              "    </tr>\n",
              "  </thead>\n",
              "  <tbody>\n",
              "    <tr>\n",
              "      <th>0</th>\n",
              "      <td>310</td>\n",
              "      <td>1698</td>\n",
              "      <td>8255049</td>\n",
              "      <td>2007-08-03</td>\n",
              "      <td>2</td>\n",
              "      <td>1</td>\n",
              "      <td>9.969863</td>\n",
              "      <td>129.5</td>\n",
              "      <td>26.9</td>\n",
              "      <td>16.1</td>\n",
              "      <td>2017-01-09</td>\n",
              "      <td>2017-07-20</td>\n",
              "      <td>9.750</td>\n",
              "      <td>117.0</td>\n",
              "      <td>45.943694</td>\n",
              "      <td>-0.253157</td>\n",
              "    </tr>\n",
              "    <tr>\n",
              "      <th>1</th>\n",
              "      <td>311</td>\n",
              "      <td>1897</td>\n",
              "      <td>8537405</td>\n",
              "      <td>2008-08-22</td>\n",
              "      <td>2</td>\n",
              "      <td>1</td>\n",
              "      <td>9.989041</td>\n",
              "      <td>132.0</td>\n",
              "      <td>31.0</td>\n",
              "      <td>17.8</td>\n",
              "      <td>2018-02-28</td>\n",
              "      <td>2018-08-16</td>\n",
              "      <td>10.750</td>\n",
              "      <td>129.0</td>\n",
              "      <td>45.943694</td>\n",
              "      <td>0.008033</td>\n",
              "    </tr>\n",
              "    <tr>\n",
              "      <th>2</th>\n",
              "      <td>312</td>\n",
              "      <td>1422</td>\n",
              "      <td>7942635</td>\n",
              "      <td>2005-01-19</td>\n",
              "      <td>2</td>\n",
              "      <td>1</td>\n",
              "      <td>10.008219</td>\n",
              "      <td>136.4</td>\n",
              "      <td>33.2</td>\n",
              "      <td>17.9</td>\n",
              "      <td>2015-01-20</td>\n",
              "      <td>2015-01-20</td>\n",
              "      <td>11.125</td>\n",
              "      <td>133.5</td>\n",
              "      <td>45.943694</td>\n",
              "      <td>0.105979</td>\n",
              "    </tr>\n",
              "    <tr>\n",
              "      <th>3</th>\n",
              "      <td>313</td>\n",
              "      <td>1475</td>\n",
              "      <td>7995857</td>\n",
              "      <td>2005-02-09</td>\n",
              "      <td>2</td>\n",
              "      <td>1</td>\n",
              "      <td>10.049315</td>\n",
              "      <td>133.5</td>\n",
              "      <td>31.2</td>\n",
              "      <td>17.6</td>\n",
              "      <td>2015-02-25</td>\n",
              "      <td>2015-02-25</td>\n",
              "      <td>10.125</td>\n",
              "      <td>121.5</td>\n",
              "      <td>45.943694</td>\n",
              "      <td>-0.155211</td>\n",
              "    </tr>\n",
              "    <tr>\n",
              "      <th>4</th>\n",
              "      <td>314</td>\n",
              "      <td>1888</td>\n",
              "      <td>8520261</td>\n",
              "      <td>2008-09-11</td>\n",
              "      <td>2</td>\n",
              "      <td>1</td>\n",
              "      <td>10.060274</td>\n",
              "      <td>130.6</td>\n",
              "      <td>23.7</td>\n",
              "      <td>13.9</td>\n",
              "      <td>2018-10-01</td>\n",
              "      <td>2018-10-01</td>\n",
              "      <td>9.875</td>\n",
              "      <td>118.5</td>\n",
              "      <td>45.943694</td>\n",
              "      <td>-0.220508</td>\n",
              "    </tr>\n",
              "  </tbody>\n",
              "</table>\n",
              "</div>"
            ],
            "text/plain": [
              "   No.  Group     등록번호        생년월일  ...      BA boneage     BA_std      BA_z\n",
              "0  310   1698  8255049  2007-08-03  ...   9.750   117.0  45.943694 -0.253157\n",
              "1  311   1897  8537405  2008-08-22  ...  10.750   129.0  45.943694  0.008033\n",
              "2  312   1422  7942635  2005-01-19  ...  11.125   133.5  45.943694  0.105979\n",
              "3  313   1475  7995857  2005-02-09  ...  10.125   121.5  45.943694 -0.155211\n",
              "4  314   1888  8520261  2008-09-11  ...   9.875   118.5  45.943694 -0.220508\n",
              "\n",
              "[5 rows x 16 columns]"
            ]
          },
          "metadata": {},
          "execution_count": 49
        }
      ]
    },
    {
      "cell_type": "code",
      "metadata": {
        "colab": {
          "base_uri": "https://localhost:8080/",
          "height": 0
        },
        "id": "oLNcVxBQpv0l",
        "outputId": "54346254-bb85-4f13-d96a-e2ca9c2a2c03"
      },
      "source": [
        "plt.figure(figsize=(10,6))\n",
        "plt.hist(df['boneage'],bins=9)\n",
        "plt.xlabel('Bone Age(months)', fontsize=16)\n",
        "plt.ylabel('Count',fontsize=16)\n",
        "plt.show()\n"
      ],
      "execution_count": 50,
      "outputs": [
        {
          "output_type": "display_data",
          "data": {
            "image/png": "[encoded data removed]",
            "text/plain": [
              "<Figure size 720x432 with 1 Axes>"
            ]
          },
          "metadata": {
            "needs_background": "light"
          }
        }
      ]
    },
    {
      "cell_type": "code",
      "metadata": {
        "colab": {
          "base_uri": "https://localhost:8080/",
          "height": 0
        },
        "id": "993TiBr4kUjR",
        "outputId": "4042c53a-77a3-4edd-8272-9078f87f3036"
      },
      "source": [
        "plt.figure(figsize=(10,6))\n",
        "m= df['성별'].loc[df['성별']==1]\n",
        "f= df['성별'].loc[df['성별']==2]\n",
        "plt.hist([m,f],bins=2)\n",
        "plt.xlabel('male',fontsize=16)\n",
        "plt.ylabel('female',fontsize=16)\n",
        "plt.show()"
      ],
      "execution_count": 51,
      "outputs": [
        {
          "output_type": "stream",
          "name": "stderr",
          "text": [
            "/usr/local/lib/python3.7/dist-packages/numpy/core/_asarray.py:83: VisibleDeprecationWarning: Creating an ndarray from ragged nested sequences (which is a list-or-tuple of lists-or-tuples-or ndarrays with different lengths or shapes) is deprecated. If you meant to do this, you must specify 'dtype=object' when creating the ndarray\n",
            "  return array(a, dtype, copy=False, order=order)\n"
          ]
        },
        {
          "output_type": "display_data",
          "data": {
            "image/png": "[encoded data removed]",
            "text/plain": [
              "<Figure size 720x432 with 1 Axes>"
            ]
          },
          "metadata": {
            "needs_background": "light"
          }
        }
      ]
    },
    {
      "cell_type": "markdown",
      "metadata": {
        "id": "nngQlBCmkUhA"
      },
      "source": [
        "## 성별- 골연령 히스토그램"
      ]
    },
    {
      "cell_type": "code",
      "metadata": {
        "colab": {
          "base_uri": "https://localhost:8080/",
          "height": 0
        },
        "id": "QNR_AW09kUeg",
        "outputId": "baba20e4-446b-4376-eca7-cc42730baae7"
      },
      "source": [
        "# 파생변수 골연령대 추가\n",
        "df['BA_GROUP'] = df['BA'].map(lambda x: int(x)) # 나이 int값만\n",
        "df.head()\n"
      ],
      "execution_count": 52,
      "outputs": [
        {
          "output_type": "execute_result",
          "data": {
            "text/html": [
              "<div>\n",
              "<style scoped>\n",
              "    .dataframe tbody tr th:only-of-type {\n",
              "        vertical-align: middle;\n",
              "    }\n",
              "\n",
              "    .dataframe tbody tr th {\n",
              "        vertical-align: top;\n",
              "    }\n",
              "\n",
              "    .dataframe thead th {\n",
              "        text-align: right;\n",
              "    }\n",
              "</style>\n",
              "<table border=\"1\" class=\"dataframe\">\n",
              "  <thead>\n",
              "    <tr style=\"text-align: right;\">\n",
              "      <th></th>\n",
              "      <th>No.</th>\n",
              "      <th>Group</th>\n",
              "      <th>등록번호</th>\n",
              "      <th>생년월일</th>\n",
              "      <th>성별</th>\n",
              "      <th>진료의</th>\n",
              "      <th>검사 시 나이</th>\n",
              "      <th>신장</th>\n",
              "      <th>체중</th>\n",
              "      <th>BMI</th>\n",
              "      <th>처방일자</th>\n",
              "      <th>시행일자</th>\n",
              "      <th>BA</th>\n",
              "      <th>boneage</th>\n",
              "      <th>BA_std</th>\n",
              "      <th>BA_z</th>\n",
              "      <th>BA_GROUP</th>\n",
              "    </tr>\n",
              "  </thead>\n",
              "  <tbody>\n",
              "    <tr>\n",
              "      <th>0</th>\n",
              "      <td>310</td>\n",
              "      <td>1698</td>\n",
              "      <td>8255049</td>\n",
              "      <td>2007-08-03</td>\n",
              "      <td>2</td>\n",
              "      <td>1</td>\n",
              "      <td>9.969863</td>\n",
              "      <td>129.5</td>\n",
              "      <td>26.9</td>\n",
              "      <td>16.1</td>\n",
              "      <td>2017-01-09</td>\n",
              "      <td>2017-07-20</td>\n",
              "      <td>9.750</td>\n",
              "      <td>117.0</td>\n",
              "      <td>45.943694</td>\n",
              "      <td>-0.253157</td>\n",
              "      <td>9</td>\n",
              "    </tr>\n",
              "    <tr>\n",
              "      <th>1</th>\n",
              "      <td>311</td>\n",
              "      <td>1897</td>\n",
              "      <td>8537405</td>\n",
              "      <td>2008-08-22</td>\n",
              "      <td>2</td>\n",
              "      <td>1</td>\n",
              "      <td>9.989041</td>\n",
              "      <td>132.0</td>\n",
              "      <td>31.0</td>\n",
              "      <td>17.8</td>\n",
              "      <td>2018-02-28</td>\n",
              "      <td>2018-08-16</td>\n",
              "      <td>10.750</td>\n",
              "      <td>129.0</td>\n",
              "      <td>45.943694</td>\n",
              "      <td>0.008033</td>\n",
              "      <td>10</td>\n",
              "    </tr>\n",
              "    <tr>\n",
              "      <th>2</th>\n",
              "      <td>312</td>\n",
              "      <td>1422</td>\n",
              "      <td>7942635</td>\n",
              "      <td>2005-01-19</td>\n",
              "      <td>2</td>\n",
              "      <td>1</td>\n",
              "      <td>10.008219</td>\n",
              "      <td>136.4</td>\n",
              "      <td>33.2</td>\n",
              "      <td>17.9</td>\n",
              "      <td>2015-01-20</td>\n",
              "      <td>2015-01-20</td>\n",
              "      <td>11.125</td>\n",
              "      <td>133.5</td>\n",
              "      <td>45.943694</td>\n",
              "      <td>0.105979</td>\n",
              "      <td>11</td>\n",
              "    </tr>\n",
              "    <tr>\n",
              "      <th>3</th>\n",
              "      <td>313</td>\n",
              "      <td>1475</td>\n",
              "      <td>7995857</td>\n",
              "      <td>2005-02-09</td>\n",
              "      <td>2</td>\n",
              "      <td>1</td>\n",
              "      <td>10.049315</td>\n",
              "      <td>133.5</td>\n",
              "      <td>31.2</td>\n",
              "      <td>17.6</td>\n",
              "      <td>2015-02-25</td>\n",
              "      <td>2015-02-25</td>\n",
              "      <td>10.125</td>\n",
              "      <td>121.5</td>\n",
              "      <td>45.943694</td>\n",
              "      <td>-0.155211</td>\n",
              "      <td>10</td>\n",
              "    </tr>\n",
              "    <tr>\n",
              "      <th>4</th>\n",
              "      <td>314</td>\n",
              "      <td>1888</td>\n",
              "      <td>8520261</td>\n",
              "      <td>2008-09-11</td>\n",
              "      <td>2</td>\n",
              "      <td>1</td>\n",
              "      <td>10.060274</td>\n",
              "      <td>130.6</td>\n",
              "      <td>23.7</td>\n",
              "      <td>13.9</td>\n",
              "      <td>2018-10-01</td>\n",
              "      <td>2018-10-01</td>\n",
              "      <td>9.875</td>\n",
              "      <td>118.5</td>\n",
              "      <td>45.943694</td>\n",
              "      <td>-0.220508</td>\n",
              "      <td>9</td>\n",
              "    </tr>\n",
              "  </tbody>\n",
              "</table>\n",
              "</div>"
            ],
            "text/plain": [
              "   No.  Group     등록번호        생년월일  ...  boneage     BA_std      BA_z  BA_GROUP\n",
              "0  310   1698  8255049  2007-08-03  ...    117.0  45.943694 -0.253157         9\n",
              "1  311   1897  8537405  2008-08-22  ...    129.0  45.943694  0.008033        10\n",
              "2  312   1422  7942635  2005-01-19  ...    133.5  45.943694  0.105979        11\n",
              "3  313   1475  7995857  2005-02-09  ...    121.5  45.943694 -0.155211        10\n",
              "4  314   1888  8520261  2008-09-11  ...    118.5  45.943694 -0.220508         9\n",
              "\n",
              "[5 rows x 17 columns]"
            ]
          },
          "metadata": {},
          "execution_count": 52
        }
      ]
    },
    {
      "cell_type": "code",
      "metadata": {
        "colab": {
          "base_uri": "https://localhost:8080/",
          "height": 0
        },
        "id": "9nHozShVkUcU",
        "outputId": "efb5697c-454f-4e3a-9eb1-0ff1ce70e5d7"
      },
      "source": [
        "# 성별값 1,2를 텍스트 male, female로 변경\n",
        "df['성별']= df['성별'].replace([1,2],['Male','Female'])\n",
        "df.head()"
      ],
      "execution_count": 53,
      "outputs": [
        {
          "output_type": "execute_result",
          "data": {
            "text/html": [
              "<div>\n",
              "<style scoped>\n",
              "    .dataframe tbody tr th:only-of-type {\n",
              "        vertical-align: middle;\n",
              "    }\n",
              "\n",
              "    .dataframe tbody tr th {\n",
              "        vertical-align: top;\n",
              "    }\n",
              "\n",
              "    .dataframe thead th {\n",
              "        text-align: right;\n",
              "    }\n",
              "</style>\n",
              "<table border=\"1\" class=\"dataframe\">\n",
              "  <thead>\n",
              "    <tr style=\"text-align: right;\">\n",
              "      <th></th>\n",
              "      <th>No.</th>\n",
              "      <th>Group</th>\n",
              "      <th>등록번호</th>\n",
              "      <th>생년월일</th>\n",
              "      <th>성별</th>\n",
              "      <th>진료의</th>\n",
              "      <th>검사 시 나이</th>\n",
              "      <th>신장</th>\n",
              "      <th>체중</th>\n",
              "      <th>BMI</th>\n",
              "      <th>처방일자</th>\n",
              "      <th>시행일자</th>\n",
              "      <th>BA</th>\n",
              "      <th>boneage</th>\n",
              "      <th>BA_std</th>\n",
              "      <th>BA_z</th>\n",
              "      <th>BA_GROUP</th>\n",
              "    </tr>\n",
              "  </thead>\n",
              "  <tbody>\n",
              "    <tr>\n",
              "      <th>0</th>\n",
              "      <td>310</td>\n",
              "      <td>1698</td>\n",
              "      <td>8255049</td>\n",
              "      <td>2007-08-03</td>\n",
              "      <td>Female</td>\n",
              "      <td>1</td>\n",
              "      <td>9.969863</td>\n",
              "      <td>129.5</td>\n",
              "      <td>26.9</td>\n",
              "      <td>16.1</td>\n",
              "      <td>2017-01-09</td>\n",
              "      <td>2017-07-20</td>\n",
              "      <td>9.750</td>\n",
              "      <td>117.0</td>\n",
              "      <td>45.943694</td>\n",
              "      <td>-0.253157</td>\n",
              "      <td>9</td>\n",
              "    </tr>\n",
              "    <tr>\n",
              "      <th>1</th>\n",
              "      <td>311</td>\n",
              "      <td>1897</td>\n",
              "      <td>8537405</td>\n",
              "      <td>2008-08-22</td>\n",
              "      <td>Female</td>\n",
              "      <td>1</td>\n",
              "      <td>9.989041</td>\n",
              "      <td>132.0</td>\n",
              "      <td>31.0</td>\n",
              "      <td>17.8</td>\n",
              "      <td>2018-02-28</td>\n",
              "      <td>2018-08-16</td>\n",
              "      <td>10.750</td>\n",
              "      <td>129.0</td>\n",
              "      <td>45.943694</td>\n",
              "      <td>0.008033</td>\n",
              "      <td>10</td>\n",
              "    </tr>\n",
              "    <tr>\n",
              "      <th>2</th>\n",
              "      <td>312</td>\n",
              "      <td>1422</td>\n",
              "      <td>7942635</td>\n",
              "      <td>2005-01-19</td>\n",
              "      <td>Female</td>\n",
              "      <td>1</td>\n",
              "      <td>10.008219</td>\n",
              "      <td>136.4</td>\n",
              "      <td>33.2</td>\n",
              "      <td>17.9</td>\n",
              "      <td>2015-01-20</td>\n",
              "      <td>2015-01-20</td>\n",
              "      <td>11.125</td>\n",
              "      <td>133.5</td>\n",
              "      <td>45.943694</td>\n",
              "      <td>0.105979</td>\n",
              "      <td>11</td>\n",
              "    </tr>\n",
              "    <tr>\n",
              "      <th>3</th>\n",
              "      <td>313</td>\n",
              "      <td>1475</td>\n",
              "      <td>7995857</td>\n",
              "      <td>2005-02-09</td>\n",
              "      <td>Female</td>\n",
              "      <td>1</td>\n",
              "      <td>10.049315</td>\n",
              "      <td>133.5</td>\n",
              "      <td>31.2</td>\n",
              "      <td>17.6</td>\n",
              "      <td>2015-02-25</td>\n",
              "      <td>2015-02-25</td>\n",
              "      <td>10.125</td>\n",
              "      <td>121.5</td>\n",
              "      <td>45.943694</td>\n",
              "      <td>-0.155211</td>\n",
              "      <td>10</td>\n",
              "    </tr>\n",
              "    <tr>\n",
              "      <th>4</th>\n",
              "      <td>314</td>\n",
              "      <td>1888</td>\n",
              "      <td>8520261</td>\n",
              "      <td>2008-09-11</td>\n",
              "      <td>Female</td>\n",
              "      <td>1</td>\n",
              "      <td>10.060274</td>\n",
              "      <td>130.6</td>\n",
              "      <td>23.7</td>\n",
              "      <td>13.9</td>\n",
              "      <td>2018-10-01</td>\n",
              "      <td>2018-10-01</td>\n",
              "      <td>9.875</td>\n",
              "      <td>118.5</td>\n",
              "      <td>45.943694</td>\n",
              "      <td>-0.220508</td>\n",
              "      <td>9</td>\n",
              "    </tr>\n",
              "  </tbody>\n",
              "</table>\n",
              "</div>"
            ],
            "text/plain": [
              "   No.  Group     등록번호        생년월일  ... boneage     BA_std      BA_z  BA_GROUP\n",
              "0  310   1698  8255049  2007-08-03  ...   117.0  45.943694 -0.253157         9\n",
              "1  311   1897  8537405  2008-08-22  ...   129.0  45.943694  0.008033        10\n",
              "2  312   1422  7942635  2005-01-19  ...   133.5  45.943694  0.105979        11\n",
              "3  313   1475  7995857  2005-02-09  ...   121.5  45.943694 -0.155211        10\n",
              "4  314   1888  8520261  2008-09-11  ...   118.5  45.943694 -0.220508         9\n",
              "\n",
              "[5 rows x 17 columns]"
            ]
          },
          "metadata": {},
          "execution_count": 53
        }
      ]
    },
    {
      "cell_type": "code",
      "metadata": {
        "colab": {
          "base_uri": "https://localhost:8080/",
          "height": 0
        },
        "id": "LPtElbinkUZx",
        "outputId": "ff0b9035-d20a-49cf-d239-112fc9ed7a45"
      },
      "source": [
        "# 성별, BA 연령대별로 pivot-table 생성\n",
        "df_ = df.loc[:,['No.','성별','BA_GROUP']]\n",
        "df_pivot= df_.pivot_table(index=['성별'],columns=['BA_GROUP'],values=['No.'],aggfunc=['count'],fill_value=0, margins=True)\n",
        "df_pivot"
      ],
      "execution_count": 54,
      "outputs": [
        {
          "output_type": "execute_result",
          "data": {
            "text/html": [
              "<div>\n",
              "<style scoped>\n",
              "    .dataframe tbody tr th:only-of-type {\n",
              "        vertical-align: middle;\n",
              "    }\n",
              "\n",
              "    .dataframe tbody tr th {\n",
              "        vertical-align: top;\n",
              "    }\n",
              "\n",
              "    .dataframe thead tr th {\n",
              "        text-align: left;\n",
              "    }\n",
              "\n",
              "    .dataframe thead tr:last-of-type th {\n",
              "        text-align: right;\n",
              "    }\n",
              "</style>\n",
              "<table border=\"1\" class=\"dataframe\">\n",
              "  <thead>\n",
              "    <tr>\n",
              "      <th></th>\n",
              "      <th colspan=\"18\" halign=\"left\">count</th>\n",
              "    </tr>\n",
              "    <tr>\n",
              "      <th></th>\n",
              "      <th colspan=\"18\" halign=\"left\">No.</th>\n",
              "    </tr>\n",
              "    <tr>\n",
              "      <th>BA_GROUP</th>\n",
              "      <th>1</th>\n",
              "      <th>2</th>\n",
              "      <th>3</th>\n",
              "      <th>4</th>\n",
              "      <th>5</th>\n",
              "      <th>6</th>\n",
              "      <th>7</th>\n",
              "      <th>8</th>\n",
              "      <th>9</th>\n",
              "      <th>10</th>\n",
              "      <th>11</th>\n",
              "      <th>12</th>\n",
              "      <th>13</th>\n",
              "      <th>14</th>\n",
              "      <th>15</th>\n",
              "      <th>16</th>\n",
              "      <th>17</th>\n",
              "      <th>All</th>\n",
              "    </tr>\n",
              "    <tr>\n",
              "      <th>성별</th>\n",
              "      <th></th>\n",
              "      <th></th>\n",
              "      <th></th>\n",
              "      <th></th>\n",
              "      <th></th>\n",
              "      <th></th>\n",
              "      <th></th>\n",
              "      <th></th>\n",
              "      <th></th>\n",
              "      <th></th>\n",
              "      <th></th>\n",
              "      <th></th>\n",
              "      <th></th>\n",
              "      <th></th>\n",
              "      <th></th>\n",
              "      <th></th>\n",
              "      <th></th>\n",
              "      <th></th>\n",
              "    </tr>\n",
              "  </thead>\n",
              "  <tbody>\n",
              "    <tr>\n",
              "      <th>Female</th>\n",
              "      <td>1</td>\n",
              "      <td>9</td>\n",
              "      <td>5</td>\n",
              "      <td>4</td>\n",
              "      <td>0</td>\n",
              "      <td>0</td>\n",
              "      <td>0</td>\n",
              "      <td>0</td>\n",
              "      <td>3</td>\n",
              "      <td>35</td>\n",
              "      <td>47</td>\n",
              "      <td>16</td>\n",
              "      <td>9</td>\n",
              "      <td>28</td>\n",
              "      <td>58</td>\n",
              "      <td>4</td>\n",
              "      <td>0</td>\n",
              "      <td>219</td>\n",
              "    </tr>\n",
              "    <tr>\n",
              "      <th>Male</th>\n",
              "      <td>0</td>\n",
              "      <td>0</td>\n",
              "      <td>0</td>\n",
              "      <td>10</td>\n",
              "      <td>23</td>\n",
              "      <td>42</td>\n",
              "      <td>18</td>\n",
              "      <td>6</td>\n",
              "      <td>5</td>\n",
              "      <td>5</td>\n",
              "      <td>15</td>\n",
              "      <td>24</td>\n",
              "      <td>2</td>\n",
              "      <td>0</td>\n",
              "      <td>2</td>\n",
              "      <td>5</td>\n",
              "      <td>2</td>\n",
              "      <td>159</td>\n",
              "    </tr>\n",
              "    <tr>\n",
              "      <th>All</th>\n",
              "      <td>1</td>\n",
              "      <td>9</td>\n",
              "      <td>5</td>\n",
              "      <td>14</td>\n",
              "      <td>23</td>\n",
              "      <td>42</td>\n",
              "      <td>18</td>\n",
              "      <td>6</td>\n",
              "      <td>8</td>\n",
              "      <td>40</td>\n",
              "      <td>62</td>\n",
              "      <td>40</td>\n",
              "      <td>11</td>\n",
              "      <td>28</td>\n",
              "      <td>60</td>\n",
              "      <td>9</td>\n",
              "      <td>2</td>\n",
              "      <td>378</td>\n",
              "    </tr>\n",
              "  </tbody>\n",
              "</table>\n",
              "</div>"
            ],
            "text/plain": [
              "         count                                                               \n",
              "           No.                                                               \n",
              "BA_GROUP     1  2  3   4   5   6   7  8  9  10  11  12  13  14  15 16 17  All\n",
              "성별                                                                           \n",
              "Female       1  9  5   4   0   0   0  0  3  35  47  16   9  28  58  4  0  219\n",
              "Male         0  0  0  10  23  42  18  6  5   5  15  24   2   0   2  5  2  159\n",
              "All          1  9  5  14  23  42  18  6  8  40  62  40  11  28  60  9  2  378"
            ]
          },
          "metadata": {},
          "execution_count": 54
        }
      ]
    },
    {
      "cell_type": "code",
      "metadata": {
        "colab": {
          "base_uri": "https://localhost:8080/",
          "height": 0
        },
        "id": "qx3kTrV0kUXf",
        "outputId": "b022914e-ec98-4dfc-94cb-4821ae976d46"
      },
      "source": [
        "# 골연령대 기준으로 히스토그램 \n",
        "plt.figure(figsize=(10,6))\n",
        "m= df.loc[df['성별']=='Male']['BA_GROUP']\n",
        "f= df.loc[df['성별']=='Female']['BA_GROUP']\n",
        "\n",
        "plt.hist([m,f],bins=9)\n",
        "plt.legend(['Male','Female'], fontsize=20)\n",
        "plt.xlabel('Bone Age(Group)', fontsize=16)\n",
        "plt.ylabel('Count',fontsize=16)\n",
        "plt.show()"
      ],
      "execution_count": 55,
      "outputs": [
        {
          "output_type": "stream",
          "name": "stderr",
          "text": [
            "/usr/local/lib/python3.7/dist-packages/numpy/core/_asarray.py:83: VisibleDeprecationWarning: Creating an ndarray from ragged nested sequences (which is a list-or-tuple of lists-or-tuples-or ndarrays with different lengths or shapes) is deprecated. If you meant to do this, you must specify 'dtype=object' when creating the ndarray\n",
            "  return array(a, dtype, copy=False, order=order)\n",
            "findfont: Font family ['NanumBarunGothic'] not found. Falling back to DejaVu Sans.\n"
          ]
        },
        {
          "output_type": "display_data",
          "data": {
            "image/png": "[encoded data removed]",
            "text/plain": [
              "<Figure size 720x432 with 1 Axes>"
            ]
          },
          "metadata": {
            "needs_background": "light"
          }
        }
      ]
    },
    {
      "cell_type": "code",
      "metadata": {
        "id": "Dftf_yOUkUVR"
      },
      "source": [
        "# 분포가 왜이러지.............."
      ],
      "execution_count": null,
      "outputs": []
    },
    {
      "cell_type": "markdown",
      "metadata": {
        "id": "O5BV--y1kUTQ"
      },
      "source": [
        "## 신장-골연령 산점도"
      ]
    },
    {
      "cell_type": "code",
      "metadata": {
        "colab": {
          "base_uri": "https://localhost:8080/",
          "height": 0
        },
        "id": "kWXOfDFmkUQw",
        "outputId": "cd808f5f-a4b0-46e8-bce9-6fec36abf238"
      },
      "source": [
        "plt.figure(figsize=(16,8))\n",
        "plt.scatter(x=df['BA'], y=df['신장'])\n",
        "plt.xlabel('Bone AGE', fontsize=16)\n",
        "plt.ylabel('Height', fontsize=16)\n",
        "plt.show()"
      ],
      "execution_count": 56,
      "outputs": [
        {
          "output_type": "display_data",
          "data": {
            "image/png": "[encoded data removed]",
            "text/plain": [
              "<Figure size 1152x576 with 1 Axes>"
            ]
          },
          "metadata": {
            "needs_background": "light"
          }
        }
      ]
    },
    {
      "cell_type": "code",
      "metadata": {
        "id": "wAzAQWUfkUOx"
      },
      "source": [
        ""
      ],
      "execution_count": null,
      "outputs": []
    },
    {
      "cell_type": "code",
      "metadata": {
        "id": "NFWIzrC6kUMg"
      },
      "source": [
        ""
      ],
      "execution_count": null,
      "outputs": []
    },
    {
      "cell_type": "code",
      "metadata": {
        "id": "lyvIDqkOkUKQ"
      },
      "source": [
        ""
      ],
      "execution_count": null,
      "outputs": []
    },
    {
      "cell_type": "code",
      "metadata": {
        "id": "4kOCa_qHkUH_"
      },
      "source": [
        ""
      ],
      "execution_count": null,
      "outputs": []
    },
    {
      "cell_type": "code",
      "metadata": {
        "id": "wl47Tnb1kUFf"
      },
      "source": [
        ""
      ],
      "execution_count": null,
      "outputs": []
    }
  ]
}