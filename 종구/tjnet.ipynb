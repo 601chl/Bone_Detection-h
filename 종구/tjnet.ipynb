{
  "nbformat": 4,
  "nbformat_minor": 0,
  "metadata": {
    "kernelspec": {
      "display_name": "Python 3",
      "language": "python",
      "name": "python3"
    },
    "language_info": {
      "codemirror_mode": {
        "name": "ipython",
        "version": 3
      },
      "file_extension": ".py",
      "mimetype": "text/x-python",
      "name": "python",
      "nbconvert_exporter": "python",
      "pygments_lexer": "ipython3",
      "version": "3.7.6"
    },
    "toc": {
      "base_numbering": 1,
      "nav_menu": {},
      "number_sections": true,
      "sideBar": true,
      "skip_h1_title": false,
      "title_cell": "Table of Contents",
      "title_sidebar": "Contents",
      "toc_cell": false,
      "toc_position": {},
      "toc_section_display": true,
      "toc_window_display": false
    },
    "varInspector": {
      "cols": {
        "lenName": 16,
        "lenType": 16,
        "lenVar": 40
      },
      "kernels_config": {
        "python": {
          "delete_cmd_postfix": "",
          "delete_cmd_prefix": "del ",
          "library": "var_list.py",
          "varRefreshCmd": "print(var_dic_list())"
        },
        "r": {
          "delete_cmd_postfix": ") ",
          "delete_cmd_prefix": "rm(",
          "library": "var_list.r",
          "varRefreshCmd": "cat(var_dic_list()) "
        }
      },
      "types_to_exclude": [
        "module",
        "function",
        "builtin_function_or_method",
        "instance",
        "_Feature"
      ],
      "window_display": false
    },
    "colab": {
      "name": "tjnet.ipynb",
      "provenance": [],
      "collapsed_sections": [],
      "machine_shape": "hm",
      "include_colab_link": true
    },
    "accelerator": "GPU"
  },
  "cells": [
    {
      "cell_type": "markdown",
      "metadata": {
        "id": "view-in-github",
        "colab_type": "text"
      },
      "source": [
        "<a href=\"https://colab.research.google.com/github/kikiru328/Bone_Detection/blob/main/%EC%A2%85%EA%B5%AC/tjnet.ipynb\" target=\"_parent\"><img src=\"https://colab.research.google.com/assets/colab-badge.svg\" alt=\"Open In Colab\"/></a>"
      ]
    },
    {
      "cell_type": "markdown",
      "metadata": {
        "id": "B8_ktSm1DwL-"
      },
      "source": [
        "# 패키지"
      ]
    },
    {
      "cell_type": "code",
      "metadata": {
        "id": "S3UMZCOzDwL_"
      },
      "source": [
        "import cv2\n",
        "import pandas as pd\n",
        "import numpy as np\n",
        "import matplotlib.pyplot as plt\n",
        "import tensorflow as tf\n",
        "import os\n",
        "from tensorflow.keras.models import *\n",
        "from tensorflow.keras.layers import *\n",
        "from tensorflow.keras.optimizers import *\n",
        "from tensorflow.keras.callbacks import *\n",
        "import keras\n"
      ],
      "execution_count": null,
      "outputs": []
    },
    {
      "cell_type": "code",
      "metadata": {
        "colab": {
          "base_uri": "https://localhost:8080/",
          "height": 35
        },
        "id": "vnjjvVUUsL_i",
        "outputId": "0e27e199-3b3b-436e-e74f-27241493aa78"
      },
      "source": [
        "tf.__version__"
      ],
      "execution_count": null,
      "outputs": [
        {
          "output_type": "execute_result",
          "data": {
            "application/vnd.google.colaboratory.intrinsic+json": {
              "type": "string"
            },
            "text/plain": [
              "'2.4.1'"
            ]
          },
          "metadata": {
            "tags": []
          },
          "execution_count": 2
        }
      ]
    },
    {
      "cell_type": "code",
      "metadata": {
        "colab": {
          "base_uri": "https://localhost:8080/"
        },
        "id": "v7LBdJS2Hhlb",
        "outputId": "a311b567-484a-473b-8b24-3214c406346e"
      },
      "source": [
        "%cd /content/drive/MyDrive/project2/2_Modeling/01_model_learning/"
      ],
      "execution_count": null,
      "outputs": [
        {
          "output_type": "stream",
          "name": "stdout",
          "text": [
            "[Errno 2] No such file or directory: '/content/drive/MyDrive/project2/2_Modeling/01_model_learning/'\n",
            "/content\n"
          ]
        }
      ]
    },
    {
      "cell_type": "code",
      "metadata": {
        "colab": {
          "base_uri": "https://localhost:8080/"
        },
        "id": "nMysHgfSHPfM",
        "outputId": "75d8e1a3-b3b1-4836-dbbf-da4c4404a913"
      },
      "source": [
        "from google.colab import drive\n",
        "drive.mount('/content/drive')"
      ],
      "execution_count": null,
      "outputs": [
        {
          "output_type": "stream",
          "name": "stdout",
          "text": [
            "Mounted at /content/drive\n"
          ]
        }
      ]
    },
    {
      "cell_type": "markdown",
      "metadata": {
        "id": "2FiyMtoqDwL_"
      },
      "source": [
        "## DataFrame 전처리\n",
        "- 여기서 이미지 사이즈 조절\n",
        "- 여기서 model이름 설정\n",
        "- path 조절\n",
        "- train_test_split"
      ]
    },
    {
      "cell_type": "code",
      "metadata": {
        "id": "9TcClG3jDwMA"
      },
      "source": [
        "path_CARPAL = \"/content/drive/MyDrive/2차 프로젝트 원본 데이터/crop_img_folders/crop_img2/crop_img/crops/CARPAL\"\n",
        "path_LMCP = \"/content/drive/MyDrive/2차 프로젝트 원본 데이터/crop_img_folders/crop_img2/crop_img/crops/LMCP\"\n",
        "path_LPIP = \"/content/drive/MyDrive/2차 프로젝트 원본 데이터/crop_img_folders/crop_img2/crop_img/crops/LPIP\"\n",
        "path_MMCP = \"/content/drive/MyDrive/2차 프로젝트 원본 데이터/crop_img_folders/crop_img2/crop_img/crops/MMCP\"\n",
        "path_MPIP = \"/content/drive/MyDrive/2차 프로젝트 원본 데이터/crop_img_folders/crop_img2/crop_img/crops/MPIP\"\n",
        "path_TMCP = \"/content/drive/MyDrive/2차 프로젝트 원본 데이터/crop_img_folders/crop_img2/crop_img/crops/TMCP\"\n",
        "path_IP = '/content/drive/MyDrive/2차 프로젝트 원본 데이터/crop_img_folders/crop_img2/crop_img/crops/IP'\n"
      ],
      "execution_count": null,
      "outputs": []
    },
    {
      "cell_type": "code",
      "metadata": {
        "colab": {
          "base_uri": "https://localhost:8080/"
        },
        "id": "YQGysosBMkd7",
        "outputId": "380a743b-8eac-436a-ab6e-c39eeda1d6dc"
      },
      "source": [
        "# pandas로 안열리면 이거 사용\n",
        "!pip install pickle5"
      ],
      "execution_count": null,
      "outputs": [
        {
          "output_type": "stream",
          "name": "stdout",
          "text": [
            "Requirement already satisfied: pickle5 in /usr/local/lib/python3.7/dist-packages (0.0.11)\n"
          ]
        }
      ]
    },
    {
      "cell_type": "code",
      "metadata": {
        "id": "fey_GvxIMno4"
      },
      "source": [
        "# pandas로 안열리면 이거 사용\n",
        "# 케니스엣지 아닌거\n",
        "import pickle5 as pickle\n",
        "with open('/content/drive/MyDrive/Colab Notebooks/BA_all_.pkl', \"rb\") as fh: # 맨 처음 데이터 프레임\n",
        "  df = pickle.load(fh)"
      ],
      "execution_count": null,
      "outputs": []
    },
    {
      "cell_type": "code",
      "metadata": {
        "id": "O2PezfpdDwMA"
      },
      "source": [
        "# 케니스엣지 데이터 프레임\n",
        "\n",
        "import pickle5 as pickle\n",
        "with open('/content/drive/MyDrive/Colab Notebooks/sample1103.pkl', \"rb\") as fh: # 맨 처음 데이터 프레임\n",
        "  df = pickle.load(fh)"
      ],
      "execution_count": null,
      "outputs": []
    },
    {
      "cell_type": "code",
      "metadata": {
        "id": "8FVgDrKYDwMA",
        "colab": {
          "base_uri": "https://localhost:8080/",
          "height": 289
        },
        "outputId": "fc44a09e-c011-49a1-b01b-b72dd0de64a9"
      },
      "source": [
        "df.head()"
      ],
      "execution_count": null,
      "outputs": [
        {
          "output_type": "execute_result",
          "data": {
            "text/html": [
              "<div>\n",
              "<style scoped>\n",
              "    .dataframe tbody tr th:only-of-type {\n",
              "        vertical-align: middle;\n",
              "    }\n",
              "\n",
              "    .dataframe tbody tr th {\n",
              "        vertical-align: top;\n",
              "    }\n",
              "\n",
              "    .dataframe thead th {\n",
              "        text-align: right;\n",
              "    }\n",
              "</style>\n",
              "<table border=\"1\" class=\"dataframe\">\n",
              "  <thead>\n",
              "    <tr style=\"text-align: right;\">\n",
              "      <th></th>\n",
              "      <th>NO</th>\n",
              "      <th>gender</th>\n",
              "      <th>Group</th>\n",
              "      <th>REGI</th>\n",
              "      <th>DCT_CODE</th>\n",
              "      <th>BD</th>\n",
              "      <th>PD</th>\n",
              "      <th>OD</th>\n",
              "      <th>DIG_AGE</th>\n",
              "      <th>HEIGT</th>\n",
              "      <th>WEIGT</th>\n",
              "      <th>BMI</th>\n",
              "      <th>BONE</th>\n",
              "      <th>BA_1</th>\n",
              "      <th>BA_2</th>\n",
              "      <th>BA_total</th>\n",
              "      <th>BA_zscore</th>\n",
              "      <th>CARPAL</th>\n",
              "      <th>LMCP</th>\n",
              "      <th>MMCP</th>\n",
              "      <th>TMCP</th>\n",
              "      <th>LPIP</th>\n",
              "      <th>MPIP</th>\n",
              "      <th>IP</th>\n",
              "      <th>ST</th>\n",
              "    </tr>\n",
              "  </thead>\n",
              "  <tbody>\n",
              "    <tr>\n",
              "      <th>0</th>\n",
              "      <td>1</td>\n",
              "      <td>0</td>\n",
              "      <td>1568</td>\n",
              "      <td>8110925</td>\n",
              "      <td>1</td>\n",
              "      <td>2013-08-19</td>\n",
              "      <td>2016-08-01</td>\n",
              "      <td>2016-08-01</td>\n",
              "      <td>2.953425</td>\n",
              "      <td>88.9</td>\n",
              "      <td>11.3</td>\n",
              "      <td>14.3</td>\n",
              "      <td>39.0</td>\n",
              "      <td>3.25</td>\n",
              "      <td>3.25</td>\n",
              "      <td>3.250</td>\n",
              "      <td>-1.591672</td>\n",
              "      <td>1_F.jpg</td>\n",
              "      <td>1_F.jpg</td>\n",
              "      <td>1_F.jpg</td>\n",
              "      <td>1_F.jpg</td>\n",
              "      <td>1_F.jpg</td>\n",
              "      <td>1_F.jpg</td>\n",
              "      <td>1_F.jpg</td>\n",
              "      <td>3</td>\n",
              "    </tr>\n",
              "    <tr>\n",
              "      <th>1</th>\n",
              "      <td>2</td>\n",
              "      <td>0</td>\n",
              "      <td>440</td>\n",
              "      <td>5988227</td>\n",
              "      <td>2</td>\n",
              "      <td>2008-10-27</td>\n",
              "      <td>2011-10-25</td>\n",
              "      <td>2011-10-25</td>\n",
              "      <td>2.994521</td>\n",
              "      <td>95.9</td>\n",
              "      <td>13.5</td>\n",
              "      <td>14.7</td>\n",
              "      <td>21.0</td>\n",
              "      <td>1.75</td>\n",
              "      <td>1.75</td>\n",
              "      <td>1.750</td>\n",
              "      <td>-1.966593</td>\n",
              "      <td>2_F.jpg</td>\n",
              "      <td>2_F.jpg</td>\n",
              "      <td>2_F.jpg</td>\n",
              "      <td>2_F.jpg</td>\n",
              "      <td>2_F.jpg</td>\n",
              "      <td>2_F.jpg</td>\n",
              "      <td>2_F.jpg</td>\n",
              "      <td>3</td>\n",
              "    </tr>\n",
              "    <tr>\n",
              "      <th>2</th>\n",
              "      <td>3</td>\n",
              "      <td>0</td>\n",
              "      <td>1724</td>\n",
              "      <td>8292016</td>\n",
              "      <td>1</td>\n",
              "      <td>2013-08-08</td>\n",
              "      <td>2016-08-11</td>\n",
              "      <td>2016-08-11</td>\n",
              "      <td>3.010959</td>\n",
              "      <td>88.2</td>\n",
              "      <td>13.0</td>\n",
              "      <td>16.8</td>\n",
              "      <td>28.5</td>\n",
              "      <td>2.75</td>\n",
              "      <td>2.00</td>\n",
              "      <td>2.375</td>\n",
              "      <td>-1.810376</td>\n",
              "      <td>3_F.jpg</td>\n",
              "      <td>3_F.jpg</td>\n",
              "      <td>3_F.jpg</td>\n",
              "      <td>3_F.jpg</td>\n",
              "      <td>3_F.jpg</td>\n",
              "      <td>3_F.jpg</td>\n",
              "      <td>3_F.jpg</td>\n",
              "      <td>3</td>\n",
              "    </tr>\n",
              "    <tr>\n",
              "      <th>3</th>\n",
              "      <td>4</td>\n",
              "      <td>0</td>\n",
              "      <td>1919</td>\n",
              "      <td>8565274</td>\n",
              "      <td>1</td>\n",
              "      <td>2014-12-28</td>\n",
              "      <td>2018-02-26</td>\n",
              "      <td>2018-02-26</td>\n",
              "      <td>3.167123</td>\n",
              "      <td>88.7</td>\n",
              "      <td>12.9</td>\n",
              "      <td>16.4</td>\n",
              "      <td>27.0</td>\n",
              "      <td>2.75</td>\n",
              "      <td>1.75</td>\n",
              "      <td>2.250</td>\n",
              "      <td>-1.841619</td>\n",
              "      <td>4_F.jpg</td>\n",
              "      <td>4_F.jpg</td>\n",
              "      <td>4_F.jpg</td>\n",
              "      <td>4_F.jpg</td>\n",
              "      <td>4_F.jpg</td>\n",
              "      <td>4_F.jpg</td>\n",
              "      <td>4_F.jpg</td>\n",
              "      <td>3</td>\n",
              "    </tr>\n",
              "    <tr>\n",
              "      <th>4</th>\n",
              "      <td>5</td>\n",
              "      <td>0</td>\n",
              "      <td>1264</td>\n",
              "      <td>7743478</td>\n",
              "      <td>1</td>\n",
              "      <td>2010-07-18</td>\n",
              "      <td>2013-10-29</td>\n",
              "      <td>2013-10-29</td>\n",
              "      <td>3.284932</td>\n",
              "      <td>90.8</td>\n",
              "      <td>14.0</td>\n",
              "      <td>17.0</td>\n",
              "      <td>48.0</td>\n",
              "      <td>3.75</td>\n",
              "      <td>4.25</td>\n",
              "      <td>4.000</td>\n",
              "      <td>-1.404211</td>\n",
              "      <td>5_F.jpg</td>\n",
              "      <td>5_F.jpg</td>\n",
              "      <td>5_F.jpg</td>\n",
              "      <td>5_F.jpg</td>\n",
              "      <td>5_F.jpg</td>\n",
              "      <td>5_F.jpg</td>\n",
              "      <td>5_F.jpg</td>\n",
              "      <td>3</td>\n",
              "    </tr>\n",
              "  </tbody>\n",
              "</table>\n",
              "</div>"
            ],
            "text/plain": [
              "   NO  gender  Group     REGI DCT_CODE  ...     TMCP     LPIP     MPIP       IP  ST\n",
              "0   1       0   1568  8110925        1  ...  1_F.jpg  1_F.jpg  1_F.jpg  1_F.jpg   3\n",
              "1   2       0    440  5988227        2  ...  2_F.jpg  2_F.jpg  2_F.jpg  2_F.jpg   3\n",
              "2   3       0   1724  8292016        1  ...  3_F.jpg  3_F.jpg  3_F.jpg  3_F.jpg   3\n",
              "3   4       0   1919  8565274        1  ...  4_F.jpg  4_F.jpg  4_F.jpg  4_F.jpg   3\n",
              "4   5       0   1264  7743478        1  ...  5_F.jpg  5_F.jpg  5_F.jpg  5_F.jpg   3\n",
              "\n",
              "[5 rows x 25 columns]"
            ]
          },
          "metadata": {},
          "execution_count": 35
        }
      ]
    },
    {
      "cell_type": "markdown",
      "metadata": {
        "id": "64wwFzWgDwMB"
      },
      "source": [
        "## 함수모음\n",
        "- generator : input과 output을 만들어주는 함수\n",
        "- plot_it : 학습후 모델 그래프를 만들고 저장해주는 함수\n",
        "- mae_in_month : 정규화된 값을 학습시키기 때문에 개월로 변경한 mae계산해주는 함수"
      ]
    },
    {
      "cell_type": "code",
      "metadata": {
        "id": "f7f_jdy-DwMB"
      },
      "source": [
        "ba_mean = df.BONE.mean()\n",
        "ba_std = df.BONE.std()"
      ],
      "execution_count": null,
      "outputs": []
    },
    {
      "cell_type": "code",
      "metadata": {
        "id": "1qDARoRNDwMB"
      },
      "source": [
        "def generator(df,model,n):\n",
        "    \n",
        "    gender = np.array(df.gender)\n",
        "    age = np.array(df.BA_zscore)\n",
        "    CARPAL_in = []\n",
        "    LMCP_in = []\n",
        "    MMCP_in = []\n",
        "    TMCP_in = []\n",
        "    LPIP_in = []\n",
        "    MPIP_in = []\n",
        "    IP_in = []\n",
        "    gender_in = []\n",
        "    age_in = []\n",
        "    \n",
        "    error_list = []\n",
        "    # df에 있는 파일 명을 갖고 이미지를 불러옴\n",
        "    for i in range(len(df)):\n",
        "        \n",
        "        CARPAL_roi = df.loc[i,'CARPAL']\n",
        "        LMCP_roi = df.loc[i,'LMCP']\n",
        "        MMCP_roi = df.loc[i,'MMCP']\n",
        "        TMCP_roi = df.loc[i,'TMCP']\n",
        "        LPIP_roi = df.loc[i, 'LPIP']\n",
        "        MPIP_roi = df.loc[i,'MPIP']\n",
        "        IP_roi = df.loc[i,'IP']\n",
        "    \n",
        "        \n",
        "        img_CARPAL = cv2.imread(path_CARPAL+'/'+CARPAL_roi)\n",
        "        img_LMCP = cv2.imread(path_LMCP+'/'+LMCP_roi)\n",
        "        img_MMCP = cv2.imread(path_MMCP+'/'+MMCP_roi)\n",
        "        img_TMCP = cv2.imread(path_TMCP+'/'+TMCP_roi)\n",
        "        img_LPIP = cv2.imread(path_LPIP+'/'+LPIP_roi)\n",
        "        img_MPIP = cv2.imread(path_MPIP+'/'+MPIP_roi)\n",
        "        img_IP = cv2.imread(path_IP+'/'+IP_roi)\n",
        "        \n",
        "\n",
        "        try:\n",
        "            img_CARPAL = cv2.resize(img_CARPAL, (224,224),cv2.INTER_AREA)\n",
        "            img_LMCP = cv2.resize(img_LMCP, (75,75),cv2.INTER_AREA)\n",
        "            img_MMCP = cv2.resize(img_MMCP, (75,75),cv2.INTER_AREA)\n",
        "            img_TMCP = cv2.resize(img_TMCP, (75,75),cv2.INTER_AREA)\n",
        "            img_LPIP = cv2.resize(img_LPIP, (75,75),cv2.INTER_AREA)\n",
        "            img_MPIP = cv2.resize(img_MPIP, (75,75),cv2.INTER_AREA)\n",
        "            img_IP = cv2.resize(img_IP, (75,75),cv2.INTER_AREA)\n",
        "            \n",
        "        except:\n",
        "            continue\n",
        "        # 불러온 이미지를 리스트에 넣는다.\n",
        "\n",
        "        CARPAL_in.append(img_CARPAL)\n",
        "        LMCP_in.append(img_LMCP)\n",
        "        MMCP_in.append(img_MMCP)\n",
        "        TMCP_in.append(img_TMCP)\n",
        "        LPIP_in.append(img_LPIP)\n",
        "        MPIP_in.append(img_MPIP)\n",
        "        IP_in.append(img_IP)\n",
        "        \n",
        "        gender_in.append(gender[i])\n",
        "        age_in.append(age[i])\n",
        "\n",
        "    # 저장된 이미지를 벡터값으로 저장시킨다.\n",
        "           \n",
        "    CARPAL_in = np.array(CARPAL_in)\n",
        "    LMCP_in = np.array(LMCP_in)\n",
        "    MMCP_in = np.array(MMCP_in)\n",
        "    TMCP_in = np.array(TMCP_in)\n",
        "    LPIP_in = np.array(LPIP_in)\n",
        "    MPIP_in = np.array(MPIP_in)\n",
        "    IP_in = np.array(IP_in)\n",
        "\n",
        "    gender_in = np.array(gender_in)\n",
        "    age_in = np.array(age_in)\n",
        "        \n",
        "    if n==1:\n",
        "        return age_in\n",
        "        \n",
        "    if n==2:\n",
        "        return [gender_in,CARPAL_in,LMCP_in,MMCP_in,TMCP_in, LPIP_in, MPIP_in, IP_in],age_in\n",
        "        \n",
        "    if n==3:\n",
        "        return [CARPAL_in,LMCP_in,MMCP_in,TMCP_in, LPIP_in, MPIP_in, IP_in,gender_in],age_in    "
      ],
      "execution_count": null,
      "outputs": []
    },
    {
      "cell_type": "code",
      "metadata": {
        "id": "OfWvTiD5VfIH"
      },
      "source": [
        "def show(img):\n",
        "    plt.figure(figsize=(15, 10))\n",
        "    plt.xticks([])\n",
        "    plt.yticks([])\n",
        "    plt.imshow(img, cmap = \"gray\")\n",
        "    plt.show()"
      ],
      "execution_count": null,
      "outputs": []
    },
    {
      "cell_type": "code",
      "metadata": {
        "id": "F74PqE0fDwMC"
      },
      "source": [
        "# process시각화 및 손실함수\n",
        "\n",
        "def plot_it(history):\n",
        "    '''function to plot training and validation error'''\n",
        "    fig, ax = plt.subplots( figsize=(20,10))\n",
        "    ax.plot(history.history['mae_in_months'])\n",
        "    ax.plot(history.history['val_mae_in_months'])\n",
        "    plt.title('Model Error')\n",
        "    plt.ylabel('error')\n",
        "    plt.xlabel('Epoch')\n",
        "    plt.legend(['Train', 'Val'], loc='upper right')\n",
        "    ax.grid(color='black')\n",
        "    plt.show()\n",
        "    fig = plt.gcf()\n",
        "    fig.savefig(\"/content/drive/MyDrive/Colab Notebooks/\"+model_name+\".jpg\")\n",
        "    plt.close(fig)"
      ],
      "execution_count": null,
      "outputs": []
    },
    {
      "cell_type": "code",
      "metadata": {
        "id": "otk0dVxADwMC"
      },
      "source": [
        "from tensorflow.keras.metrics import mean_absolute_error\n",
        "\n",
        "def mae_in_months(x_p, y_p):\n",
        "    '''function to return mae in months'''\n",
        "    return mean_absolute_error((ba_std*x_p + ba_mean), (ba_std*y_p + ba_mean)) "
      ],
      "execution_count": null,
      "outputs": []
    },
    {
      "cell_type": "markdown",
      "metadata": {
        "id": "v7FEj0kzDwMC"
      },
      "source": [
        "## 모델 생성"
      ]
    },
    {
      "cell_type": "code",
      "metadata": {
        "id": "3KA2OdcFDwMD"
      },
      "source": [
        "import sys\n",
        "sys.path.insert(0,'/content/drive/MyDrive/Colab Notebooks/TJM1')"
      ],
      "execution_count": null,
      "outputs": []
    },
    {
      "cell_type": "code",
      "metadata": {
        "id": "gBrWyrEUDwMD"
      },
      "source": [
        "def mae_in_months(x_p, y_p):\n",
        "    '''function to return mae in months'''\n",
        "    return mean_absolute_error((ba_std*x_p + ba_mean), (ba_std*y_p + ba_mean))  "
      ],
      "execution_count": null,
      "outputs": []
    },
    {
      "cell_type": "code",
      "metadata": {
        "id": "nJ667yTrDwMD"
      },
      "source": [
        "def tjnet3():\n",
        "  \n",
        "    \n",
        "    #원본이미지 모델 (mobilnet)\n",
        "    #mob_model = tf.keras.applications.MobileNet(input_shape = (bimg_size, bimg_size, 3),\n",
        "                                                   #include_top = False,\n",
        "                                                                                  #weights = 'imagenet')\n",
        "    #mob_model.trainable = True\n",
        "    #model_2 = Sequential()\n",
        "    #model_2.add(mob_model)\n",
        "    #model_2.add(GlobalAveragePooling2D())\n",
        "    #model_2.add(Dense(1024, activation = 'relu')) # 반으로줄임 \n",
        "\n",
        "    # CARPALroi 모델 (tj-net)\n",
        "\n",
        "    i_input = Input(shape = (224,224,3)) # 입력\n",
        "\n",
        "    #block 1\n",
        "    conv1 = ReLU()(Conv2D(32,3)(i_input))\n",
        "    conv2 = ReLU()(Conv2D(32,3)(conv1))\n",
        "    conv3 = ReLU()(Conv2D(64,3,padding='same')(conv2))\n",
        "    x = Conv2D(64,1)(conv3) # 합성곱층\n",
        "    x = BatchNormalization()(x) # 배치 정규화 (이걸 왜쓰냐고? 그야...그것이..낭만이니까)\n",
        "\n",
        "    se = GlobalAveragePooling2D()(x)\n",
        "    se = Dense(4,activation=\"relu\")(se)\n",
        "    se = Dense(64,activation=\"relu\")(se)\n",
        "    se = Reshape([1,1,64])(se)\n",
        "    x = Multiply()([conv3,se])\n",
        "\n",
        "    short = Conv2D(64,(1,1))(conv2)\n",
        "    short = BatchNormalization()(short)\n",
        "\n",
        "    x = ReLU()(add([x,short]))\n",
        "\n",
        "    pool1 = MaxPool2D(pool_size=(2,2))(x)\n",
        "    #block 2\n",
        "    conv4 = ReLU()(Conv2D(60,1)(pool1))\n",
        "    conv5 = ReLU()(Conv2D(192,3)(conv4))\n",
        "    pool2 = MaxPool2D(pool_size=(2,2))(conv5)\n",
        "    #block 3\n",
        "    conv6 = ReLU()(Conv2D(512,3)(pool2))\n",
        "    pool3 = MaxPool2D(pool_size=(2,2))(conv6)\n",
        "    #block 4\n",
        "    conv7 = ReLU()(Conv2D(512,3,padding='same')(pool3)) # 반으로 줄임\n",
        "    pool4 = MaxPool2D(pool_size=(2,2))(conv7)\n",
        "    i_output = Flatten()(pool4)\n",
        "\n",
        "    i_model = Model(inputs = i_input, outputs = i_output)\n",
        "    \n",
        "    # LMCP roi 모델 (tj-net)\n",
        "\n",
        "    i_input1 = Input(shape = (75,75,3))\n",
        "    \n",
        "    #block 1\n",
        "    conv1 = ReLU()(Conv2D(32,3)(i_input1)) \n",
        "    conv2 = ReLU()(Conv2D(32,3)(conv1))\n",
        "    conv3 = ReLU()(Conv2D(64,3,padding='same')(conv2))\n",
        "    x = Conv2D(64,1)(conv3)\n",
        "    x = BatchNormalization()(x)\n",
        "\n",
        "    se = GlobalAveragePooling2D()(x)\n",
        "    se = Dense(4,activation=\"relu\")(se)\n",
        "    se = Dense(64,activation=\"relu\")(se)\n",
        "    se = Reshape([1,1,64])(se)\n",
        "    x = Multiply()([conv3,se])\n",
        "\n",
        "    short = Conv2D(64,(1,1))(conv2)\n",
        "    short = BatchNormalization()(short)\n",
        "\n",
        "    x = ReLU()(add([x,short]))\n",
        "\n",
        "    pool1 = MaxPool2D(pool_size=(2,2))(x)\n",
        "    #block 2\n",
        "    conv4 = ReLU()(Conv2D(60,1)(pool1))\n",
        "    conv5 = ReLU()(Conv2D(192,3)(conv4))\n",
        "    pool2 = MaxPool2D(pool_size=(2,2))(conv5)\n",
        "    #block 3\n",
        "    conv6 = ReLU()(Conv2D(256,3)(pool2))\n",
        "    pool3 = MaxPool2D(pool_size=(2,2))(conv6)\n",
        "    #block 4\n",
        "    conv7 = ReLU()(Conv2D(512,3,padding='same')(pool3)) # 반으로 줄임\n",
        "    pool4 = MaxPool2D(pool_size=(2,2))(conv7)\n",
        "    i_output1 = Flatten()(pool4)\n",
        "\n",
        "    i_model1 = Model(inputs = i_input1, outputs = i_output1)\n",
        "\n",
        "    # MMCP roi 모델 (tj-net)\n",
        "\n",
        "    i_input2 = Input(shape = (75,75,3))\n",
        "    \n",
        "    #block 1\n",
        "    conv1 = ReLU()(Conv2D(32,3)(i_input2)) \n",
        "    conv2 = ReLU()(Conv2D(32,3)(conv1))\n",
        "    conv3 = ReLU()(Conv2D(64,3,padding='same')(conv2))\n",
        "    x = Conv2D(64,1)(conv3)\n",
        "    x = BatchNormalization()(x)\n",
        "\n",
        "    se = GlobalAveragePooling2D()(x)\n",
        "    se = Dense(4,activation=\"relu\")(se)\n",
        "    se = Dense(64,activation=\"relu\")(se)\n",
        "    se = Reshape([1,1,64])(se)\n",
        "    x = Multiply()([conv3,se])\n",
        "\n",
        "    short = Conv2D(64,(1,1))(conv2)\n",
        "    short = BatchNormalization()(short)\n",
        "\n",
        "    x = ReLU()(add([x,short]))\n",
        "\n",
        "    pool1 = MaxPool2D(pool_size=(2,2))(x)\n",
        "    #block 2\n",
        "    conv4 = ReLU()(Conv2D(60,1)(pool1))\n",
        "    conv5 = ReLU()(Conv2D(192,3)(conv4))\n",
        "    pool2 = MaxPool2D(pool_size=(2,2))(conv5)\n",
        "    #block 3\n",
        "    conv6 = ReLU()(Conv2D(256,3)(pool2))\n",
        "    pool3 = MaxPool2D(pool_size=(2,2))(conv6)\n",
        "    #block 4\n",
        "    conv7 = ReLU()(Conv2D(512,3,padding='same')(pool3)) # 반으로 줄임\n",
        "    pool4 = MaxPool2D(pool_size=(2,2))(conv7)\n",
        "    i_output2 = Flatten()(pool4)\n",
        "\n",
        "    i_model2 = Model(inputs = i_input2, outputs = i_output2)\n",
        "\n",
        "    # TMCP roi 모델 (tj-net)\n",
        "\n",
        "    i_input3 = Input(shape = (75,75,3))\n",
        "    \n",
        "    #block 1\n",
        "    conv1 = ReLU()(Conv2D(32,3)(i_input3)) \n",
        "    conv2 = ReLU()(Conv2D(32,3)(conv1))\n",
        "    conv3 = ReLU()(Conv2D(64,3,padding='same')(conv2))\n",
        "    x = Conv2D(64,1)(conv3)\n",
        "    x = BatchNormalization()(x)\n",
        "\n",
        "    se = GlobalAveragePooling2D()(x)\n",
        "    se = Dense(4,activation=\"relu\")(se)\n",
        "    se = Dense(64,activation=\"relu\")(se)\n",
        "    se = Reshape([1,1,64])(se)\n",
        "    x = Multiply()([conv3,se])\n",
        "\n",
        "    short = Conv2D(64,(1,1))(conv2)\n",
        "    short = BatchNormalization()(short)\n",
        "\n",
        "    x = ReLU()(add([x,short]))\n",
        "\n",
        "    pool1 = MaxPool2D(pool_size=(2,2))(x)\n",
        "    #block 2\n",
        "    conv4 = ReLU()(Conv2D(60,1)(pool1))\n",
        "    conv5 = ReLU()(Conv2D(192,3)(conv4))\n",
        "    pool2 = MaxPool2D(pool_size=(2,2))(conv5)\n",
        "    #block 3\n",
        "    conv6 = ReLU()(Conv2D(256,3)(pool2))\n",
        "    pool3 = MaxPool2D(pool_size=(2,2))(conv6)\n",
        "    #block 4\n",
        "    conv7 = ReLU()(Conv2D(512,3,padding='same')(pool3)) # 반으로 줄임\n",
        "    pool4 = MaxPool2D(pool_size=(2,2))(conv7)\n",
        "    i_output3 = Flatten()(pool4)\n",
        "\n",
        "    i_model3 = Model(inputs = i_input3, outputs = i_output3)\n",
        "\n",
        "    # LPIP roi 모델 (tj-net)\n",
        "\n",
        "    i_input4 = Input(shape = (75,75,3))\n",
        "    \n",
        "    #block 1\n",
        "    conv1 = ReLU()(Conv2D(32,3)(i_input4)) \n",
        "    conv2 = ReLU()(Conv2D(32,3)(conv1))\n",
        "    conv3 = ReLU()(Conv2D(64,3,padding='same')(conv2))\n",
        "    x = Conv2D(64,1)(conv3)\n",
        "    x = BatchNormalization()(x)\n",
        "\n",
        "    se = GlobalAveragePooling2D()(x)\n",
        "    se = Dense(4,activation=\"relu\")(se)\n",
        "    se = Dense(64,activation=\"relu\")(se)\n",
        "    se = Reshape([1,1,64])(se)\n",
        "    x = Multiply()([conv3,se])\n",
        "\n",
        "    short = Conv2D(64,(1,1))(conv2)\n",
        "    short = BatchNormalization()(short)\n",
        "\n",
        "    x = ReLU()(add([x,short]))\n",
        "\n",
        "    pool1 = MaxPool2D(pool_size=(2,2))(x)\n",
        "    #block 2\n",
        "    conv4 = ReLU()(Conv2D(60,1)(pool1))\n",
        "    conv5 = ReLU()(Conv2D(192,3)(conv4))\n",
        "    pool2 = MaxPool2D(pool_size=(2,2))(conv5)\n",
        "    #block 3\n",
        "    conv6 = ReLU()(Conv2D(256,3)(pool2))\n",
        "    pool3 = MaxPool2D(pool_size=(2,2))(conv6)\n",
        "    #block 4\n",
        "    conv7 = ReLU()(Conv2D(512,3,padding='same')(pool3)) # 반으로 줄임\n",
        "    pool4 = MaxPool2D(pool_size=(2,2))(conv7)\n",
        "    i_output4 = Flatten()(pool4)\n",
        "\n",
        "    i_model4 = Model(inputs = i_input4, outputs = i_output4)\n",
        "\n",
        "    \n",
        "    # MPIP roi 모델 (tj-net)\n",
        "\n",
        "    i_input5 = Input(shape = (75,75,3))\n",
        "    \n",
        "    #block 1\n",
        "    conv1 = ReLU()(Conv2D(32,3)(i_input5))\n",
        "    conv2 = ReLU()(Conv2D(32,3)(conv1))\n",
        "    conv3 = ReLU()(Conv2D(64,3,padding='same')(conv2))\n",
        "    x = Conv2D(64,1)(conv3)\n",
        "    x = BatchNormalization()(x)\n",
        "\n",
        "    se = GlobalAveragePooling2D()(x)\n",
        "    se = Dense(4,activation=\"relu\")(se)    \n",
        "    se = Dense(64,activation=\"relu\")(se)   \n",
        "    se = Reshape([1,1,64])(se)\n",
        "    x = Multiply()([conv3,se])\n",
        "\n",
        "    short = Conv2D(64,(1,1))(conv2)\n",
        "    short = BatchNormalization()(short)\n",
        "\n",
        "    x = ReLU()(add([x,short]))\n",
        "\n",
        "    pool1 = MaxPool2D(pool_size=(2,2))(x)\n",
        "    #block 2\n",
        "    conv4 = ReLU()(Conv2D(60,1)(pool1))\n",
        "    conv5 = ReLU()(Conv2D(192,3)(conv4))\n",
        "    pool2 = MaxPool2D(pool_size=(2,2))(conv5)\n",
        "    #block 3\n",
        "    conv6 = ReLU()(Conv2D(256,3)(pool2))\n",
        "    pool3 = MaxPool2D(pool_size=(2,2))(conv6)\n",
        "    #block 4\n",
        "    conv7 = ReLU()(Conv2D(512,3,padding='same')(pool3)) #반으로 줄임\n",
        "    pool4 = MaxPool2D(pool_size=(2,2))(conv7)\n",
        "    i_output5 = Flatten()(pool4)\n",
        "\n",
        "    i_model5 = Model(inputs = i_input5, outputs = i_output5)\n",
        "\n",
        "    \n",
        "    # IP roi 모델 (tj-net)\n",
        "\n",
        "    i_input6 = Input(shape = (75,75,3))\n",
        "    \n",
        "    #block 1\n",
        "    conv1 = ReLU()(Conv2D(32,3)(i_input6))\n",
        "    conv2 = ReLU()(Conv2D(32,3)(conv1))\n",
        "    conv3 = ReLU()(Conv2D(64,3,padding='same')(conv2))\n",
        "    x = Conv2D(64,1)(conv3)\n",
        "    x = BatchNormalization()(x)\n",
        "\n",
        "    se = GlobalAveragePooling2D()(x)\n",
        "    se = Dense(4,activation=\"relu\")(se)\n",
        "    se = Dense(64,activation=\"relu\")(se)\n",
        "    se = Reshape([1,1,64])(se)\n",
        "    x = Multiply()([conv3,se])\n",
        "\n",
        "    short = Conv2D(64,(1,1))(conv2)\n",
        "    short = BatchNormalization()(short)\n",
        "\n",
        "    x = ReLU()(add([x,short]))\n",
        "\n",
        "    pool1 = MaxPool2D(pool_size=(2,2))(x)\n",
        "    #block 2\n",
        "    conv4 = ReLU()(Conv2D(60,1)(pool1))\n",
        "    conv5 = ReLU()(Conv2D(192,3)(conv4))\n",
        "    pool2 = MaxPool2D(pool_size=(2,2))(conv5)\n",
        "    #block 3\n",
        "    conv6 = ReLU()(Conv2D(256,3)(pool2))\n",
        "    pool3 = MaxPool2D(pool_size=(2,2))(conv6)\n",
        "    #block 4\n",
        "    conv7 = ReLU()(Conv2D(512,3,padding='same')(pool3)) # 이부분을 1024에서 512 로변경 \n",
        "    pool4 = MaxPool2D(pool_size=(2,2))(conv7)\n",
        "    i_output6 = Flatten()(pool4)\n",
        "\n",
        "    i_model6 = Model(inputs = i_input6, outputs = i_output6)\n",
        "\n",
        "    # gender 모델\n",
        "    g_model = gender()\n",
        "\n",
        "    #concat및 마무리\n",
        "    con1 = concatenate([i_model.output,i_model1.output,i_model2.output,i_model3.output])\n",
        "    dense1 = ReLU()(Dense(1024)(con1)) # dense1,2,3을 다 반으로 변경\n",
        "    con2 = concatenate([dense1,g_model.output])\n",
        "    dense2 = ReLU()(Dense(512)(con2))\n",
        "    dense3 = ReLU()(Dense(256)(dense2))\n",
        "    model_out = Dense(1,activation = \"linear\")(dense3)\n",
        "    model = Model([i_model.input,i_model1.input,i_model2.input,i_model3.input,i_model4.input,i_model5.input,i_model6.input,g_model.input],model_out)\n",
        "    return model\n"
      ],
      "execution_count": null,
      "outputs": []
    },
    {
      "cell_type": "code",
      "metadata": {
        "id": "Sm2bV2b1DwMF"
      },
      "source": [
        "def gender(act='relu'):\n",
        "    g_input = Input(shape = (1,))\n",
        "    g_output = Dense(64,activation = act)(g_input)\n",
        "    \n",
        "    g_model = Model(inputs = g_input,outputs = g_output)\n",
        "    return g_model"
      ],
      "execution_count": null,
      "outputs": []
    },
    {
      "cell_type": "markdown",
      "metadata": {
        "id": "Tikk05nwVOjF"
      },
      "source": [
        "#**모델 생성(만들때 마다 이름 바꿔주셈)**"
      ]
    },
    {
      "cell_type": "code",
      "metadata": {
        "id": "sp-p1CDkDwMG",
        "colab": {
          "base_uri": "https://localhost:8080/"
        },
        "outputId": "1ec74c77-b76b-4210-bdde-fedcc460f6a6"
      },
      "source": [
        "model_name = \"tjnet10\" # 이거 꼭 바꿔 다시 할때도 바꿔 잘못 만든거면 만들었던거 지워!\n",
        "model_weight = model_name +\"_weight.h5\"\n",
        "\n",
        "model = tjnet3()\n",
        "model.save(\"/content/drive/MyDrive/Colab Notebooks/\"+model_name+\".h5\") # 알아서 경로 잡아\n",
        "\n",
        "model.compile(loss ='mse', optimizer= 'nadam', metrics = [mae_in_months] )"
      ],
      "execution_count": null,
      "outputs": [
        {
          "output_type": "stream",
          "name": "stdout",
          "text": [
            "WARNING:tensorflow:Compiled the loaded model, but the compiled metrics have yet to be built. `model.compile_metrics` will be empty until you train or evaluate the model.\n"
          ]
        },
        {
          "output_type": "stream",
          "name": "stderr",
          "text": [
            "/usr/local/lib/python3.7/dist-packages/keras/utils/generic_utils.py:497: CustomMaskWarning: Custom mask layers require a config and must override get_config. When loading, the custom mask layer must be passed to the custom_objects argument.\n",
            "  category=CustomMaskWarning)\n"
          ]
        }
      ]
    },
    {
      "cell_type": "code",
      "metadata": {
        "colab": {
          "base_uri": "https://localhost:8080/"
        },
        "id": "acGwWr9kscL5",
        "outputId": "afd35463-f737-4aae-b1b1-ab85597b8ca3"
      },
      "source": [
        "model.input"
      ],
      "execution_count": null,
      "outputs": [
        {
          "output_type": "execute_result",
          "data": {
            "text/plain": [
              "[<KerasTensor: shape=(None, 224, 224, 3) dtype=float32 (created by layer 'input_9')>,\n",
              " <KerasTensor: shape=(None, 75, 75, 3) dtype=float32 (created by layer 'input_10')>,\n",
              " <KerasTensor: shape=(None, 75, 75, 3) dtype=float32 (created by layer 'input_11')>,\n",
              " <KerasTensor: shape=(None, 75, 75, 3) dtype=float32 (created by layer 'input_12')>,\n",
              " <KerasTensor: shape=(None, 75, 75, 3) dtype=float32 (created by layer 'input_13')>,\n",
              " <KerasTensor: shape=(None, 75, 75, 3) dtype=float32 (created by layer 'input_14')>,\n",
              " <KerasTensor: shape=(None, 75, 75, 3) dtype=float32 (created by layer 'input_15')>,\n",
              " <KerasTensor: shape=(None, 1) dtype=float32 (created by layer 'input_16')>]"
            ]
          },
          "metadata": {},
          "execution_count": 19
        }
      ]
    },
    {
      "cell_type": "code",
      "metadata": {
        "colab": {
          "base_uri": "https://localhost:8080/"
        },
        "id": "o7svhy9MytUZ",
        "outputId": "aa1d57a5-f8e3-4e47-a0b8-4c2f32d69455"
      },
      "source": [
        "model.summary()"
      ],
      "execution_count": null,
      "outputs": [
        {
          "output_type": "stream",
          "name": "stdout",
          "text": [
            "Model: \"model_8\"\n",
            "__________________________________________________________________________________________________\n",
            "Layer (type)                    Output Shape         Param #     Connected to                     \n",
            "==================================================================================================\n",
            "input_1 (InputLayer)            [(None, 224, 224, 3) 0                                            \n",
            "__________________________________________________________________________________________________\n",
            "input_2 (InputLayer)            [(None, 75, 75, 3)]  0                                            \n",
            "__________________________________________________________________________________________________\n",
            "input_3 (InputLayer)            [(None, 75, 75, 3)]  0                                            \n",
            "__________________________________________________________________________________________________\n",
            "input_4 (InputLayer)            [(None, 75, 75, 3)]  0                                            \n",
            "__________________________________________________________________________________________________\n",
            "conv2d (Conv2D)                 (None, 222, 222, 32) 896         input_1[0][0]                    \n",
            "__________________________________________________________________________________________________\n",
            "conv2d_9 (Conv2D)               (None, 73, 73, 32)   896         input_2[0][0]                    \n",
            "__________________________________________________________________________________________________\n",
            "conv2d_18 (Conv2D)              (None, 73, 73, 32)   896         input_3[0][0]                    \n",
            "__________________________________________________________________________________________________\n",
            "conv2d_27 (Conv2D)              (None, 73, 73, 32)   896         input_4[0][0]                    \n",
            "__________________________________________________________________________________________________\n",
            "re_lu (ReLU)                    (None, 222, 222, 32) 0           conv2d[0][0]                     \n",
            "__________________________________________________________________________________________________\n",
            "re_lu_8 (ReLU)                  (None, 73, 73, 32)   0           conv2d_9[0][0]                   \n",
            "__________________________________________________________________________________________________\n",
            "re_lu_16 (ReLU)                 (None, 73, 73, 32)   0           conv2d_18[0][0]                  \n",
            "__________________________________________________________________________________________________\n",
            "re_lu_24 (ReLU)                 (None, 73, 73, 32)   0           conv2d_27[0][0]                  \n",
            "__________________________________________________________________________________________________\n",
            "conv2d_1 (Conv2D)               (None, 220, 220, 32) 9248        re_lu[0][0]                      \n",
            "__________________________________________________________________________________________________\n",
            "conv2d_10 (Conv2D)              (None, 71, 71, 32)   9248        re_lu_8[0][0]                    \n",
            "__________________________________________________________________________________________________\n",
            "conv2d_19 (Conv2D)              (None, 71, 71, 32)   9248        re_lu_16[0][0]                   \n",
            "__________________________________________________________________________________________________\n",
            "conv2d_28 (Conv2D)              (None, 71, 71, 32)   9248        re_lu_24[0][0]                   \n",
            "__________________________________________________________________________________________________\n",
            "re_lu_1 (ReLU)                  (None, 220, 220, 32) 0           conv2d_1[0][0]                   \n",
            "__________________________________________________________________________________________________\n",
            "re_lu_9 (ReLU)                  (None, 71, 71, 32)   0           conv2d_10[0][0]                  \n",
            "__________________________________________________________________________________________________\n",
            "re_lu_17 (ReLU)                 (None, 71, 71, 32)   0           conv2d_19[0][0]                  \n",
            "__________________________________________________________________________________________________\n",
            "re_lu_25 (ReLU)                 (None, 71, 71, 32)   0           conv2d_28[0][0]                  \n",
            "__________________________________________________________________________________________________\n",
            "conv2d_2 (Conv2D)               (None, 220, 220, 64) 18496       re_lu_1[0][0]                    \n",
            "__________________________________________________________________________________________________\n",
            "conv2d_11 (Conv2D)              (None, 71, 71, 64)   18496       re_lu_9[0][0]                    \n",
            "__________________________________________________________________________________________________\n",
            "conv2d_20 (Conv2D)              (None, 71, 71, 64)   18496       re_lu_17[0][0]                   \n",
            "__________________________________________________________________________________________________\n",
            "conv2d_29 (Conv2D)              (None, 71, 71, 64)   18496       re_lu_25[0][0]                   \n",
            "__________________________________________________________________________________________________\n",
            "re_lu_2 (ReLU)                  (None, 220, 220, 64) 0           conv2d_2[0][0]                   \n",
            "__________________________________________________________________________________________________\n",
            "re_lu_10 (ReLU)                 (None, 71, 71, 64)   0           conv2d_11[0][0]                  \n",
            "__________________________________________________________________________________________________\n",
            "re_lu_18 (ReLU)                 (None, 71, 71, 64)   0           conv2d_20[0][0]                  \n",
            "__________________________________________________________________________________________________\n",
            "re_lu_26 (ReLU)                 (None, 71, 71, 64)   0           conv2d_29[0][0]                  \n",
            "__________________________________________________________________________________________________\n",
            "conv2d_3 (Conv2D)               (None, 220, 220, 64) 4160        re_lu_2[0][0]                    \n",
            "__________________________________________________________________________________________________\n",
            "conv2d_12 (Conv2D)              (None, 71, 71, 64)   4160        re_lu_10[0][0]                   \n",
            "__________________________________________________________________________________________________\n",
            "conv2d_21 (Conv2D)              (None, 71, 71, 64)   4160        re_lu_18[0][0]                   \n",
            "__________________________________________________________________________________________________\n",
            "conv2d_30 (Conv2D)              (None, 71, 71, 64)   4160        re_lu_26[0][0]                   \n",
            "__________________________________________________________________________________________________\n",
            "batch_normalization (BatchNorma (None, 220, 220, 64) 256         conv2d_3[0][0]                   \n",
            "__________________________________________________________________________________________________\n",
            "batch_normalization_2 (BatchNor (None, 71, 71, 64)   256         conv2d_12[0][0]                  \n",
            "__________________________________________________________________________________________________\n",
            "batch_normalization_4 (BatchNor (None, 71, 71, 64)   256         conv2d_21[0][0]                  \n",
            "__________________________________________________________________________________________________\n",
            "batch_normalization_6 (BatchNor (None, 71, 71, 64)   256         conv2d_30[0][0]                  \n",
            "__________________________________________________________________________________________________\n",
            "global_average_pooling2d (Globa (None, 64)           0           batch_normalization[0][0]        \n",
            "__________________________________________________________________________________________________\n",
            "global_average_pooling2d_1 (Glo (None, 64)           0           batch_normalization_2[0][0]      \n",
            "__________________________________________________________________________________________________\n",
            "global_average_pooling2d_2 (Glo (None, 64)           0           batch_normalization_4[0][0]      \n",
            "__________________________________________________________________________________________________\n",
            "global_average_pooling2d_3 (Glo (None, 64)           0           batch_normalization_6[0][0]      \n",
            "__________________________________________________________________________________________________\n",
            "dense (Dense)                   (None, 4)            260         global_average_pooling2d[0][0]   \n",
            "__________________________________________________________________________________________________\n",
            "dense_2 (Dense)                 (None, 4)            260         global_average_pooling2d_1[0][0] \n",
            "__________________________________________________________________________________________________\n",
            "dense_4 (Dense)                 (None, 4)            260         global_average_pooling2d_2[0][0] \n",
            "__________________________________________________________________________________________________\n",
            "dense_6 (Dense)                 (None, 4)            260         global_average_pooling2d_3[0][0] \n",
            "__________________________________________________________________________________________________\n",
            "dense_1 (Dense)                 (None, 64)           320         dense[0][0]                      \n",
            "__________________________________________________________________________________________________\n",
            "dense_3 (Dense)                 (None, 64)           320         dense_2[0][0]                    \n",
            "__________________________________________________________________________________________________\n",
            "dense_5 (Dense)                 (None, 64)           320         dense_4[0][0]                    \n",
            "__________________________________________________________________________________________________\n",
            "dense_7 (Dense)                 (None, 64)           320         dense_6[0][0]                    \n",
            "__________________________________________________________________________________________________\n",
            "reshape (Reshape)               (None, 1, 1, 64)     0           dense_1[0][0]                    \n",
            "__________________________________________________________________________________________________\n",
            "conv2d_4 (Conv2D)               (None, 220, 220, 64) 2112        re_lu_1[0][0]                    \n",
            "__________________________________________________________________________________________________\n",
            "reshape_1 (Reshape)             (None, 1, 1, 64)     0           dense_3[0][0]                    \n",
            "__________________________________________________________________________________________________\n",
            "conv2d_13 (Conv2D)              (None, 71, 71, 64)   2112        re_lu_9[0][0]                    \n",
            "__________________________________________________________________________________________________\n",
            "reshape_2 (Reshape)             (None, 1, 1, 64)     0           dense_5[0][0]                    \n",
            "__________________________________________________________________________________________________\n",
            "conv2d_22 (Conv2D)              (None, 71, 71, 64)   2112        re_lu_17[0][0]                   \n",
            "__________________________________________________________________________________________________\n",
            "reshape_3 (Reshape)             (None, 1, 1, 64)     0           dense_7[0][0]                    \n",
            "__________________________________________________________________________________________________\n",
            "conv2d_31 (Conv2D)              (None, 71, 71, 64)   2112        re_lu_25[0][0]                   \n",
            "__________________________________________________________________________________________________\n",
            "multiply (Multiply)             (None, 220, 220, 64) 0           re_lu_2[0][0]                    \n",
            "                                                                 reshape[0][0]                    \n",
            "__________________________________________________________________________________________________\n",
            "batch_normalization_1 (BatchNor (None, 220, 220, 64) 256         conv2d_4[0][0]                   \n",
            "__________________________________________________________________________________________________\n",
            "multiply_1 (Multiply)           (None, 71, 71, 64)   0           re_lu_10[0][0]                   \n",
            "                                                                 reshape_1[0][0]                  \n",
            "__________________________________________________________________________________________________\n",
            "batch_normalization_3 (BatchNor (None, 71, 71, 64)   256         conv2d_13[0][0]                  \n",
            "__________________________________________________________________________________________________\n",
            "multiply_2 (Multiply)           (None, 71, 71, 64)   0           re_lu_18[0][0]                   \n",
            "                                                                 reshape_2[0][0]                  \n",
            "__________________________________________________________________________________________________\n",
            "batch_normalization_5 (BatchNor (None, 71, 71, 64)   256         conv2d_22[0][0]                  \n",
            "__________________________________________________________________________________________________\n",
            "multiply_3 (Multiply)           (None, 71, 71, 64)   0           re_lu_26[0][0]                   \n",
            "                                                                 reshape_3[0][0]                  \n",
            "__________________________________________________________________________________________________\n",
            "batch_normalization_7 (BatchNor (None, 71, 71, 64)   256         conv2d_31[0][0]                  \n",
            "__________________________________________________________________________________________________\n",
            "add (Add)                       (None, 220, 220, 64) 0           multiply[0][0]                   \n",
            "                                                                 batch_normalization_1[0][0]      \n",
            "__________________________________________________________________________________________________\n",
            "add_1 (Add)                     (None, 71, 71, 64)   0           multiply_1[0][0]                 \n",
            "                                                                 batch_normalization_3[0][0]      \n",
            "__________________________________________________________________________________________________\n",
            "add_2 (Add)                     (None, 71, 71, 64)   0           multiply_2[0][0]                 \n",
            "                                                                 batch_normalization_5[0][0]      \n",
            "__________________________________________________________________________________________________\n",
            "add_3 (Add)                     (None, 71, 71, 64)   0           multiply_3[0][0]                 \n",
            "                                                                 batch_normalization_7[0][0]      \n",
            "__________________________________________________________________________________________________\n",
            "re_lu_3 (ReLU)                  (None, 220, 220, 64) 0           add[0][0]                        \n",
            "__________________________________________________________________________________________________\n",
            "re_lu_11 (ReLU)                 (None, 71, 71, 64)   0           add_1[0][0]                      \n",
            "__________________________________________________________________________________________________\n",
            "re_lu_19 (ReLU)                 (None, 71, 71, 64)   0           add_2[0][0]                      \n",
            "__________________________________________________________________________________________________\n",
            "re_lu_27 (ReLU)                 (None, 71, 71, 64)   0           add_3[0][0]                      \n",
            "__________________________________________________________________________________________________\n",
            "max_pooling2d (MaxPooling2D)    (None, 110, 110, 64) 0           re_lu_3[0][0]                    \n",
            "__________________________________________________________________________________________________\n",
            "max_pooling2d_4 (MaxPooling2D)  (None, 35, 35, 64)   0           re_lu_11[0][0]                   \n",
            "__________________________________________________________________________________________________\n",
            "max_pooling2d_8 (MaxPooling2D)  (None, 35, 35, 64)   0           re_lu_19[0][0]                   \n",
            "__________________________________________________________________________________________________\n",
            "max_pooling2d_12 (MaxPooling2D) (None, 35, 35, 64)   0           re_lu_27[0][0]                   \n",
            "__________________________________________________________________________________________________\n",
            "conv2d_5 (Conv2D)               (None, 110, 110, 60) 3900        max_pooling2d[0][0]              \n",
            "__________________________________________________________________________________________________\n",
            "conv2d_14 (Conv2D)              (None, 35, 35, 60)   3900        max_pooling2d_4[0][0]            \n",
            "__________________________________________________________________________________________________\n",
            "conv2d_23 (Conv2D)              (None, 35, 35, 60)   3900        max_pooling2d_8[0][0]            \n",
            "__________________________________________________________________________________________________\n",
            "conv2d_32 (Conv2D)              (None, 35, 35, 60)   3900        max_pooling2d_12[0][0]           \n",
            "__________________________________________________________________________________________________\n",
            "re_lu_4 (ReLU)                  (None, 110, 110, 60) 0           conv2d_5[0][0]                   \n",
            "__________________________________________________________________________________________________\n",
            "re_lu_12 (ReLU)                 (None, 35, 35, 60)   0           conv2d_14[0][0]                  \n",
            "__________________________________________________________________________________________________\n",
            "re_lu_20 (ReLU)                 (None, 35, 35, 60)   0           conv2d_23[0][0]                  \n",
            "__________________________________________________________________________________________________\n",
            "re_lu_28 (ReLU)                 (None, 35, 35, 60)   0           conv2d_32[0][0]                  \n",
            "__________________________________________________________________________________________________\n",
            "conv2d_6 (Conv2D)               (None, 108, 108, 192 103872      re_lu_4[0][0]                    \n",
            "__________________________________________________________________________________________________\n",
            "conv2d_15 (Conv2D)              (None, 33, 33, 192)  103872      re_lu_12[0][0]                   \n",
            "__________________________________________________________________________________________________\n",
            "conv2d_24 (Conv2D)              (None, 33, 33, 192)  103872      re_lu_20[0][0]                   \n",
            "__________________________________________________________________________________________________\n",
            "conv2d_33 (Conv2D)              (None, 33, 33, 192)  103872      re_lu_28[0][0]                   \n",
            "__________________________________________________________________________________________________\n",
            "re_lu_5 (ReLU)                  (None, 108, 108, 192 0           conv2d_6[0][0]                   \n",
            "__________________________________________________________________________________________________\n",
            "re_lu_13 (ReLU)                 (None, 33, 33, 192)  0           conv2d_15[0][0]                  \n",
            "__________________________________________________________________________________________________\n",
            "re_lu_21 (ReLU)                 (None, 33, 33, 192)  0           conv2d_24[0][0]                  \n",
            "__________________________________________________________________________________________________\n",
            "re_lu_29 (ReLU)                 (None, 33, 33, 192)  0           conv2d_33[0][0]                  \n",
            "__________________________________________________________________________________________________\n",
            "max_pooling2d_1 (MaxPooling2D)  (None, 54, 54, 192)  0           re_lu_5[0][0]                    \n",
            "__________________________________________________________________________________________________\n",
            "max_pooling2d_5 (MaxPooling2D)  (None, 16, 16, 192)  0           re_lu_13[0][0]                   \n",
            "__________________________________________________________________________________________________\n",
            "max_pooling2d_9 (MaxPooling2D)  (None, 16, 16, 192)  0           re_lu_21[0][0]                   \n",
            "__________________________________________________________________________________________________\n",
            "max_pooling2d_13 (MaxPooling2D) (None, 16, 16, 192)  0           re_lu_29[0][0]                   \n",
            "__________________________________________________________________________________________________\n",
            "conv2d_7 (Conv2D)               (None, 52, 52, 512)  885248      max_pooling2d_1[0][0]            \n",
            "__________________________________________________________________________________________________\n",
            "conv2d_16 (Conv2D)              (None, 14, 14, 256)  442624      max_pooling2d_5[0][0]            \n",
            "__________________________________________________________________________________________________\n",
            "conv2d_25 (Conv2D)              (None, 14, 14, 256)  442624      max_pooling2d_9[0][0]            \n",
            "__________________________________________________________________________________________________\n",
            "conv2d_34 (Conv2D)              (None, 14, 14, 256)  442624      max_pooling2d_13[0][0]           \n",
            "__________________________________________________________________________________________________\n",
            "re_lu_6 (ReLU)                  (None, 52, 52, 512)  0           conv2d_7[0][0]                   \n",
            "__________________________________________________________________________________________________\n",
            "re_lu_14 (ReLU)                 (None, 14, 14, 256)  0           conv2d_16[0][0]                  \n",
            "__________________________________________________________________________________________________\n",
            "re_lu_22 (ReLU)                 (None, 14, 14, 256)  0           conv2d_25[0][0]                  \n",
            "__________________________________________________________________________________________________\n",
            "re_lu_30 (ReLU)                 (None, 14, 14, 256)  0           conv2d_34[0][0]                  \n",
            "__________________________________________________________________________________________________\n",
            "max_pooling2d_2 (MaxPooling2D)  (None, 26, 26, 512)  0           re_lu_6[0][0]                    \n",
            "__________________________________________________________________________________________________\n",
            "max_pooling2d_6 (MaxPooling2D)  (None, 7, 7, 256)    0           re_lu_14[0][0]                   \n",
            "__________________________________________________________________________________________________\n",
            "max_pooling2d_10 (MaxPooling2D) (None, 7, 7, 256)    0           re_lu_22[0][0]                   \n",
            "__________________________________________________________________________________________________\n",
            "max_pooling2d_14 (MaxPooling2D) (None, 7, 7, 256)    0           re_lu_30[0][0]                   \n",
            "__________________________________________________________________________________________________\n",
            "conv2d_8 (Conv2D)               (None, 26, 26, 512)  2359808     max_pooling2d_2[0][0]            \n",
            "__________________________________________________________________________________________________\n",
            "conv2d_17 (Conv2D)              (None, 7, 7, 512)    1180160     max_pooling2d_6[0][0]            \n",
            "__________________________________________________________________________________________________\n",
            "conv2d_26 (Conv2D)              (None, 7, 7, 512)    1180160     max_pooling2d_10[0][0]           \n",
            "__________________________________________________________________________________________________\n",
            "conv2d_35 (Conv2D)              (None, 7, 7, 512)    1180160     max_pooling2d_14[0][0]           \n",
            "__________________________________________________________________________________________________\n",
            "re_lu_7 (ReLU)                  (None, 26, 26, 512)  0           conv2d_8[0][0]                   \n",
            "__________________________________________________________________________________________________\n",
            "re_lu_15 (ReLU)                 (None, 7, 7, 512)    0           conv2d_17[0][0]                  \n",
            "__________________________________________________________________________________________________\n",
            "re_lu_23 (ReLU)                 (None, 7, 7, 512)    0           conv2d_26[0][0]                  \n",
            "__________________________________________________________________________________________________\n",
            "re_lu_31 (ReLU)                 (None, 7, 7, 512)    0           conv2d_35[0][0]                  \n",
            "__________________________________________________________________________________________________\n",
            "max_pooling2d_3 (MaxPooling2D)  (None, 13, 13, 512)  0           re_lu_7[0][0]                    \n",
            "__________________________________________________________________________________________________\n",
            "max_pooling2d_7 (MaxPooling2D)  (None, 3, 3, 512)    0           re_lu_15[0][0]                   \n",
            "__________________________________________________________________________________________________\n",
            "max_pooling2d_11 (MaxPooling2D) (None, 3, 3, 512)    0           re_lu_23[0][0]                   \n",
            "__________________________________________________________________________________________________\n",
            "max_pooling2d_15 (MaxPooling2D) (None, 3, 3, 512)    0           re_lu_31[0][0]                   \n",
            "__________________________________________________________________________________________________\n",
            "flatten (Flatten)               (None, 86528)        0           max_pooling2d_3[0][0]            \n",
            "__________________________________________________________________________________________________\n",
            "flatten_1 (Flatten)             (None, 4608)         0           max_pooling2d_7[0][0]            \n",
            "__________________________________________________________________________________________________\n",
            "flatten_2 (Flatten)             (None, 4608)         0           max_pooling2d_11[0][0]           \n",
            "__________________________________________________________________________________________________\n",
            "flatten_3 (Flatten)             (None, 4608)         0           max_pooling2d_15[0][0]           \n",
            "__________________________________________________________________________________________________\n",
            "concatenate (Concatenate)       (None, 100352)       0           flatten[0][0]                    \n",
            "                                                                 flatten_1[0][0]                  \n",
            "                                                                 flatten_2[0][0]                  \n",
            "                                                                 flatten_3[0][0]                  \n",
            "__________________________________________________________________________________________________\n",
            "dense_15 (Dense)                (None, 1024)         102761472   concatenate[0][0]                \n",
            "__________________________________________________________________________________________________\n",
            "input_8 (InputLayer)            [(None, 1)]          0                                            \n",
            "__________________________________________________________________________________________________\n",
            "re_lu_56 (ReLU)                 (None, 1024)         0           dense_15[0][0]                   \n",
            "__________________________________________________________________________________________________\n",
            "dense_14 (Dense)                (None, 64)           128         input_8[0][0]                    \n",
            "__________________________________________________________________________________________________\n",
            "concatenate_1 (Concatenate)     (None, 1088)         0           re_lu_56[0][0]                   \n",
            "                                                                 dense_14[0][0]                   \n",
            "__________________________________________________________________________________________________\n",
            "dense_16 (Dense)                (None, 512)          557568      concatenate_1[0][0]              \n",
            "__________________________________________________________________________________________________\n",
            "re_lu_57 (ReLU)                 (None, 512)          0           dense_16[0][0]                   \n",
            "__________________________________________________________________________________________________\n",
            "dense_17 (Dense)                (None, 256)          131328      re_lu_57[0][0]                   \n",
            "__________________________________________________________________________________________________\n",
            "re_lu_58 (ReLU)                 (None, 256)          0           dense_17[0][0]                   \n",
            "__________________________________________________________________________________________________\n",
            "input_5 (InputLayer)            [(None, 75, 75, 3)]  0                                            \n",
            "__________________________________________________________________________________________________\n",
            "input_6 (InputLayer)            [(None, 75, 75, 3)]  0                                            \n",
            "__________________________________________________________________________________________________\n",
            "input_7 (InputLayer)            [(None, 75, 75, 3)]  0                                            \n",
            "__________________________________________________________________________________________________\n",
            "dense_18 (Dense)                (None, 1)            257         re_lu_58[0][0]                   \n",
            "==================================================================================================\n",
            "Total params: 112,139,265\n",
            "Trainable params: 112,138,241\n",
            "Non-trainable params: 1,024\n",
            "__________________________________________________________________________________________________\n"
          ]
        }
      ]
    },
    {
      "cell_type": "markdown",
      "metadata": {
        "id": "06G0CY1ODwMH"
      },
      "source": [
        "## train_val_set 만들기"
      ]
    },
    {
      "cell_type": "code",
      "metadata": {
        "scrolled": true,
        "id": "h3bXaTs2DwMH"
      },
      "source": [
        "from sklearn.model_selection import train_test_split, StratifiedShuffleSplit\n",
        "\n",
        "# train_df, val_df = train_test_split(df, test_size = 0.2, random_state = 0)\n",
        "\n",
        "split = StratifiedShuffleSplit(n_splits = 1, test_size = 0.3, random_state = 22)\n",
        "\n",
        "# ST를 기준으로 일정 비율로 데이터셋을 나눔\n",
        "for train_index, test_index in split.split(df, df['ST']):\n",
        "    train_df = df.loc[train_index]\n",
        "    val_df = df.loc[test_index]\n",
        "\n",
        "train_df = train_df.reset_index(drop=True)\n",
        "val_df = val_df.reset_index(drop=True)\n",
        "\n",
        "train_X,train_y = generator(train_df,model,3) # 7:3비율로 나눔, 데이터 프레임에 있는 roi파일 이름과 이미지를 맞춰 셋을 나눔\n",
        "val_X,val_y = generator(val_df,model,3)"
      ],
      "execution_count": null,
      "outputs": []
    },
    {
      "cell_type": "code",
      "metadata": {
        "id": "3k7EEDYjDwMH",
        "colab": {
          "base_uri": "https://localhost:8080/"
        },
        "outputId": "152d8188-2a87-4a72-8fb4-ec68e2c69889"
      },
      "source": [
        "len(train_df), len(val_df)"
      ],
      "execution_count": null,
      "outputs": [
        {
          "output_type": "execute_result",
          "data": {
            "text/plain": [
              "(865, 371)"
            ]
          },
          "metadata": {},
          "execution_count": 18
        }
      ]
    },
    {
      "cell_type": "code",
      "metadata": {
        "id": "hdwVjKqWDwMH",
        "colab": {
          "base_uri": "https://localhost:8080/"
        },
        "outputId": "88ac1115-3cb8-4196-b244-4c6f0ccb299d"
      },
      "source": [
        "len(train_y),len(val_y)"
      ],
      "execution_count": null,
      "outputs": [
        {
          "output_type": "execute_result",
          "data": {
            "text/plain": [
              "(865, 371)"
            ]
          },
          "metadata": {},
          "execution_count": 19
        }
      ]
    },
    {
      "cell_type": "markdown",
      "metadata": {
        "id": "xwvf7loGDwMH"
      },
      "source": [
        "## 초반에 loss 심한거 뺄려고 한번만 먼저 돌리기"
      ]
    },
    {
      "cell_type": "code",
      "metadata": {
        "colab": {
          "base_uri": "https://localhost:8080/"
        },
        "id": "AzWGIzaCvevu",
        "outputId": "52ca7ed6-ad17-4848-dbef-1eaaa2cdcc93"
      },
      "source": [
        "from tensorflow.python.client import device_lib\n",
        "print(device_lib.list_local_devices())"
      ],
      "execution_count": null,
      "outputs": [
        {
          "output_type": "stream",
          "name": "stdout",
          "text": [
            "[name: \"/device:CPU:0\"\n",
            "device_type: \"CPU\"\n",
            "memory_limit: 268435456\n",
            "locality {\n",
            "}\n",
            "incarnation: 4288300965539651157\n",
            ", name: \"/device:GPU:0\"\n",
            "device_type: \"GPU\"\n",
            "memory_limit: 16185556992\n",
            "locality {\n",
            "  bus_id: 1\n",
            "  links {\n",
            "  }\n",
            "}\n",
            "incarnation: 13533165694376665704\n",
            "physical_device_desc: \"device: 0, name: Tesla P100-PCIE-16GB, pci bus id: 0000:00:04.0, compute capability: 6.0\"\n",
            "]\n"
          ]
        }
      ]
    },
    {
      "cell_type": "code",
      "metadata": {
        "id": "t9NnXu58DwMI",
        "colab": {
          "base_uri": "https://localhost:8080/"
        },
        "outputId": "4a9ee670-08a2-48d9-d587-235ee4572fd1"
      },
      "source": [
        "# model.load_weights(\"temp/\"+model_weight)\n",
        "\n",
        "model.fit(train_X,train_y,validation_data = (val_X,val_y),epochs = 1,batch_size=4)"
      ],
      "execution_count": null,
      "outputs": [
        {
          "output_type": "stream",
          "name": "stdout",
          "text": [
            "216/216 [==============================] - 30s 103ms/step - loss: 141.6041 - mae_in_months: 62.0321 - val_loss: 0.0809 - val_mae_in_months: 11.5675\n"
          ]
        },
        {
          "output_type": "execute_result",
          "data": {
            "text/plain": [
              "<keras.callbacks.History at 0x7f7d2f343650>"
            ]
          },
          "metadata": {},
          "execution_count": 61
        }
      ]
    },
    {
      "cell_type": "markdown",
      "metadata": {
        "id": "vvIuQqBPDwMI"
      },
      "source": [
        "## 모델학습"
      ]
    },
    {
      "cell_type": "code",
      "metadata": {
        "scrolled": true,
        "id": "6li8xL70DwMI",
        "colab": {
          "base_uri": "https://localhost:8080/"
        },
        "outputId": "189fc6b1-2be3-4174-952d-e6d832840121"
      },
      "source": [
        "# 모델 fit\n",
        "\n",
        "epochs = 100                                                 \n",
        "#early stopping\n",
        "early_stopping = [EarlyStopping(monitor='val_loss',\n",
        "                              min_delta=0,\n",
        "                              patience= 5,\n",
        "                              verbose=0, mode='auto'),\n",
        "                  ModelCheckpoint(filepath='/content/drive/MyDrive/Colab Notebooks/tjnet5.h5',\n",
        "                                  monitor = 'val_loss',\n",
        "                                  save_best_only = True)] # 이거도 이름 바꿔줘 \n",
        "\n",
        "\n",
        "# mc = ModelCheckpoint(\"temp/\"+model_weight, monitor='val_loss', mode='min', save_best_only=True)\n",
        "rLR = ReduceLROnPlateau(\n",
        "    monitor='val_loss',  # 검증 손실을 기준으로 callback이 호출됩니다\n",
        "    factor=0.5,          # callback 호출시 학습률을 1/2로 줄입니다\n",
        "    patience=5,         # epoch 5 동안 개선되지 않으면 callback이 호출됩니다\n",
        ")\n",
        "\n",
        "callbacks = [early_stopping,rLR]\n",
        "\n",
        "\n",
        "#fit model\n",
        "history = model.fit(train_X,train_y,\n",
        "                    validation_data = (val_X,val_y),\n",
        "                    epochs = epochs,\n",
        "                    callbacks= callbacks,\n",
        "                    batch_size=4)\n",
        "plot_it(history)"
      ],
      "execution_count": null,
      "outputs": [
        {
          "output_type": "stream",
          "name": "stdout",
          "text": [
            "Epoch 1/100\n",
            "216/216 [==============================] - 21s 98ms/step - loss: 0.0548 - mae_in_months: 8.9305 - val_loss: 0.0768 - val_mae_in_months: 10.5232\n"
          ]
        },
        {
          "output_type": "stream",
          "name": "stderr",
          "text": [
            "/usr/local/lib/python3.7/dist-packages/keras/utils/generic_utils.py:497: CustomMaskWarning: Custom mask layers require a config and must override get_config. When loading, the custom mask layer must be passed to the custom_objects argument.\n",
            "  category=CustomMaskWarning)\n"
          ]
        },
        {
          "output_type": "stream",
          "name": "stdout",
          "text": [
            "Epoch 2/100\n",
            "216/216 [==============================] - 21s 99ms/step - loss: 0.0450 - mae_in_months: 7.7817 - val_loss: 0.0264 - val_mae_in_months: 5.9154\n",
            "Epoch 3/100\n",
            "216/216 [==============================] - 21s 99ms/step - loss: 0.0243 - mae_in_months: 5.7021 - val_loss: 0.0318 - val_mae_in_months: 6.9677\n",
            "Epoch 4/100\n",
            "216/216 [==============================] - 21s 99ms/step - loss: 0.0203 - mae_in_months: 5.2430 - val_loss: 0.0212 - val_mae_in_months: 5.4950\n",
            "Epoch 5/100\n",
            "193/216 [=========================>....] - ETA: 2s - loss: 0.0120 - mae_in_months: 4.0818"
          ]
        }
      ]
    },
    {
      "cell_type": "code",
      "metadata": {
        "id": "E-Pkfg7f0uiZ"
      },
      "source": [
        "history"
      ],
      "execution_count": null,
      "outputs": []
    },
    {
      "cell_type": "code",
      "metadata": {
        "id": "AsWCBazrDwMI",
        "colab": {
          "base_uri": "https://localhost:8080/",
          "height": 244
        },
        "outputId": "e0dd7f9f-5efb-4c0c-a064-794f36de10b5"
      },
      "source": [
        "import matplotlib.pyplot as plt\n",
        "\n",
        "acc = history.history['acc']\n",
        "val_acc = history.history['val_acc']\n",
        "loss = history.history['loss']\n",
        "val_loss = history.history['val_loss']\n",
        "\n",
        "epochs = range(1, len(acc) + 1)\n",
        "plt.plot(epochs,acc,'bo',label='Training acc')\n",
        "plt.plot(epochs,val_acc,'b',label='Validation acc')\n",
        "plt.title('Training and validation accuracy')\n",
        "plt.legend()\n",
        "\n",
        "plt.figure()\n",
        "\n",
        "plt.plot(epochs, loss, 'bo', label='Training loss')\n",
        "plt.plot(epochs, val_loss, 'b', label='Validation loss')\n",
        "plt.title('Trainindg and validation loss')\n",
        "plt.legend()\n",
        "plt.show()"
      ],
      "execution_count": null,
      "outputs": [
        {
          "output_type": "error",
          "ename": "KeyError",
          "evalue": "ignored",
          "traceback": [
            "\u001b[0;31m---------------------------------------------------------------------------\u001b[0m",
            "\u001b[0;31mKeyError\u001b[0m                                  Traceback (most recent call last)",
            "\u001b[0;32m<ipython-input-28-816e0e9b5288>\u001b[0m in \u001b[0;36m<module>\u001b[0;34m()\u001b[0m\n\u001b[1;32m      1\u001b[0m \u001b[0;32mimport\u001b[0m \u001b[0mmatplotlib\u001b[0m\u001b[0;34m.\u001b[0m\u001b[0mpyplot\u001b[0m \u001b[0;32mas\u001b[0m \u001b[0mplt\u001b[0m\u001b[0;34m\u001b[0m\u001b[0;34m\u001b[0m\u001b[0m\n\u001b[1;32m      2\u001b[0m \u001b[0;34m\u001b[0m\u001b[0m\n\u001b[0;32m----> 3\u001b[0;31m \u001b[0macc\u001b[0m \u001b[0;34m=\u001b[0m \u001b[0mhistory\u001b[0m\u001b[0;34m.\u001b[0m\u001b[0mhistory\u001b[0m\u001b[0;34m[\u001b[0m\u001b[0;34m'acc'\u001b[0m\u001b[0;34m]\u001b[0m\u001b[0;34m\u001b[0m\u001b[0;34m\u001b[0m\u001b[0m\n\u001b[0m\u001b[1;32m      4\u001b[0m \u001b[0mval_acc\u001b[0m \u001b[0;34m=\u001b[0m \u001b[0mhistory\u001b[0m\u001b[0;34m.\u001b[0m\u001b[0mhistory\u001b[0m\u001b[0;34m[\u001b[0m\u001b[0;34m'val_acc'\u001b[0m\u001b[0;34m]\u001b[0m\u001b[0;34m\u001b[0m\u001b[0;34m\u001b[0m\u001b[0m\n\u001b[1;32m      5\u001b[0m \u001b[0mloss\u001b[0m \u001b[0;34m=\u001b[0m \u001b[0mhistory\u001b[0m\u001b[0;34m.\u001b[0m\u001b[0mhistory\u001b[0m\u001b[0;34m[\u001b[0m\u001b[0;34m'loss'\u001b[0m\u001b[0;34m]\u001b[0m\u001b[0;34m\u001b[0m\u001b[0;34m\u001b[0m\u001b[0m\n",
            "\u001b[0;31mKeyError\u001b[0m: 'acc'"
          ]
        }
      ]
    },
    {
      "cell_type": "markdown",
      "metadata": {
        "id": "yWlsntoiDwMI"
      },
      "source": [
        "## 평가 및 저장"
      ]
    },
    {
      "cell_type": "code",
      "metadata": {
        "id": "GHlma0umDwMI",
        "colab": {
          "base_uri": "https://localhost:8080/"
        },
        "outputId": "cb9c908e-edd0-4bf6-ddcc-b85f4799e2c0"
      },
      "source": [
        "pred = model.predict(val_X)*ba_std+ba_mean\n",
        "mse, mae = model.evaluate(val_X,val_y)\n",
        "\n",
        "from sklearn.metrics import r2_score\n",
        "# r2 = r2_score(val_df.boneage,pred)\n",
        "\n",
        "print(f\"mae_year : {mae}, rmse : {mse}\" )"
      ],
      "execution_count": null,
      "outputs": [
        {
          "output_type": "stream",
          "name": "stdout",
          "text": [
            "12/12 [==============================] - 1s 72ms/step - loss: 0.0167 - mae_in_months: 4.9390\n",
            "mae_year : 4.9390058517456055, rmse : 0.016723008826375008\n"
          ]
        }
      ]
    },
    {
      "cell_type": "code",
      "metadata": {
        "id": "v9xT5CfXDwMJ",
        "colab": {
          "base_uri": "https://localhost:8080/"
        },
        "outputId": "d729631f-6159-4f0c-bb72-3ccc70a46122"
      },
      "source": [
        "from sklearn.metrics import mean_absolute_error\n",
        "v = val_y*ba_std+ba_mean\n",
        "mean_absolute_error(np.round(pred),v)/12,mean_absolute_error(pred,v)/12"
      ],
      "execution_count": null,
      "outputs": [
        {
          "output_type": "execute_result",
          "data": {
            "text/plain": [
              "(0.4112631639640769, 0.4115838367486278)"
            ]
          },
          "metadata": {},
          "execution_count": 31
        }
      ]
    },
    {
      "cell_type": "code",
      "metadata": {
        "id": "qk1XqC1tpAC9"
      },
      "source": [
        "import numpy as np\n",
        "import tensorflow.keras as tf\n",
        "\n",
        "model = tf.models.load_model('/content/drive/MyDrive/Colab Notebooks/tjnet4.h5')\n",
        "\n",
        "CARPAL = '/content/drive/MyDrive/2차 프로젝트 원본 데이터/crop_img_folders/CARPAL/100_F_cp.jpg'\n",
        "\n",
        "y_predict = model.predict(x_test)\n",
        "\n",
        "label = labels[y_predict[0].argmax()]\n",
        "confidence = y_predict[0][y_predict[0].argmax()]"
      ],
      "execution_count": null,
      "outputs": []
    },
    {
      "cell_type": "markdown",
      "metadata": {
        "id": "LNG2KFI5KpPF"
      },
      "source": [
        ""
      ]
    }
  ]
}