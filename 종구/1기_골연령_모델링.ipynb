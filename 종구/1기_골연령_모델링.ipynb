{
  "nbformat": 4,
  "nbformat_minor": 0,
  "metadata": {
    "kernelspec": {
      "display_name": "Python 3",
      "language": "python",
      "name": "python3"
    },
    "language_info": {
      "codemirror_mode": {
        "name": "ipython",
        "version": 3
      },
      "file_extension": ".py",
      "mimetype": "text/x-python",
      "name": "python",
      "nbconvert_exporter": "python",
      "pygments_lexer": "ipython3",
      "version": "3.7.6"
    },
    "toc": {
      "base_numbering": 1,
      "nav_menu": {},
      "number_sections": true,
      "sideBar": true,
      "skip_h1_title": false,
      "title_cell": "Table of Contents",
      "title_sidebar": "Contents",
      "toc_cell": false,
      "toc_position": {},
      "toc_section_display": true,
      "toc_window_display": false
    },
    "varInspector": {
      "cols": {
        "lenName": 16,
        "lenType": 16,
        "lenVar": 40
      },
      "kernels_config": {
        "python": {
          "delete_cmd_postfix": "",
          "delete_cmd_prefix": "del ",
          "library": "var_list.py",
          "varRefreshCmd": "print(var_dic_list())"
        },
        "r": {
          "delete_cmd_postfix": ") ",
          "delete_cmd_prefix": "rm(",
          "library": "var_list.r",
          "varRefreshCmd": "cat(var_dic_list()) "
        }
      },
      "types_to_exclude": [
        "module",
        "function",
        "builtin_function_or_method",
        "instance",
        "_Feature"
      ],
      "window_display": false
    },
    "colab": {
      "name": "1기_골연령 모델링.ipynb",
      "provenance": [],
      "collapsed_sections": [],
      "machine_shape": "hm",
      "include_colab_link": true
    },
    "accelerator": "GPU"
  },
  "cells": [
    {
      "cell_type": "markdown",
      "metadata": {
        "id": "view-in-github",
        "colab_type": "text"
      },
      "source": [
        "<a href=\"https://colab.research.google.com/github/kikiru328/Bone_Detection/blob/main/%EC%A2%85%EA%B5%AC/1%EA%B8%B0_%EA%B3%A8%EC%97%B0%EB%A0%B9_%EB%AA%A8%EB%8D%B8%EB%A7%81.ipynb\" target=\"_parent\"><img src=\"https://colab.research.google.com/assets/colab-badge.svg\" alt=\"Open In Colab\"/></a>"
      ]
    },
    {
      "cell_type": "markdown",
      "metadata": {
        "id": "B8_ktSm1DwL-"
      },
      "source": [
        "# 패키지"
      ]
    },
    {
      "cell_type": "code",
      "metadata": {
        "id": "S3UMZCOzDwL_"
      },
      "source": [
        "import cv2\n",
        "import pandas as pd\n",
        "import numpy as np\n",
        "import matplotlib.pyplot as plt\n",
        "import tensorflow as tf\n",
        "import os\n",
        "from tensorflow.keras.models import *\n",
        "from tensorflow.keras.layers import *\n",
        "from tensorflow.keras.optimizers import *\n",
        "from tensorflow.keras.callbacks import * # 모든 관절을 학습하기 위해 순환 함\n",
        "import keras\n"
      ],
      "execution_count": null,
      "outputs": []
    },
    {
      "cell_type": "code",
      "metadata": {
        "colab": {
          "base_uri": "https://localhost:8080/",
          "height": 35
        },
        "id": "vnjjvVUUsL_i",
        "outputId": "0e27e199-3b3b-436e-e74f-27241493aa78"
      },
      "source": [
        "tf.__version__"
      ],
      "execution_count": null,
      "outputs": [
        {
          "output_type": "execute_result",
          "data": {
            "application/vnd.google.colaboratory.intrinsic+json": {
              "type": "string"
            },
            "text/plain": [
              "'2.4.1'"
            ]
          },
          "metadata": {
            "tags": []
          },
          "execution_count": 2
        }
      ]
    },
    {
      "cell_type": "code",
      "metadata": {
        "colab": {
          "base_uri": "https://localhost:8080/"
        },
        "id": "v7LBdJS2Hhlb",
        "outputId": "69ee391b-247d-4333-d2c6-59dfdf4d6703"
      },
      "source": [
        "%cd /content/drive/MyDrive/project2/2_Modeling/01_model_learning/"
      ],
      "execution_count": null,
      "outputs": [
        {
          "output_type": "stream",
          "text": [
            "/content/drive/MyDrive/project2/2_Modeling/01_model_learning\n"
          ],
          "name": "stdout"
        }
      ]
    },
    {
      "cell_type": "code",
      "metadata": {
        "colab": {
          "base_uri": "https://localhost:8080/"
        },
        "id": "nMysHgfSHPfM",
        "outputId": "a29ab931-fee9-46df-fbf2-4b9e38ea4385"
      },
      "source": [
        "from google.colab import drive\n",
        "drive.mount('/content/drive')"
      ],
      "execution_count": null,
      "outputs": [
        {
          "output_type": "stream",
          "text": [
            "Mounted at /content/drive\n"
          ],
          "name": "stdout"
        }
      ]
    },
    {
      "cell_type": "markdown",
      "metadata": {
        "id": "2FiyMtoqDwL_"
      },
      "source": [
        "## DataFrame 전처리\n",
        "- 여기서 이미지 사이즈 조절\n",
        "- 여기서 model이름 설정\n",
        "- path 조절\n",
        "- train_test_split"
      ]
    },
    {
      "cell_type": "code",
      "metadata": {
        "id": "9TcClG3jDwMA"
      },
      "source": [
        "path_CARPAL = \"../\"\n",
        "path_LMCP = \"../\"\n",
        "path_MMCP = \"../\"\n",
        "path_TMCP = \"../\"\n",
        "path_LPIP = \"../\"\n",
        "path_MPIP = \"../\"\n",
        "path_IP = \"../\""
      ],
      "execution_count": null,
      "outputs": []
    },
    {
      "cell_type": "code",
      "metadata": {
        "id": "O2PezfpdDwMA"
      },
      "source": [
        "df = pd.read_csv(\"../../BA_total.csv\")"
      ],
      "execution_count": null,
      "outputs": []
    },
    {
      "cell_type": "code",
      "metadata": {
        "id": "8FVgDrKYDwMA",
        "colab": {
          "base_uri": "https://localhost:8080/",
          "height": 343
        },
        "outputId": "06761ba3-a652-4020-89e5-572b7271573f"
      },
      "source": [
        "df.head()"
      ],
      "execution_count": null,
      "outputs": [
        {
          "output_type": "execute_result",
          "data": {
            "text/html": [
              "<div>\n",
              "<style scoped>\n",
              "    .dataframe tbody tr th:only-of-type {\n",
              "        vertical-align: middle;\n",
              "    }\n",
              "\n",
              "    .dataframe tbody tr th {\n",
              "        vertical-align: top;\n",
              "    }\n",
              "\n",
              "    .dataframe thead th {\n",
              "        text-align: right;\n",
              "    }\n",
              "</style>\n",
              "<table border=\"1\" class=\"dataframe\">\n",
              "  <thead>\n",
              "    <tr style=\"text-align: right;\">\n",
              "      <th></th>\n",
              "      <th>Unnamed: 0</th>\n",
              "      <th>index</th>\n",
              "      <th>No.</th>\n",
              "      <th>Group</th>\n",
              "      <th>등록번호</th>\n",
              "      <th>생년월일</th>\n",
              "      <th>성별</th>\n",
              "      <th>진료의</th>\n",
              "      <th>검사 시 나이</th>\n",
              "      <th>신장</th>\n",
              "      <th>체중</th>\n",
              "      <th>BMI</th>\n",
              "      <th>처방일자</th>\n",
              "      <th>시행일자</th>\n",
              "      <th>BA 1</th>\n",
              "      <th>BA 2</th>\n",
              "      <th>file_name</th>\n",
              "      <th>wrist_roi</th>\n",
              "      <th>middle_roi</th>\n",
              "      <th>thumb_roi</th>\n",
              "      <th>little_roi</th>\n",
              "      <th>BA</th>\n",
              "      <th>boneage</th>\n",
              "      <th>BA_z</th>\n",
              "      <th>gender</th>\n",
              "    </tr>\n",
              "  </thead>\n",
              "  <tbody>\n",
              "    <tr>\n",
              "      <th>0</th>\n",
              "      <td>0</td>\n",
              "      <td>1</td>\n",
              "      <td>1</td>\n",
              "      <td>1568</td>\n",
              "      <td>8110925</td>\n",
              "      <td>2013-08-19</td>\n",
              "      <td>2</td>\n",
              "      <td>1</td>\n",
              "      <td>2.953425</td>\n",
              "      <td>88.9</td>\n",
              "      <td>11.3</td>\n",
              "      <td>14.3</td>\n",
              "      <td>2016-08-01</td>\n",
              "      <td>2016-08-01</td>\n",
              "      <td>3.25</td>\n",
              "      <td>3.25</td>\n",
              "      <td>1_F.jpg</td>\n",
              "      <td>1_F_w.jpg</td>\n",
              "      <td>1_F_m_M.jpg</td>\n",
              "      <td>1_F_t.jpg</td>\n",
              "      <td>1_F_p.jpg</td>\n",
              "      <td>3.250</td>\n",
              "      <td>39.0</td>\n",
              "      <td>-1.591783</td>\n",
              "      <td>0</td>\n",
              "    </tr>\n",
              "    <tr>\n",
              "      <th>1</th>\n",
              "      <td>1</td>\n",
              "      <td>2</td>\n",
              "      <td>2</td>\n",
              "      <td>440</td>\n",
              "      <td>5988227</td>\n",
              "      <td>2008-10-27</td>\n",
              "      <td>2</td>\n",
              "      <td>2</td>\n",
              "      <td>2.994521</td>\n",
              "      <td>95.9</td>\n",
              "      <td>13.5</td>\n",
              "      <td>14.7</td>\n",
              "      <td>2011-10-25</td>\n",
              "      <td>2011-10-25</td>\n",
              "      <td>1.75</td>\n",
              "      <td>1.75</td>\n",
              "      <td>2_F.jpg</td>\n",
              "      <td>2_F_w.jpg</td>\n",
              "      <td>2_F_m_M.jpg</td>\n",
              "      <td>2_F_t.jpg</td>\n",
              "      <td>2_F_p.jpg</td>\n",
              "      <td>1.750</td>\n",
              "      <td>21.0</td>\n",
              "      <td>-1.966701</td>\n",
              "      <td>0</td>\n",
              "    </tr>\n",
              "    <tr>\n",
              "      <th>2</th>\n",
              "      <td>2</td>\n",
              "      <td>3</td>\n",
              "      <td>3</td>\n",
              "      <td>1724</td>\n",
              "      <td>8292016</td>\n",
              "      <td>2013-08-08</td>\n",
              "      <td>2</td>\n",
              "      <td>1</td>\n",
              "      <td>3.010959</td>\n",
              "      <td>88.2</td>\n",
              "      <td>13.0</td>\n",
              "      <td>16.8</td>\n",
              "      <td>2016-08-11</td>\n",
              "      <td>2016-08-11</td>\n",
              "      <td>2.75</td>\n",
              "      <td>2.00</td>\n",
              "      <td>3_F.jpg</td>\n",
              "      <td>3_F_w.jpg</td>\n",
              "      <td>3_F_m_M.jpg</td>\n",
              "      <td>3_F_t.jpg</td>\n",
              "      <td>3_F_p.jpg</td>\n",
              "      <td>2.375</td>\n",
              "      <td>28.5</td>\n",
              "      <td>-1.810485</td>\n",
              "      <td>0</td>\n",
              "    </tr>\n",
              "    <tr>\n",
              "      <th>3</th>\n",
              "      <td>4</td>\n",
              "      <td>5</td>\n",
              "      <td>5</td>\n",
              "      <td>1264</td>\n",
              "      <td>7743478</td>\n",
              "      <td>2010-07-18</td>\n",
              "      <td>2</td>\n",
              "      <td>1</td>\n",
              "      <td>3.284932</td>\n",
              "      <td>90.8</td>\n",
              "      <td>14.0</td>\n",
              "      <td>17.0</td>\n",
              "      <td>2013-10-29</td>\n",
              "      <td>2013-10-29</td>\n",
              "      <td>3.75</td>\n",
              "      <td>4.25</td>\n",
              "      <td>5_F.jpg</td>\n",
              "      <td>5_F_w.jpg</td>\n",
              "      <td>5_F_m_M.jpg</td>\n",
              "      <td>5_F_t.jpg</td>\n",
              "      <td>5_F_p.jpg</td>\n",
              "      <td>4.000</td>\n",
              "      <td>48.0</td>\n",
              "      <td>-1.404324</td>\n",
              "      <td>0</td>\n",
              "    </tr>\n",
              "    <tr>\n",
              "      <th>4</th>\n",
              "      <td>5</td>\n",
              "      <td>6</td>\n",
              "      <td>6</td>\n",
              "      <td>1040</td>\n",
              "      <td>7579599</td>\n",
              "      <td>2011-04-06</td>\n",
              "      <td>2</td>\n",
              "      <td>1</td>\n",
              "      <td>3.312329</td>\n",
              "      <td>91.5</td>\n",
              "      <td>12.2</td>\n",
              "      <td>14.6</td>\n",
              "      <td>2013-12-11</td>\n",
              "      <td>2014-07-28</td>\n",
              "      <td>2.50</td>\n",
              "      <td>1.50</td>\n",
              "      <td>6_F.jpg</td>\n",
              "      <td>6_F_w.jpg</td>\n",
              "      <td>6_F_m_M.jpg</td>\n",
              "      <td>6_F_t.jpg</td>\n",
              "      <td>6_F_p.jpg</td>\n",
              "      <td>2.000</td>\n",
              "      <td>24.0</td>\n",
              "      <td>-1.904214</td>\n",
              "      <td>0</td>\n",
              "    </tr>\n",
              "  </tbody>\n",
              "</table>\n",
              "</div>"
            ],
            "text/plain": [
              "   Unnamed: 0  index No.  Group  ...     BA boneage      BA_z gender\n",
              "0           0      1   1   1568  ...  3.250    39.0 -1.591783      0\n",
              "1           1      2   2    440  ...  1.750    21.0 -1.966701      0\n",
              "2           2      3   3   1724  ...  2.375    28.5 -1.810485      0\n",
              "3           4      5   5   1264  ...  4.000    48.0 -1.404324      0\n",
              "4           5      6   6   1040  ...  2.000    24.0 -1.904214      0\n",
              "\n",
              "[5 rows x 25 columns]"
            ]
          },
          "metadata": {
            "tags": []
          },
          "execution_count": 8
        }
      ]
    },
    {
      "cell_type": "markdown",
      "metadata": {
        "id": "64wwFzWgDwMB"
      },
      "source": [
        "## 함수모음\n",
        "- generator : input과 oupt을 만들어주는 함수\n",
        "- plot_it : 학습후 모델 그래프를 만들고 저장해주는 함수\n",
        "- mae_in_month : 정규화된 값을 학습시키기 때문에 개월로 변경한 mae계산해주는 함수"
      ]
    },
    {
      "cell_type": "code",
      "metadata": {
        "id": "f7f_jdy-DwMB"
      },
      "source": [
        "ba_mean = df.boneage.mean()\n",
        "ba_std = df.boneage.std()"
      ],
      "execution_count": null,
      "outputs": []
    },
    {
      "cell_type": "code",
      "metadata": {
        "id": "1qDARoRNDwMB"
      },
      "source": [
        "def generator(df,model,n):\n",
        "    \n",
        "    gender = np.array(df.gender)\n",
        "    age = np.array(df.BA_z)\n",
        "    CARPAL_in = []\n",
        "    LMCP_in = []\n",
        "    MMCP_in = []\n",
        "    TMCP_in = []\n",
        "    LPIP_in = []\n",
        "    MPIP_in = []\n",
        "    IP_in = []\n",
        "    gender_in = []\n",
        "    age_in = []\n",
        "    \n",
        "    error_list = []\n",
        "    for i in range(len(df)):\n",
        "        \n",
        "        CARPAL_roi = df.loc[i,'CARPAL_roi']\n",
        "        LMCP_roi = df.loc[i,'LMCP_roi']\n",
        "        MMCP_roi = df.loc[i,'MMCP_roi']\n",
        "        TMCP_roi = df.loc[i,'TMCP_roi']\n",
        "        LPIP_roi = df.loc[i, 'LPIP_roi']\n",
        "        MPIP_roi = df.loc[i,'MPIP_roi']\n",
        "        IP_roi = df.loc[i,'IP_roi']\n",
        "    \n",
        "        \n",
        "        img_CARPAL = cv2.imread(path_CARPAL+'/'+CARPAL_roi)\n",
        "        img_LMCP = cv2.imread(path_LMCP+'/'+LMCP_roi)\n",
        "        img_MMCP = cv2.imread(path_MMCP+'/'+MMCP_roi)\n",
        "        img_TMCP = cv2.imread(path_TMCP+'/'+TMCP_roi)\n",
        "        img_LPIP = cv2.imread(path_LPIP+'/'+LPIP_roi)\n",
        "        img_MPIP = cv2.imread(path_MPIP+'/'+MPIP_roi)\n",
        "        img_IP = cv2.imread(path_IP+'/'+IP_roi)\n",
        "        \n",
        "\n",
        "        try:\n",
        "            img_CARPAL = cv2.resize(img_CARPAL, (224,224),cv2.INTER_AREA)\n",
        "            img_LMCP = cv2.resize(img_LMCP, (100,500),cv2.INTER_AREA)\n",
        "            img_MMCP = cv2.resize(img_MMCP, (100,500),cv2.INTER_AREA)\n",
        "            img_TMCP = cv2.resize(img_TMCP, (100,500),cv2.INTER_AREA)\n",
        "            img_LPIP = cv2.resize(img_LPIP, (100,500),cv2.INTER_AREA)\n",
        "            img_MPIP = cv2.resize(img_MPIP, (100,500),cv2.INTER_AREA)\n",
        "            img_IP = cv2.resize(img_IP, (100,500),cv2.INTER_AREA)\n",
        "            \n",
        "        except:\n",
        "            continue\n",
        "\n",
        "        CARPAL_in.append(img_CARPAL)\n",
        "        LMCP_in.append(img_LMCP)\n",
        "        MMCP_in.append(img_MMCP)\n",
        "        TMCP_in.append(img_TMCP)\n",
        "        LPIP_in.append(img_LPIP)\n",
        "        MPIP_in.append(img_MPIP)\n",
        "        IP_in.append(img_IP)\n",
        "        \n",
        "        gender_in.append(gender[i])\n",
        "        age_in.append(age[i])\n",
        "           \n",
        "    CARPAL_in = np.array(CARPAL_in)\n",
        "    LMCP_in = np.array(LMCP_in)\n",
        "    MMCP_in = np.array(MMCP_in)\n",
        "    TMCP_in = np.array(TMCP_in)\n",
        "    LPIP_in = np.array(LPIP_in)\n",
        "    MPIP_in = np.array(MPIP_in)\n",
        "    IP_in = np.array(IP_in)\n",
        "\n",
        "    gender_in = np.array(gender_in)\n",
        "    age_in = np.array(age_in)\n",
        "        \n",
        "    if n==1:\n",
        "        return age_in\n",
        "        \n",
        "    if n==2:\n",
        "        return [gender_in,CARPAL_in,LMCP_in,MMCP_in,TMCP_in, LPIP_in, MPIP_in, IP_in],age_in\n",
        "        \n",
        "    if n==3:\n",
        "        return [CARPAL_in,LMCP_in,MMCP_in,TMCP_in, LPIP_in, MPIP_in, IP_in,gender_in],age_in    "
      ],
      "execution_count": null,
      "outputs": []
    },
    {
      "cell_type": "code",
      "metadata": {
        "id": "OfWvTiD5VfIH"
      },
      "source": [
        "Tdef show(img):\n",
        "    plt.figure(figsize=(15, 10))\n",
        "    plt.xticks([])\n",
        "    plt.yticks([])\n",
        "    plt.imshow(img, cmap = \"gray\")\n",
        "    plt.show()"
      ],
      "execution_count": null,
      "outputs": []
    },
    {
      "cell_type": "code",
      "metadata": {
        "id": "F74PqE0fDwMC"
      },
      "source": [
        "# process시각화 및 손실함수\n",
        "\n",
        "def plot_it(history):\n",
        "    '''function to plot training and validation error'''\n",
        "    fig, ax = plt.subplots( figsize=(20,10))\n",
        "    ax.plot(history.history['mae_in_months'])\n",
        "    ax.plot(history.history['val_mae_in_months'])\n",
        "    plt.title('Model Error')\n",
        "    plt.ylabel('error')\n",
        "    plt.xlabel('Epoch')\n",
        "    plt.legend(['Train', 'Val'], loc='upper right')\n",
        "    ax.grid(color='black')\n",
        "    plt.show()\n",
        "    fig = plt.gcf()\n",
        "    fig.savefig(\"../03_model_visualization/\"+model_name+\".jpg\")\n",
        "    plt.close(fig)"
      ],
      "execution_count": null,
      "outputs": []
    },
    {
      "cell_type": "code",
      "metadata": {
        "id": "otk0dVxADwMC"
      },
      "source": [
        "from tensorflow.keras.metrics import mean_absolute_error\n",
        "\n",
        "def mae_in_months(x_p, y_p):\n",
        "    '''function to return mae in months'''\n",
        "    return mean_absolute_error((ba_std*x_p + ba_mean), (ba_std*y_p + ba_mean)) "
      ],
      "execution_count": null,
      "outputs": []
    },
    {
      "cell_type": "markdown",
      "metadata": {
        "id": "v7FEj0kzDwMC"
      },
      "source": [
        "## 모델 생성"
      ]
    },
    {
      "cell_type": "code",
      "metadata": {
        "id": "3KA2OdcFDwMD"
      },
      "source": [
        "import sys\n",
        "sys.path.insert(0,'../../03_Modeling/01_model_module')"
      ],
      "execution_count": null,
      "outputs": []
    },
    {
      "cell_type": "code",
      "metadata": {
        "id": "gBrWyrEUDwMD"
      },
      "source": [
        "def mae_in_months(x_p, y_p):\n",
        "    '''function to return mae in months'''\n",
        "    return mean_absolute_error((ba_std*x_p + ba_mean), (ba_std*y_p + ba_mean))  "
      ],
      "execution_count": null,
      "outputs": []
    },
    {
      "cell_type": "code",
      "metadata": {
        "id": "nJ667yTrDwMD"
      },
      "source": [
        "def tjnet3():\n",
        "  \n",
        "    \n",
        "    #원본이미지 모델 (mobilnet)\n",
        "    #mob_model = tf.keras.applications.MobileNet(input_shape = (bimg_size, bimg_size, 3),\n",
        "                                                   #include_top = False,\n",
        "                                                                                  #weights = 'imagenet')\n",
        "    #mob_model.trainable = True\n",
        "    #model_2 = Sequential()\n",
        "    #model_2.add(mob_model)\n",
        "    #model_2.add(GlobalAveragePooling2D())\n",
        "    #model_2.add(Dense(1024, activation = 'relu')) # 반으로줄임 \n",
        "\n",
        "    # CARPALroi 모델 (tj-net)\n",
        "\n",
        "    i_input = Input(shape = (224,224,3))\n",
        "\n",
        "    #block 1\n",
        "    conv1 = ReLU()(Conv2D(32,3)(i_input))\n",
        "    conv2 = ReLU()(Conv2D(32,3)(conv1))\n",
        "    conv3 = ReLU()(Conv2D(64,3,padding='same')(conv2))# 이전 레이어의 입력 shape와 같게 출력 shape 만듦\n",
        "    x = Conv2D(64,1)(conv3) # conv1,2,3 들어있음\n",
        "    x = BatchNormalization()(x) # 이전 레이어에서 분포가 이상하게 바뀔수 있으므로 이를 조정해주는 역할을 함\n",
        "\n",
        "    se = GlobalAveragePooling2D()(x) # 평균값을 남기고 나머지는 버린다.\n",
        "    se = Dense(4,activation=\"relu\")(se) #출력\n",
        "    se = Dense(64,activation=\"relu\")(se)\n",
        "    se = Reshape([1,1,64])(se) # se에서 출력값을 reshape\n",
        "    x = Multiply()([conv3,se])# conv층과 se층을 곱함\n",
        "\n",
        "    short = Conv2D(64,(1,1))(conv2)\n",
        "    short = BatchNormalization()(short)\n",
        "\n",
        "    x = ReLU()(add([x,short])) #x와 short를 더한것을 relu함수에 넣는다.\n",
        "\n",
        "    pool1 = MaxPool2D(pool_size=(2,2))(x) # 가장 큰 값만 남기고 나머지는 버린다. 반복될시 일정수준의 이동 불변성을 얻을수 있다.\n",
        "    #block 2\n",
        "    conv4 = ReLU()(Conv2D(60,1)(pool1))\n",
        "    conv5 = ReLU()(Conv2D(192,3)(conv4))\n",
        "    pool2 = MaxPool2D(pool_size=(2,2))(conv5)\n",
        "    #block 3\n",
        "    conv6 = ReLU()(Conv2D(512,3)(pool2))\n",
        "    pool3 = MaxPool2D(pool_size=(2,2))(conv6)\n",
        "    #block 4\n",
        "    conv7 = ReLU()(Conv2D(512,3,padding='same')(pool3)) # 반으로 줄임\n",
        "    pool4 = MaxPool2D(pool_size=(2,2))(conv7)\n",
        "    i_output = Flatten()(pool4) # 특징 자동추출\n",
        "\n",
        "    i_model = Model(inputs = i_input, outputs = i_output)\n",
        "    \n",
        "    # LMCP roi 모델 (tj-net)\n",
        "\n",
        "    i_input1 = Input(shape = (500,100,3))\n",
        "    \n",
        "    #block 1\n",
        "    conv1 = ReLU()(Conv2D(32,3)(i_input1)) \n",
        "    conv2 = ReLU()(Conv2D(32,3)(conv1))\n",
        "    conv3 = ReLU()(Conv2D(64,3,padding='same')(conv2))\n",
        "    x = Conv2D(64,1)(conv3)\n",
        "    x = BatchNormalization()(x)\n",
        "\n",
        "    se = GlobalAveragePooling2D()(x) # 평균 값만 남기고 나머지는 버린다.\n",
        "    se = Dense(4,activation=\"relu\")(se)\n",
        "    se = Dense(64,activation=\"relu\")(se)\n",
        "    se = Reshape([1,1,64])(se)\n",
        "    x = Multiply()([conv3,se])\n",
        "\n",
        "    short = Conv2D(64,(1,1))(conv2)\n",
        "    short = BatchNormalization()(short)\n",
        "\n",
        "    x = ReLU()(add([x,short]))\n",
        "\n",
        "    pool1 = MaxPool2D(pool_size=(2,2))(x)\n",
        "    #block 2\n",
        "    conv4 = ReLU()(Conv2D(60,1)(pool1))\n",
        "    conv5 = ReLU()(Conv2D(192,3)(conv4))\n",
        "    pool2 = MaxPool2D(pool_size=(2,2))(conv5)\n",
        "    #block 3\n",
        "    conv6 = ReLU()(Conv2D(256,3)(pool2))\n",
        "    pool3 = MaxPool2D(pool_size=(2,2))(conv6)\n",
        "    #block 4\n",
        "    conv7 = ReLU()(Conv2D(512,3,padding='same')(pool3)) # 반으로 줄임\n",
        "    pool4 = MaxPool2D(pool_size=(2,2))(conv7)\n",
        "    i_output1 = Flatten()(pool4) # 특징 자동 추출\n",
        "\n",
        "    i_model1 = Model(inputs = i_input1, outputs = i_output1)\n",
        "\n",
        "    # MMCP roi 모델 (tj-net)\n",
        "\n",
        "    i_input1 = Input(shape = (500,100,3))\n",
        "    \n",
        "    #block 1\n",
        "    conv1 = ReLU()(Conv2D(32,3)(i_input1)) \n",
        "    conv2 = ReLU()(Conv2D(32,3)(conv1))\n",
        "    conv3 = ReLU()(Conv2D(64,3,padding='same')(conv2))\n",
        "    x = Conv2D(64,1)(conv3)\n",
        "    x = BatchNormalization()(x)\n",
        "\n",
        "    se = GlobalAveragePooling2D()(x)\n",
        "    se = Dense(4,activation=\"relu\")(se)\n",
        "    se = Dense(64,activation=\"relu\")(se)\n",
        "    se = Reshape([1,1,64])(se)\n",
        "    x = Multiply()([conv3,se])\n",
        "\n",
        "    short = Conv2D(64,(1,1))(conv2)\n",
        "    short = BatchNormalization()(short)\n",
        "\n",
        "    x = ReLU()(add([x,short]))\n",
        "\n",
        "    pool1 = MaxPool2D(pool_size=(2,2))(x)\n",
        "    #block 2\n",
        "    conv4 = ReLU()(Conv2D(60,1)(pool1))\n",
        "    conv5 = ReLU()(Conv2D(192,3)(conv4))\n",
        "    pool2 = MaxPool2D(pool_size=(2,2))(conv5)\n",
        "    #block 3\n",
        "    conv6 = ReLU()(Conv2D(256,3)(pool2))\n",
        "    pool3 = MaxPool2D(pool_size=(2,2))(conv6)\n",
        "    #block 4\n",
        "    conv7 = ReLU()(Conv2D(512,3,padding='same')(pool3)) # 반으로 줄임\n",
        "    pool4 = MaxPool2D(pool_size=(2,2))(conv7)\n",
        "    i_output1 = Flatten()(pool4)\n",
        "\n",
        "    i_model2 = Model(inputs = i_input1, outputs = i_output1)\n",
        "\n",
        "    # TMCP roi 모델 (tj-net)\n",
        "\n",
        "    i_input1 = Input(shape = (500,100,3))\n",
        "    \n",
        "    #block 1\n",
        "    conv1 = ReLU()(Conv2D(32,3)(i_input1)) \n",
        "    conv2 = ReLU()(Conv2D(32,3)(conv1))\n",
        "    conv3 = ReLU()(Conv2D(64,3,padding='same')(conv2))\n",
        "    x = Conv2D(64,1)(conv3)\n",
        "    x = BatchNormalization()(x)\n",
        "\n",
        "    se = GlobalAveragePooling2D()(x) # \n",
        "    se = Dense(4,activation=\"relu\")(se)\n",
        "    se = Dense(64,activation=\"relu\")(se)\n",
        "    se = Reshape([1,1,64])(se)\n",
        "    x = Multiply()([conv3,se])\n",
        "\n",
        "    short = Conv2D(64,(1,1))(conv2)\n",
        "    short = BatchNormalization()(short)\n",
        "\n",
        "    x = ReLU()(add([x,short]))\n",
        "\n",
        "    pool1 = MaxPool2D(pool_size=(2,2))(x)\n",
        "    #block 2\n",
        "    conv4 = ReLU()(Conv2D(60,1)(pool1))\n",
        "    conv5 = ReLU()(Conv2D(192,3)(conv4))\n",
        "    pool2 = MaxPool2D(pool_size=(2,2))(conv5)\n",
        "    #block 3\n",
        "    conv6 = ReLU()(Conv2D(256,3)(pool2))\n",
        "    pool3 = MaxPool2D(pool_size=(2,2))(conv6)\n",
        "    #block 4\n",
        "    conv7 = ReLU()(Conv2D(512,3,padding='same')(pool3)) # 반으로 줄임\n",
        "    pool4 = MaxPool2D(pool_size=(2,2))(conv7)\n",
        "    i_output1 = Flatten()(pool4)\n",
        "\n",
        "    i_model3 = Model(inputs = i_input1, outputs = i_output1)\n",
        "\n",
        "    # LPIP roi 모델 (tj-net)\n",
        "\n",
        "    i_input1 = Input(shape = (500,100,3))\n",
        "    \n",
        "    #block 1\n",
        "    conv1 = ReLU()(Conv2D(32,3)(i_input1)) \n",
        "    conv2 = ReLU()(Conv2D(32,3)(conv1))\n",
        "    conv3 = ReLU()(Conv2D(64,3,padding='same')(conv2))\n",
        "    x = Conv2D(64,1)(conv3)\n",
        "    x = BatchNormalization()(x)\n",
        "\n",
        "    se = GlobalAveragePooling2D()(x)\n",
        "    se = Dense(4,activation=\"relu\")(se)\n",
        "    se = Dense(64,activation=\"relu\")(se)\n",
        "    se = Reshape([1,1,64])(se)\n",
        "    x = Multiply()([conv3,se])\n",
        "\n",
        "    short = Conv2D(64,(1,1))(conv2)\n",
        "    short = BatchNormalization()(short)\n",
        "\n",
        "    x = ReLU()(add([x,short]))\n",
        "\n",
        "    pool1 = MaxPool2D(pool_size=(2,2))(x)\n",
        "    #block 2\n",
        "    conv4 = ReLU()(Conv2D(60,1)(pool1))\n",
        "    conv5 = ReLU()(Conv2D(192,3)(conv4))\n",
        "    pool2 = MaxPool2D(pool_size=(2,2))(conv5)\n",
        "    #block 3\n",
        "    conv6 = ReLU()(Conv2D(256,3)(pool2))\n",
        "    pool3 = MaxPool2D(pool_size=(2,2))(conv6)\n",
        "    #block 4\n",
        "    conv7 = ReLU()(Conv2D(512,3,padding='same')(pool3)) # 반으로 줄임\n",
        "    pool4 = MaxPool2D(pool_size=(2,2))(conv7)\n",
        "    i_output1 = Flatten()(pool4)\n",
        "\n",
        "    i_model4 = Model(inputs = i_input1, outputs = i_output1)\n",
        "\n",
        "    \n",
        "    # MPIP roi 모델 (tj-net)\n",
        "\n",
        "    i_input2 = Input(shape = (500,100,3))\n",
        "    \n",
        "    #block 1\n",
        "    conv1 = ReLU()(Conv2D(32,3)(i_input2))\n",
        "    conv2 = ReLU()(Conv2D(32,3)(conv1))\n",
        "    conv3 = ReLU()(Conv2D(64,3,padding='same')(conv2))\n",
        "    x = Conv2D(64,1)(conv3)\n",
        "    x = BatchNormalization()(x)\n",
        "\n",
        "    se = GlobalAveragePooling2D()(x)\n",
        "    se = Dense(4,activation=\"relu\")(se)    \n",
        "    se = Dense(64,activation=\"relu\")(se)   \n",
        "    se = Reshape([1,1,64])(se)\n",
        "    x = Multiply()([conv3,se])\n",
        "\n",
        "    short = Conv2D(64,(1,1))(conv2)\n",
        "    short = BatchNormalization()(short)\n",
        "\n",
        "    x = ReLU()(add([x,short]))\n",
        "\n",
        "    pool1 = MaxPool2D(pool_size=(2,2))(x)\n",
        "    #block 2\n",
        "    conv4 = ReLU()(Conv2D(60,1)(pool1))\n",
        "    conv5 = ReLU()(Conv2D(192,3)(conv4))\n",
        "    pool2 = MaxPool2D(pool_size=(2,2))(conv5)\n",
        "    #block 3\n",
        "    conv6 = ReLU()(Conv2D(256,3)(pool2))\n",
        "    pool3 = MaxPool2D(pool_size=(2,2))(conv6)\n",
        "    #block 4\n",
        "    conv7 = ReLU()(Conv2D(512,3,padding='same')(pool3)) #반으로 줄임\n",
        "    pool4 = MaxPool2D(pool_size=(2,2))(conv7)\n",
        "    i_output2 = Flatten()(pool4)\n",
        "\n",
        "    i_model5 = Model(inputs = i_input2, outputs = i_output2)\n",
        "\n",
        "    \n",
        "    # IP roi 모델 (tj-net)\n",
        "\n",
        "    i_input3 = Input(shape = (500,100,3))\n",
        "    \n",
        "    #block 1\n",
        "    conv1 = ReLU()(Conv2D(32,3)(i_input3))\n",
        "    conv2 = ReLU()(Conv2D(32,3)(conv1))\n",
        "    conv3 = ReLU()(Conv2D(64,3,padding='same')(conv2))\n",
        "    x = Conv2D(64,1)(conv3)\n",
        "    x = BatchNormalization()(x)\n",
        "\n",
        "    se = GlobalAveragePooling2D()(x)\n",
        "    se = Dense(4,activation=\"relu\")(se)\n",
        "    se = Dense(64,activation=\"relu\")(se)\n",
        "    se = Reshape([1,1,64])(se)\n",
        "    x = Multiply()([conv3,se])\n",
        "\n",
        "    short = Conv2D(64,(1,1))(conv2)\n",
        "    short = BatchNormalization()(short)\n",
        "\n",
        "    x = ReLU()(add([x,short]))\n",
        "\n",
        "    pool1 = MaxPool2D(pool_size=(2,2))(x)\n",
        "    #block 2\n",
        "    conv4 = ReLU()(Conv2D(60,1)(pool1))\n",
        "    conv5 = ReLU()(Conv2D(192,3)(conv4))\n",
        "    pool2 = MaxPool2D(pool_size=(2,2))(conv5)\n",
        "    #block 3\n",
        "    conv6 = ReLU()(Conv2D(256,3)(pool2))\n",
        "    pool3 = MaxPool2D(pool_size=(2,2))(conv6)\n",
        "    #block 4\n",
        "    conv7 = ReLU()(Conv2D(512,3,padding='same')(pool3)) # 이부분을 1024에서 512 로변경 \n",
        "    pool4 = MaxPool2D(pool_size=(2,2))(conv7)\n",
        "    i_output3 = Flatten()(pool4)\n",
        "\n",
        "    i_model6 = Model(inputs = i_input3, outputs = i_output3)\n",
        "\n",
        "    # gender 모델\n",
        "    g_model = gender()\n",
        "\n",
        "    #concat및 마무리\n",
        "    con1 = concatenate([i_model.output,i_model1.output,i_model2.output,i_model3.output,i_model4.output,i_model5.output,i_model6.output])\n",
        "    dense1 = ReLU()(Dense(1024)(con1)) # dense1,2,3을 다 반으로 변경\n",
        "    con2 = concatenate([dense1,g_model.output])\n",
        "    dense2 = ReLU()(Dense(512)(con2))\n",
        "    dense3 = ReLU()(Dense(256)(dense2))\n",
        "    model_out = Dense(1,activation = \"linear\")(dense3)\n",
        "    model = Model([i_model.input,i_model1.input,i_model2.input,i_model3.input,i_model4.output,i_model5.output,i_model6.output,g_model.input],model_out)\n",
        "    return model\n"
      ],
      "execution_count": null,
      "outputs": []
    },
    {
      "cell_type": "code",
      "metadata": {
        "id": "Sm2bV2b1DwMF"
      },
      "source": [
        "def gender(act='relu'):\n",
        "    g_input = Input(shape = (1,))\n",
        "    g_output = Dense(64,activation = act)(g_input)\n",
        "    \n",
        "    g_model = Model(inputs = g_input,outputs = g_output)\n",
        "    return g_model"
      ],
      "execution_count": null,
      "outputs": []
    },
    {
      "cell_type": "code",
      "metadata": {
        "id": "sp-p1CDkDwMG"
      },
      "source": [
        "model_name = \"tjnet\"\n",
        "model_weight = model_name +\"_weight.h5\"\n",
        "\n",
        "model = tjnet3()\n",
        "model.save(\"../02_model_result/\"+model_name+\".h5\")\n",
        "\n",
        "model.compile(loss ='mse', optimizer= 'nadam', metrics = [mae_in_months] )"
      ],
      "execution_count": null,
      "outputs": []
    },
    {
      "cell_type": "code",
      "metadata": {
        "colab": {
          "base_uri": "https://localhost:8080/"
        },
        "id": "acGwWr9kscL5",
        "outputId": "49c5dbc4-68af-4d5c-bcbd-b74574eaa42c"
      },
      "source": [
        "model.input"
      ],
      "execution_count": null,
      "outputs": [
        {
          "output_type": "execute_result",
          "data": {
            "text/plain": [
              "[<KerasTensor: shape=(None, 224, 224, 3) dtype=float32 (created by layer 'input_1')>,\n",
              " <KerasTensor: shape=(None, 500, 100, 3) dtype=float32 (created by layer 'input_2')>,\n",
              " <KerasTensor: shape=(None, 500, 100, 3) dtype=float32 (created by layer 'input_3')>,\n",
              " <KerasTensor: shape=(None, 500, 100, 3) dtype=float32 (created by layer 'input_4')>,\n",
              " <KerasTensor: shape=(None, 1) dtype=float32 (created by layer 'input_5')>]"
            ]
          },
          "metadata": {
            "tags": []
          },
          "execution_count": 38
        }
      ]
    },
    {
      "cell_type": "code",
      "metadata": {
        "colab": {
          "base_uri": "https://localhost:8080/"
        },
        "id": "o7svhy9MytUZ",
        "outputId": "ff011f67-590d-413b-d207-d7e9228d4fff"
      },
      "source": [
        "model.summary()"
      ],
      "execution_count": null,
      "outputs": [
        {
          "output_type": "stream",
          "text": [
            "Model: \"model_5\"\n",
            "__________________________________________________________________________________________________\n",
            "Layer (type)                    Output Shape         Param #     Connected to                     \n",
            "==================================================================================================\n",
            "input_1 (InputLayer)            [(None, 224, 224, 3) 0                                            \n",
            "__________________________________________________________________________________________________\n",
            "input_2 (InputLayer)            [(None, 500, 100, 3) 0                                            \n",
            "__________________________________________________________________________________________________\n",
            "input_3 (InputLayer)            [(None, 500, 100, 3) 0                                            \n",
            "__________________________________________________________________________________________________\n",
            "input_4 (InputLayer)            [(None, 500, 100, 3) 0                                            \n",
            "__________________________________________________________________________________________________\n",
            "conv2d (Conv2D)                 (None, 222, 222, 32) 896         input_1[0][0]                    \n",
            "__________________________________________________________________________________________________\n",
            "conv2d_9 (Conv2D)               (None, 498, 98, 32)  896         input_2[0][0]                    \n",
            "__________________________________________________________________________________________________\n",
            "conv2d_18 (Conv2D)              (None, 498, 98, 32)  896         input_3[0][0]                    \n",
            "__________________________________________________________________________________________________\n",
            "conv2d_27 (Conv2D)              (None, 498, 98, 32)  896         input_4[0][0]                    \n",
            "__________________________________________________________________________________________________\n",
            "re_lu (ReLU)                    (None, 222, 222, 32) 0           conv2d[0][0]                     \n",
            "__________________________________________________________________________________________________\n",
            "re_lu_8 (ReLU)                  (None, 498, 98, 32)  0           conv2d_9[0][0]                   \n",
            "__________________________________________________________________________________________________\n",
            "re_lu_16 (ReLU)                 (None, 498, 98, 32)  0           conv2d_18[0][0]                  \n",
            "__________________________________________________________________________________________________\n",
            "re_lu_24 (ReLU)                 (None, 498, 98, 32)  0           conv2d_27[0][0]                  \n",
            "__________________________________________________________________________________________________\n",
            "conv2d_1 (Conv2D)               (None, 220, 220, 32) 9248        re_lu[0][0]                      \n",
            "__________________________________________________________________________________________________\n",
            "conv2d_10 (Conv2D)              (None, 496, 96, 32)  9248        re_lu_8[0][0]                    \n",
            "__________________________________________________________________________________________________\n",
            "conv2d_19 (Conv2D)              (None, 496, 96, 32)  9248        re_lu_16[0][0]                   \n",
            "__________________________________________________________________________________________________\n",
            "conv2d_28 (Conv2D)              (None, 496, 96, 32)  9248        re_lu_24[0][0]                   \n",
            "__________________________________________________________________________________________________\n",
            "re_lu_1 (ReLU)                  (None, 220, 220, 32) 0           conv2d_1[0][0]                   \n",
            "__________________________________________________________________________________________________\n",
            "re_lu_9 (ReLU)                  (None, 496, 96, 32)  0           conv2d_10[0][0]                  \n",
            "__________________________________________________________________________________________________\n",
            "re_lu_17 (ReLU)                 (None, 496, 96, 32)  0           conv2d_19[0][0]                  \n",
            "__________________________________________________________________________________________________\n",
            "re_lu_25 (ReLU)                 (None, 496, 96, 32)  0           conv2d_28[0][0]                  \n",
            "__________________________________________________________________________________________________\n",
            "conv2d_2 (Conv2D)               (None, 220, 220, 64) 18496       re_lu_1[0][0]                    \n",
            "__________________________________________________________________________________________________\n",
            "conv2d_11 (Conv2D)              (None, 496, 96, 64)  18496       re_lu_9[0][0]                    \n",
            "__________________________________________________________________________________________________\n",
            "conv2d_20 (Conv2D)              (None, 496, 96, 64)  18496       re_lu_17[0][0]                   \n",
            "__________________________________________________________________________________________________\n",
            "conv2d_29 (Conv2D)              (None, 496, 96, 64)  18496       re_lu_25[0][0]                   \n",
            "__________________________________________________________________________________________________\n",
            "re_lu_2 (ReLU)                  (None, 220, 220, 64) 0           conv2d_2[0][0]                   \n",
            "__________________________________________________________________________________________________\n",
            "re_lu_10 (ReLU)                 (None, 496, 96, 64)  0           conv2d_11[0][0]                  \n",
            "__________________________________________________________________________________________________\n",
            "re_lu_18 (ReLU)                 (None, 496, 96, 64)  0           conv2d_20[0][0]                  \n",
            "__________________________________________________________________________________________________\n",
            "re_lu_26 (ReLU)                 (None, 496, 96, 64)  0           conv2d_29[0][0]                  \n",
            "__________________________________________________________________________________________________\n",
            "conv2d_3 (Conv2D)               (None, 220, 220, 64) 4160        re_lu_2[0][0]                    \n",
            "__________________________________________________________________________________________________\n",
            "conv2d_12 (Conv2D)              (None, 496, 96, 64)  4160        re_lu_10[0][0]                   \n",
            "__________________________________________________________________________________________________\n",
            "conv2d_21 (Conv2D)              (None, 496, 96, 64)  4160        re_lu_18[0][0]                   \n",
            "__________________________________________________________________________________________________\n",
            "conv2d_30 (Conv2D)              (None, 496, 96, 64)  4160        re_lu_26[0][0]                   \n",
            "__________________________________________________________________________________________________\n",
            "batch_normalization (BatchNorma (None, 220, 220, 64) 256         conv2d_3[0][0]                   \n",
            "__________________________________________________________________________________________________\n",
            "batch_normalization_2 (BatchNor (None, 496, 96, 64)  256         conv2d_12[0][0]                  \n",
            "__________________________________________________________________________________________________\n",
            "batch_normalization_4 (BatchNor (None, 496, 96, 64)  256         conv2d_21[0][0]                  \n",
            "__________________________________________________________________________________________________\n",
            "batch_normalization_6 (BatchNor (None, 496, 96, 64)  256         conv2d_30[0][0]                  \n",
            "__________________________________________________________________________________________________\n",
            "global_average_pooling2d (Globa (None, 64)           0           batch_normalization[0][0]        \n",
            "__________________________________________________________________________________________________\n",
            "global_average_pooling2d_1 (Glo (None, 64)           0           batch_normalization_2[0][0]      \n",
            "__________________________________________________________________________________________________\n",
            "global_average_pooling2d_2 (Glo (None, 64)           0           batch_normalization_4[0][0]      \n",
            "__________________________________________________________________________________________________\n",
            "global_average_pooling2d_3 (Glo (None, 64)           0           batch_normalization_6[0][0]      \n",
            "__________________________________________________________________________________________________\n",
            "dense (Dense)                   (None, 4)            260         global_average_pooling2d[0][0]   \n",
            "__________________________________________________________________________________________________\n",
            "dense_2 (Dense)                 (None, 4)            260         global_average_pooling2d_1[0][0] \n",
            "__________________________________________________________________________________________________\n",
            "dense_4 (Dense)                 (None, 4)            260         global_average_pooling2d_2[0][0] \n",
            "__________________________________________________________________________________________________\n",
            "dense_6 (Dense)                 (None, 4)            260         global_average_pooling2d_3[0][0] \n",
            "__________________________________________________________________________________________________\n",
            "dense_1 (Dense)                 (None, 64)           320         dense[0][0]                      \n",
            "__________________________________________________________________________________________________\n",
            "dense_3 (Dense)                 (None, 64)           320         dense_2[0][0]                    \n",
            "__________________________________________________________________________________________________\n",
            "dense_5 (Dense)                 (None, 64)           320         dense_4[0][0]                    \n",
            "__________________________________________________________________________________________________\n",
            "dense_7 (Dense)                 (None, 64)           320         dense_6[0][0]                    \n",
            "__________________________________________________________________________________________________\n",
            "reshape (Reshape)               (None, 1, 1, 64)     0           dense_1[0][0]                    \n",
            "__________________________________________________________________________________________________\n",
            "conv2d_4 (Conv2D)               (None, 220, 220, 64) 2112        re_lu_1[0][0]                    \n",
            "__________________________________________________________________________________________________\n",
            "reshape_1 (Reshape)             (None, 1, 1, 64)     0           dense_3[0][0]                    \n",
            "__________________________________________________________________________________________________\n",
            "conv2d_13 (Conv2D)              (None, 496, 96, 64)  2112        re_lu_9[0][0]                    \n",
            "__________________________________________________________________________________________________\n",
            "reshape_2 (Reshape)             (None, 1, 1, 64)     0           dense_5[0][0]                    \n",
            "__________________________________________________________________________________________________\n",
            "conv2d_22 (Conv2D)              (None, 496, 96, 64)  2112        re_lu_17[0][0]                   \n",
            "__________________________________________________________________________________________________\n",
            "reshape_3 (Reshape)             (None, 1, 1, 64)     0           dense_7[0][0]                    \n",
            "__________________________________________________________________________________________________\n",
            "conv2d_31 (Conv2D)              (None, 496, 96, 64)  2112        re_lu_25[0][0]                   \n",
            "__________________________________________________________________________________________________\n",
            "multiply (Multiply)             (None, 220, 220, 64) 0           re_lu_2[0][0]                    \n",
            "                                                                 reshape[0][0]                    \n",
            "__________________________________________________________________________________________________\n",
            "batch_normalization_1 (BatchNor (None, 220, 220, 64) 256         conv2d_4[0][0]                   \n",
            "__________________________________________________________________________________________________\n",
            "multiply_1 (Multiply)           (None, 496, 96, 64)  0           re_lu_10[0][0]                   \n",
            "                                                                 reshape_1[0][0]                  \n",
            "__________________________________________________________________________________________________\n",
            "batch_normalization_3 (BatchNor (None, 496, 96, 64)  256         conv2d_13[0][0]                  \n",
            "__________________________________________________________________________________________________\n",
            "multiply_2 (Multiply)           (None, 496, 96, 64)  0           re_lu_18[0][0]                   \n",
            "                                                                 reshape_2[0][0]                  \n",
            "__________________________________________________________________________________________________\n",
            "batch_normalization_5 (BatchNor (None, 496, 96, 64)  256         conv2d_22[0][0]                  \n",
            "__________________________________________________________________________________________________\n",
            "multiply_3 (Multiply)           (None, 496, 96, 64)  0           re_lu_26[0][0]                   \n",
            "                                                                 reshape_3[0][0]                  \n",
            "__________________________________________________________________________________________________\n",
            "batch_normalization_7 (BatchNor (None, 496, 96, 64)  256         conv2d_31[0][0]                  \n",
            "__________________________________________________________________________________________________\n",
            "add (Add)                       (None, 220, 220, 64) 0           multiply[0][0]                   \n",
            "                                                                 batch_normalization_1[0][0]      \n",
            "__________________________________________________________________________________________________\n",
            "add_1 (Add)                     (None, 496, 96, 64)  0           multiply_1[0][0]                 \n",
            "                                                                 batch_normalization_3[0][0]      \n",
            "__________________________________________________________________________________________________\n",
            "add_2 (Add)                     (None, 496, 96, 64)  0           multiply_2[0][0]                 \n",
            "                                                                 batch_normalization_5[0][0]      \n",
            "__________________________________________________________________________________________________\n",
            "add_3 (Add)                     (None, 496, 96, 64)  0           multiply_3[0][0]                 \n",
            "                                                                 batch_normalization_7[0][0]      \n",
            "__________________________________________________________________________________________________\n",
            "re_lu_3 (ReLU)                  (None, 220, 220, 64) 0           add[0][0]                        \n",
            "__________________________________________________________________________________________________\n",
            "re_lu_11 (ReLU)                 (None, 496, 96, 64)  0           add_1[0][0]                      \n",
            "__________________________________________________________________________________________________\n",
            "re_lu_19 (ReLU)                 (None, 496, 96, 64)  0           add_2[0][0]                      \n",
            "__________________________________________________________________________________________________\n",
            "re_lu_27 (ReLU)                 (None, 496, 96, 64)  0           add_3[0][0]                      \n",
            "__________________________________________________________________________________________________\n",
            "max_pooling2d (MaxPooling2D)    (None, 110, 110, 64) 0           re_lu_3[0][0]                    \n",
            "__________________________________________________________________________________________________\n",
            "max_pooling2d_4 (MaxPooling2D)  (None, 248, 48, 64)  0           re_lu_11[0][0]                   \n",
            "__________________________________________________________________________________________________\n",
            "max_pooling2d_8 (MaxPooling2D)  (None, 248, 48, 64)  0           re_lu_19[0][0]                   \n",
            "__________________________________________________________________________________________________\n",
            "max_pooling2d_12 (MaxPooling2D) (None, 248, 48, 64)  0           re_lu_27[0][0]                   \n",
            "__________________________________________________________________________________________________\n",
            "conv2d_5 (Conv2D)               (None, 110, 110, 60) 3900        max_pooling2d[0][0]              \n",
            "__________________________________________________________________________________________________\n",
            "conv2d_14 (Conv2D)              (None, 248, 48, 60)  3900        max_pooling2d_4[0][0]            \n",
            "__________________________________________________________________________________________________\n",
            "conv2d_23 (Conv2D)              (None, 248, 48, 60)  3900        max_pooling2d_8[0][0]            \n",
            "__________________________________________________________________________________________________\n",
            "conv2d_32 (Conv2D)              (None, 248, 48, 60)  3900        max_pooling2d_12[0][0]           \n",
            "__________________________________________________________________________________________________\n",
            "re_lu_4 (ReLU)                  (None, 110, 110, 60) 0           conv2d_5[0][0]                   \n",
            "__________________________________________________________________________________________________\n",
            "re_lu_12 (ReLU)                 (None, 248, 48, 60)  0           conv2d_14[0][0]                  \n",
            "__________________________________________________________________________________________________\n",
            "re_lu_20 (ReLU)                 (None, 248, 48, 60)  0           conv2d_23[0][0]                  \n",
            "__________________________________________________________________________________________________\n",
            "re_lu_28 (ReLU)                 (None, 248, 48, 60)  0           conv2d_32[0][0]                  \n",
            "__________________________________________________________________________________________________\n",
            "conv2d_6 (Conv2D)               (None, 108, 108, 192 103872      re_lu_4[0][0]                    \n",
            "__________________________________________________________________________________________________\n",
            "conv2d_15 (Conv2D)              (None, 246, 46, 192) 103872      re_lu_12[0][0]                   \n",
            "__________________________________________________________________________________________________\n",
            "conv2d_24 (Conv2D)              (None, 246, 46, 192) 103872      re_lu_20[0][0]                   \n",
            "__________________________________________________________________________________________________\n",
            "conv2d_33 (Conv2D)              (None, 246, 46, 192) 103872      re_lu_28[0][0]                   \n",
            "__________________________________________________________________________________________________\n",
            "re_lu_5 (ReLU)                  (None, 108, 108, 192 0           conv2d_6[0][0]                   \n",
            "__________________________________________________________________________________________________\n",
            "re_lu_13 (ReLU)                 (None, 246, 46, 192) 0           conv2d_15[0][0]                  \n",
            "__________________________________________________________________________________________________\n",
            "re_lu_21 (ReLU)                 (None, 246, 46, 192) 0           conv2d_24[0][0]                  \n",
            "__________________________________________________________________________________________________\n",
            "re_lu_29 (ReLU)                 (None, 246, 46, 192) 0           conv2d_33[0][0]                  \n",
            "__________________________________________________________________________________________________\n",
            "max_pooling2d_1 (MaxPooling2D)  (None, 54, 54, 192)  0           re_lu_5[0][0]                    \n",
            "__________________________________________________________________________________________________\n",
            "max_pooling2d_5 (MaxPooling2D)  (None, 123, 23, 192) 0           re_lu_13[0][0]                   \n",
            "__________________________________________________________________________________________________\n",
            "max_pooling2d_9 (MaxPooling2D)  (None, 123, 23, 192) 0           re_lu_21[0][0]                   \n",
            "__________________________________________________________________________________________________\n",
            "max_pooling2d_13 (MaxPooling2D) (None, 123, 23, 192) 0           re_lu_29[0][0]                   \n",
            "__________________________________________________________________________________________________\n",
            "conv2d_7 (Conv2D)               (None, 52, 52, 512)  885248      max_pooling2d_1[0][0]            \n",
            "__________________________________________________________________________________________________\n",
            "conv2d_16 (Conv2D)              (None, 121, 21, 256) 442624      max_pooling2d_5[0][0]            \n",
            "__________________________________________________________________________________________________\n",
            "conv2d_25 (Conv2D)              (None, 121, 21, 256) 442624      max_pooling2d_9[0][0]            \n",
            "__________________________________________________________________________________________________\n",
            "conv2d_34 (Conv2D)              (None, 121, 21, 256) 442624      max_pooling2d_13[0][0]           \n",
            "__________________________________________________________________________________________________\n",
            "re_lu_6 (ReLU)                  (None, 52, 52, 512)  0           conv2d_7[0][0]                   \n",
            "__________________________________________________________________________________________________\n",
            "re_lu_14 (ReLU)                 (None, 121, 21, 256) 0           conv2d_16[0][0]                  \n",
            "__________________________________________________________________________________________________\n",
            "re_lu_22 (ReLU)                 (None, 121, 21, 256) 0           conv2d_25[0][0]                  \n",
            "__________________________________________________________________________________________________\n",
            "re_lu_30 (ReLU)                 (None, 121, 21, 256) 0           conv2d_34[0][0]                  \n",
            "__________________________________________________________________________________________________\n",
            "max_pooling2d_2 (MaxPooling2D)  (None, 26, 26, 512)  0           re_lu_6[0][0]                    \n",
            "__________________________________________________________________________________________________\n",
            "max_pooling2d_6 (MaxPooling2D)  (None, 60, 10, 256)  0           re_lu_14[0][0]                   \n",
            "__________________________________________________________________________________________________\n",
            "max_pooling2d_10 (MaxPooling2D) (None, 60, 10, 256)  0           re_lu_22[0][0]                   \n",
            "__________________________________________________________________________________________________\n",
            "max_pooling2d_14 (MaxPooling2D) (None, 60, 10, 256)  0           re_lu_30[0][0]                   \n",
            "__________________________________________________________________________________________________\n",
            "conv2d_8 (Conv2D)               (None, 26, 26, 512)  2359808     max_pooling2d_2[0][0]            \n",
            "__________________________________________________________________________________________________\n",
            "conv2d_17 (Conv2D)              (None, 60, 10, 512)  1180160     max_pooling2d_6[0][0]            \n",
            "__________________________________________________________________________________________________\n",
            "conv2d_26 (Conv2D)              (None, 60, 10, 512)  1180160     max_pooling2d_10[0][0]           \n",
            "__________________________________________________________________________________________________\n",
            "conv2d_35 (Conv2D)              (None, 60, 10, 512)  1180160     max_pooling2d_14[0][0]           \n",
            "__________________________________________________________________________________________________\n",
            "re_lu_7 (ReLU)                  (None, 26, 26, 512)  0           conv2d_8[0][0]                   \n",
            "__________________________________________________________________________________________________\n",
            "re_lu_15 (ReLU)                 (None, 60, 10, 512)  0           conv2d_17[0][0]                  \n",
            "__________________________________________________________________________________________________\n",
            "re_lu_23 (ReLU)                 (None, 60, 10, 512)  0           conv2d_26[0][0]                  \n",
            "__________________________________________________________________________________________________\n",
            "re_lu_31 (ReLU)                 (None, 60, 10, 512)  0           conv2d_35[0][0]                  \n",
            "__________________________________________________________________________________________________\n",
            "max_pooling2d_3 (MaxPooling2D)  (None, 13, 13, 512)  0           re_lu_7[0][0]                    \n",
            "__________________________________________________________________________________________________\n",
            "max_pooling2d_7 (MaxPooling2D)  (None, 30, 5, 512)   0           re_lu_15[0][0]                   \n",
            "__________________________________________________________________________________________________\n",
            "max_pooling2d_11 (MaxPooling2D) (None, 30, 5, 512)   0           re_lu_23[0][0]                   \n",
            "__________________________________________________________________________________________________\n",
            "max_pooling2d_15 (MaxPooling2D) (None, 30, 5, 512)   0           re_lu_31[0][0]                   \n",
            "__________________________________________________________________________________________________\n",
            "flatten (Flatten)               (None, 86528)        0           max_pooling2d_3[0][0]            \n",
            "__________________________________________________________________________________________________\n",
            "flatten_1 (Flatten)             (None, 76800)        0           max_pooling2d_7[0][0]            \n",
            "__________________________________________________________________________________________________\n",
            "flatten_2 (Flatten)             (None, 76800)        0           max_pooling2d_11[0][0]           \n",
            "__________________________________________________________________________________________________\n",
            "flatten_3 (Flatten)             (None, 76800)        0           max_pooling2d_15[0][0]           \n",
            "__________________________________________________________________________________________________\n",
            "concatenate (Concatenate)       (None, 316928)       0           flatten[0][0]                    \n",
            "                                                                 flatten_1[0][0]                  \n",
            "                                                                 flatten_2[0][0]                  \n",
            "                                                                 flatten_3[0][0]                  \n",
            "__________________________________________________________________________________________________\n",
            "dense_9 (Dense)                 (None, 1024)         324535296   concatenate[0][0]                \n",
            "__________________________________________________________________________________________________\n",
            "input_5 (InputLayer)            [(None, 1)]          0                                            \n",
            "__________________________________________________________________________________________________\n",
            "re_lu_32 (ReLU)                 (None, 1024)         0           dense_9[0][0]                    \n",
            "__________________________________________________________________________________________________\n",
            "dense_8 (Dense)                 (None, 64)           128         input_5[0][0]                    \n",
            "__________________________________________________________________________________________________\n",
            "concatenate_1 (Concatenate)     (None, 1088)         0           re_lu_32[0][0]                   \n",
            "                                                                 dense_8[0][0]                    \n",
            "__________________________________________________________________________________________________\n",
            "dense_10 (Dense)                (None, 512)          557568      concatenate_1[0][0]              \n",
            "__________________________________________________________________________________________________\n",
            "re_lu_33 (ReLU)                 (None, 512)          0           dense_10[0][0]                   \n",
            "__________________________________________________________________________________________________\n",
            "dense_11 (Dense)                (None, 256)          131328      re_lu_33[0][0]                   \n",
            "__________________________________________________________________________________________________\n",
            "re_lu_34 (ReLU)                 (None, 256)          0           dense_11[0][0]                   \n",
            "__________________________________________________________________________________________________\n",
            "dense_12 (Dense)                (None, 1)            257         re_lu_34[0][0]                   \n",
            "==================================================================================================\n",
            "Total params: 333,913,089\n",
            "Trainable params: 333,912,065\n",
            "Non-trainable params: 1,024\n",
            "__________________________________________________________________________________________________\n"
          ],
          "name": "stdout"
        }
      ]
    },
    {
      "cell_type": "markdown",
      "metadata": {
        "id": "06G0CY1ODwMH"
      },
      "source": [
        "## train_val_set 만들기"
      ]
    },
    {
      "cell_type": "code",
      "metadata": {
        "scrolled": true,
        "id": "h3bXaTs2DwMH"
      },
      "source": [
        "from sklearn.model_selection import train_test_split\n",
        "\n",
        "train_df, val_df = train_test_split(df, test_size = 0.2, random_state = 0)\n",
        "\n",
        "train_df = train_df.reset_index(drop=True)\n",
        "val_df = val_df.reset_index(drop=True)\n",
        "\n",
        "train_X,train_y = generator(train_df,model,3)\n",
        "val_X,val_y = generator(val_df,model,3)"
      ],
      "execution_count": null,
      "outputs": []
    },
    {
      "cell_type": "code",
      "metadata": {
        "id": "3k7EEDYjDwMH",
        "colab": {
          "base_uri": "https://localhost:8080/"
        },
        "outputId": "f3849681-333a-4bb6-d3b6-826ecd4c063f"
      },
      "source": [
        "len(train_df), len(val_df)"
      ],
      "execution_count": null,
      "outputs": [
        {
          "output_type": "execute_result",
          "data": {
            "text/plain": [
              "(976, 245)"
            ]
          },
          "metadata": {
            "tags": []
          },
          "execution_count": 20
        }
      ]
    },
    {
      "cell_type": "code",
      "metadata": {
        "id": "hdwVjKqWDwMH",
        "colab": {
          "base_uri": "https://localhost:8080/"
        },
        "outputId": "30d0d453-acb5-425e-9943-39d388985de8"
      },
      "source": [
        "len(train_y),len(val_y)"
      ],
      "execution_count": null,
      "outputs": [
        {
          "output_type": "execute_result",
          "data": {
            "text/plain": [
              "(968, 242)"
            ]
          },
          "metadata": {
            "tags": []
          },
          "execution_count": 21
        }
      ]
    },
    {
      "cell_type": "code",
      "metadata": {
        "colab": {
          "base_uri": "https://localhost:8080/"
        },
        "id": "tO631cVirFtu",
        "outputId": "96a82aec-412a-458e-c9a8-40b552838b58"
      },
      "source": [
        "train_y"
      ],
      "execution_count": null,
      "outputs": [
        {
          "output_type": "execute_result",
          "data": {
            "text/plain": [
              "array([-1.0806633 ,  1.28138819, -1.51012721,  1.43476815, -0.40579145,\n",
              "        0.42246037,  0.36110839,  0.08502445, -1.66350717, -0.00700353,\n",
              "        1.52679613, -1.0806633 ,  1.03598024,  0.57584034, -0.28308747,\n",
              "        0.2997564 , -0.37511545, -0.74322737, -0.65119939,  1.28138819,\n",
              "        0.02367246, -0.65119939, -1.63283118,  1.71085209,  0.7598963 ,\n",
              "       -0.68187539, -0.98863532, -1.14201529, -0.86593135, -1.78621115,\n",
              "       -0.77390337, -1.17269128, -0.43646744,  0.60651633,  0.57584034,\n",
              "       -0.52849542, -0.52849542,  0.63719233, -0.46714343, -1.20336727,\n",
              "       -0.77390337,  0.79057229,  0.20772842, -1.78621115, -0.00700353,\n",
              "       -0.80457936, -0.34443946,  0.33043239, -1.47945121,  0.97462825,\n",
              "       -0.98863532, -0.86593135,  0.7598963 ,  1.18936021, -0.25241148,\n",
              "       -1.14201529,  0.60651633, -1.11133929,  1.18936021,  0.85192428,\n",
              "       -0.09903151,  0.14637643, -0.49781943, -0.77390337, -1.44877522,\n",
              "        0.17705243,  1.28138819,  0.20772842,  0.72922031, -0.55917141,\n",
              "        0.51448835, -0.74322737,  1.37341617, -0.58984741, -0.55917141,\n",
              "        1.12800822,  0.7598963 ,  1.64950011, -0.71255138,  1.61882411,\n",
              "       -1.20336727, -1.26471926,  0.14637643,  0.23840441,  0.33043239,\n",
              "       -0.65119939,  1.52679613, -0.77390337,  0.42246037, -1.38742323,\n",
              "        1.49612014, -1.63283118, -0.06835552, -0.86593135, -1.14201529,\n",
              "        0.02367246, -1.60215519,  1.58814812, -0.12970751,  1.55747213,\n",
              "       -0.98863532,  1.2200362 ,  1.09733223, -0.95795933,  0.08502445,\n",
              "        1.52679613, -0.34443946, -1.57147919, -1.44877522,  1.15868421,\n",
              "        0.7598963 ,  0.33043239,  0.7598963 , -1.47945121, -0.98863532,\n",
              "       -1.44877522,  0.42246037, -0.89660734,  1.25071219, -1.26471926,\n",
              "       -0.09903151,  1.25071219,  0.94395226, -1.17269128,  0.11570044,\n",
              "        0.7598963 , -0.95795933, -0.89660734, -0.52849542, -1.32607125,\n",
              "       -0.74322737, -0.34443946,  0.08502445, -1.01931131,  1.55747213,\n",
              "        0.42246037,  0.36110839,  0.05434845,  0.82124829,  1.25071219,\n",
              "        1.55747213,  0.60651633, -1.01931131, -0.71255138,  1.64950011,\n",
              "       -0.71255138,  0.26908041, -0.49781943, -0.34443946, -0.58984741,\n",
              "        0.7598963 ,  1.49612014,  0.36110839,  1.55747213,  0.60651633,\n",
              "       -0.19105949, -0.98863532, -0.09903151, -0.95795933, -1.01931131,\n",
              "        0.05434845,  1.09733223, -1.01931131,  0.57584034,  0.33043239,\n",
              "       -1.0806633 , -1.11133929,  0.48381236,  1.52679613,  0.57584034,\n",
              "        0.2997564 , -1.01931131, -1.01931131, -1.23404327, -1.60215519,\n",
              "       -0.95795933,  1.28138819, -0.65119939,  0.63719233, -1.41809923,\n",
              "        1.52679613, -1.01931131, -0.28308747,  1.58814812,  1.09733223,\n",
              "       -0.34443946, -0.92728333,  0.82124829,  0.7598963 ,  0.42246037,\n",
              "       -1.5408032 ,  0.36110839, -1.47945121,  0.69854431, -1.38742323,\n",
              "       -0.06835552, -0.49781943, -0.31376347, -0.52849542, -1.32607125,\n",
              "        1.46544415, -1.11133929, -1.60215519,  1.55747213,  1.12800822,\n",
              "        1.28138819,  0.11570044, -0.92728333,  1.25071219,  0.42246037,\n",
              "        0.36110839,  1.61882411,  0.11570044,  0.66786832,  0.36110839,\n",
              "        0.05434845,  0.2997564 , -1.66350717,  0.23840441,  0.97462825,\n",
              "       -1.11133929,  0.57584034, -1.38742323,  1.6801761 ,  0.45313637,\n",
              "        1.37341617, -0.83525535,  1.55747213, -0.77390337, -0.77390337,\n",
              "       -0.31376347,  1.28138819,  1.15868421, -1.20336727, -1.57147919,\n",
              "       -1.75553515,  0.02367246, -0.89660734, -0.95795933,  0.57584034,\n",
              "       -0.80457936,  1.06665623,  0.82124829,  0.66786832,  0.54516435,\n",
              "       -1.51012721, -1.26471926,  0.69854431,  0.02367246, -0.00700353,\n",
              "       -0.1603835 , -1.01931131,  1.6801761 , -0.92728333, -0.77390337,\n",
              "        1.31206418,  0.57584034,  1.03598024, -0.92728333, -0.58984741,\n",
              "        0.45313637, -0.03767953,  0.7598963 ,  0.45313637,  0.42246037,\n",
              "       -0.74322737,  0.26908041, -0.89660734, -1.75553515,  1.49612014,\n",
              "       -1.26471926, -1.17269128,  0.51448835,  0.60651633,  0.48381236,\n",
              "        1.31206418,  1.2200362 ,  1.49612014,  0.33043239, -1.32607125,\n",
              "        0.05434845, -0.89660734, -0.74322737,  0.51448835,  0.72922031,\n",
              "        1.49612014,  0.20772842, -0.52849542, -1.20336727, -0.09903151,\n",
              "        1.61882411, -1.14201529, -0.00700353, -1.38742323, -1.32607125,\n",
              "        0.11570044,  0.48381236, -1.17269128, -1.32607125,  1.00530425,\n",
              "        1.80288007,  0.39178438, -0.6205234 ,  0.2997564 ,  1.03598024,\n",
              "       -1.04998731,  0.88260027,  1.09733223,  0.7598963 , -0.68187539,\n",
              "        0.08502445,  1.12800822,  0.20772842,  0.45313637,  1.34274017,\n",
              "       -1.75553515, -1.17269128, -1.5408032 ,  1.00530425,  0.2997564 ,\n",
              "       -1.0806633 ,  0.11570044,  0.66786832, -0.80457936,  1.80288007,\n",
              "       -1.11133929,  0.39178438,  0.17705243, -1.17269128, -0.77390337,\n",
              "        0.2997564 ,  0.2997564 ,  0.45313637,  1.06665623, -1.11133929,\n",
              "       -0.86593135, -0.89660734,  0.60651633, -1.47945121, -0.55917141,\n",
              "       -1.01931131, -0.06835552, -0.06835552, -0.83525535, -1.14201529,\n",
              "        0.85192428,  1.55747213, -1.38742323,  0.7598963 , -1.32607125,\n",
              "        0.39178438, -1.23404327, -1.63283118, -0.65119939,  0.05434845,\n",
              "       -0.95795933, -0.03767953,  1.61882411,  0.20772842,  0.11570044,\n",
              "       -0.83525535,  0.33043239, -0.86593135,  0.66786832, -1.0806633 ,\n",
              "       -1.14201529, -1.60215519, -0.65119939, -0.68187539,  0.7598963 ,\n",
              "       -0.98863532, -1.23404327, -0.25241148,  0.17705243,  0.39178438,\n",
              "       -0.34443946,  0.42246037,  1.46544415,  0.20772842,  1.6801761 ,\n",
              "        1.61882411,  1.31206418, -1.01931131, -0.46714343,  1.37341617,\n",
              "        1.49612014, -0.09903151,  0.85192428, -1.17269128, -1.29539525,\n",
              "        1.12800822, -0.49781943, -1.17269128, -1.57147919,  0.42246037,\n",
              "        1.2200362 , -1.5408032 ,  0.48381236,  1.46544415, -0.34443946,\n",
              "       -1.69418317,  1.49612014, -0.71255138, -0.40579145,  1.28138819,\n",
              "        1.52679613,  0.42246037, -0.65119939,  0.45313637, -0.65119939,\n",
              "        0.57584034, -1.38742323,  0.72922031,  0.63719233, -0.98863532,\n",
              "       -0.95795933,  1.46544415,  1.64950011,  0.57584034, -0.40579145,\n",
              "       -0.98863532, -0.92728333, -1.14201529,  1.18936021, -0.98863532,\n",
              "       -1.17269128,  0.57584034, -0.98863532,  1.61882411, -1.57147919,\n",
              "       -1.23404327,  1.43476815,  0.11570044,  1.40409216, -0.65119939,\n",
              "        0.20772842,  1.61882411, -0.43646744, -0.12970751,  0.17705243,\n",
              "       -1.20336727,  0.39178438, -1.20336727,  1.40409216, -0.58984741,\n",
              "       -0.95795933, -1.14201529, -0.83525535,  1.40409216,  0.51448835,\n",
              "        0.48381236, -0.46714343,  0.91327627, -0.22173549, -0.6205234 ,\n",
              "        0.36110839, -0.12970751, -1.72485916,  0.72922031, -0.40579145,\n",
              "       -1.20336727, -0.86593135, -1.81688714, -0.6205234 ,  0.39178438,\n",
              "        0.05434845, -0.98863532,  0.39178438, -0.68187539, -1.23404327,\n",
              "        0.08502445,  0.66786832,  0.26908041,  0.42246037,  0.69854431,\n",
              "        0.20772842, -1.26471926,  0.91327627, -0.06835552,  1.2200362 ,\n",
              "       -1.41809923,  0.48381236,  0.23840441, -0.37511545, -1.47945121,\n",
              "       -0.80457936, -0.22173549,  1.37341617, -1.26471926, -1.47945121,\n",
              "        0.63719233, -0.80457936,  0.26908041,  0.02367246, -0.98863532,\n",
              "        0.20772842, -1.72485916,  1.31206418, -1.26471926,  0.48381236,\n",
              "        0.48381236,  0.45313637,  0.60651633,  1.61882411,  0.39178438,\n",
              "        0.26908041, -0.77390337,  1.55747213,  1.37341617,  0.36110839,\n",
              "       -0.00700353, -1.47945121,  0.69854431,  0.08502445,  1.52679613,\n",
              "        0.85192428, -1.35674724,  0.45313637, -1.35674724,  0.82124829,\n",
              "        1.43476815,  1.61882411,  0.23840441,  1.2200362 , -0.58984741,\n",
              "       -0.1603835 ,  1.25071219, -0.22173549, -0.71255138, -0.06835552,\n",
              "       -1.17269128, -0.95795933,  1.49612014, -0.86593135,  0.2997564 ,\n",
              "       -0.00700353,  1.6801761 ,  1.37341617, -0.49781943, -1.20336727,\n",
              "       -1.60215519,  1.00530425,  1.43476815, -1.11133929,  1.15868421,\n",
              "        0.20772842,  1.18936021, -0.55917141,  0.42246037, -0.49781943,\n",
              "       -0.49781943,  0.88260027, -1.14201529,  1.49612014,  0.94395226,\n",
              "        1.55747213, -0.52849542,  1.09733223, -0.40579145, -0.37511545,\n",
              "        0.20772842, -0.28308747, -1.63283118,  0.11570044,  0.23840441,\n",
              "       -0.28308747, -1.38742323,  0.7598963 ,  0.88260027,  0.48381236,\n",
              "        0.08502445,  1.49612014,  1.37341617, -1.04998731, -1.72485916,\n",
              "       -1.47945121, -1.0806633 , -0.09903151,  1.46544415,  1.55747213,\n",
              "        0.14637643,  0.08502445,  1.15868421,  1.52679613,  0.48381236,\n",
              "       -0.71255138,  0.11570044, -0.89660734, -0.89660734, -0.40579145,\n",
              "       -0.92728333, -1.60215519,  1.61882411, -1.51012721,  0.97462825,\n",
              "        1.34274017, -1.75553515, -0.37511545, -0.95795933,  1.6801761 ,\n",
              "       -0.68187539,  0.48381236,  0.36110839,  0.33043239,  0.88260027,\n",
              "       -0.43646744, -0.40579145, -1.5408032 ,  1.52679613, -1.57147919,\n",
              "       -0.71255138, -0.95795933, -1.44877522, -1.93959111, -1.57147919,\n",
              "        0.48381236,  1.43476815,  0.33043239,  1.40409216,  1.37341617,\n",
              "        0.36110839,  1.58814812,  0.51448835,  1.40409216, -0.77390337,\n",
              "       -0.65119939,  1.12800822, -0.95795933, -1.14201529,  0.23840441,\n",
              "        0.7598963 , -1.11133929,  0.94395226, -1.14201529,  1.61882411,\n",
              "        1.31206418,  0.97462825,  1.64950011,  0.48381236,  0.45313637,\n",
              "       -0.71255138,  0.26908041,  1.37341617,  1.09733223,  0.2997564 ,\n",
              "       -1.17269128,  1.28138819,  1.52679613,  0.26908041,  1.64950011,\n",
              "       -1.14201529,  0.17705243, -0.83525535, -1.41809923, -0.77390337,\n",
              "       -1.04998731, -0.09903151,  1.49612014, -0.31376347,  0.82124829,\n",
              "        1.58814812, -0.40579145,  0.2997564 , -0.58984741,  0.23840441,\n",
              "        0.63719233,  0.66786832,  1.61882411,  1.58814812, -0.86593135,\n",
              "       -0.58984741, -0.86593135,  1.37341617, -1.20336727, -0.00700353,\n",
              "        1.31206418,  0.26908041, -0.49781943,  0.02367246,  1.2200362 ,\n",
              "       -0.80457936, -1.38742323, -0.89660734, -0.34443946, -1.41809923,\n",
              "       -1.60215519, -1.51012721, -0.19105949,  1.64950011, -1.5408032 ,\n",
              "       -0.43646744,  0.36110839, -0.98863532,  1.55747213, -0.52849542,\n",
              "        0.69854431,  1.06665623,  0.36110839, -0.83525535, -1.14201529,\n",
              "        0.11570044,  0.54516435, -1.04998731, -0.43646744, -0.25241148,\n",
              "        0.39178438, -1.20336727,  0.51448835, -0.34443946,  1.49612014,\n",
              "       -1.63283118,  1.55747213,  0.36110839, -0.89660734,  1.80288007,\n",
              "        1.15868421, -0.55917141, -1.04998731, -0.09903151,  0.88260027,\n",
              "        1.43476815,  0.45313637, -1.63283118, -0.92728333,  1.12800822,\n",
              "        0.36110839, -0.00700353, -1.26471926, -0.58984741, -1.26471926,\n",
              "        0.88260027,  0.91327627,  1.55747213, -1.26471926, -1.26471926,\n",
              "       -1.11133929, -0.95795933,  1.55747213,  1.12800822, -0.49781943,\n",
              "        0.57584034,  0.63719233, -1.14201529, -1.57147919, -0.71255138,\n",
              "       -1.01931131, -1.26471926, -0.77390337,  1.12800822, -0.49781943,\n",
              "        0.08502445, -1.51012721, -1.72485916,  1.49612014, -0.06835552,\n",
              "        0.88260027, -0.74322737,  1.6801761 ,  0.91327627, -1.11133929,\n",
              "        0.11570044,  0.94395226, -1.44877522, -1.20336727,  0.17705243,\n",
              "       -0.86593135, -0.09903151,  0.11570044, -1.75553515,  0.60651633,\n",
              "       -0.98863532, -1.01931131,  0.20772842,  0.39178438, -0.52849542,\n",
              "        0.7598963 , -1.57147919, -0.03767953,  0.05434845, -0.86593135,\n",
              "        1.00530425, -1.47945121,  0.14637643,  0.79057229,  1.12800822,\n",
              "       -0.1603835 , -0.28308747, -1.66350717,  0.26908041, -0.31376347,\n",
              "       -1.75553515,  0.17705243,  1.25071219, -0.86593135,  0.85192428,\n",
              "        1.6801761 ,  1.03598024,  1.52679613, -0.71255138,  1.49612014,\n",
              "       -0.09903151, -0.98863532, -1.51012721, -1.23404327, -1.04998731,\n",
              "        0.63719233, -1.11133929,  0.48381236, -1.0806633 , -1.44877522,\n",
              "        1.61882411,  1.34274017,  0.48381236, -0.43646744,  0.42246037,\n",
              "        0.82124829,  0.48381236,  0.45313637, -0.68187539, -0.19105949,\n",
              "       -0.77390337,  1.55747213,  0.2997564 ,  0.2997564 , -1.01931131,\n",
              "       -0.37511545,  0.79057229,  0.2997564 ,  0.7598963 ,  1.61882411,\n",
              "        0.91327627,  0.82124829, -0.68187539,  0.36110839, -0.31376347,\n",
              "       -1.26471926, -1.47945121, -0.00700353, -1.57147919,  0.54516435,\n",
              "       -1.14201529,  1.06665623,  0.57584034, -0.74322737,  0.08502445,\n",
              "       -1.35674724, -0.00700353, -0.46714343,  1.55747213,  1.43476815,\n",
              "        0.45313637,  0.08502445,  0.05434845, -0.52849542,  0.91327627,\n",
              "        1.61882411, -0.83525535, -0.46714343, -1.63283118,  0.20772842,\n",
              "        1.25071219, -1.11133929, -0.86593135, -1.17269128,  1.37341617,\n",
              "        1.52679613, -1.23404327, -1.0806633 ,  0.79057229, -0.03767953,\n",
              "       -1.32607125,  1.64950011, -1.14201529,  0.69854431, -1.23404327,\n",
              "        0.66786832, -1.20336727, -0.6205234 , -1.01931131, -0.25241148,\n",
              "        1.46544415, -0.37511545, -0.77390337, -0.89660734, -0.6205234 ,\n",
              "        0.05434845, -1.66350717,  0.69854431, -1.60215519, -0.00700353,\n",
              "        0.60651633, -0.89660734, -0.52849542,  1.49612014, -1.11133929])"
            ]
          },
          "metadata": {
            "tags": []
          },
          "execution_count": 26
        }
      ]
    },
    {
      "cell_type": "markdown",
      "metadata": {
        "id": "xwvf7loGDwMH"
      },
      "source": [
        "## 초반에 loss 심한거 뺄려고 한번만 먼저 돌리기"
      ]
    },
    {
      "cell_type": "code",
      "metadata": {
        "colab": {
          "base_uri": "https://localhost:8080/"
        },
        "id": "AzWGIzaCvevu",
        "outputId": "332101b3-7515-4fba-e84b-db5f44652db9"
      },
      "source": [
        "from tensorflow.python.client import device_lib\n",
        "print(device_lib.list_local_devices())"
      ],
      "execution_count": null,
      "outputs": [
        {
          "output_type": "stream",
          "text": [
            "[name: \"/device:CPU:0\"\n",
            "device_type: \"CPU\"\n",
            "memory_limit: 268435456\n",
            "locality {\n",
            "}\n",
            "incarnation: 9755506308265167230\n",
            ", name: \"/device:GPU:0\"\n",
            "device_type: \"GPU\"\n",
            "memory_limit: 15703311680\n",
            "locality {\n",
            "  bus_id: 1\n",
            "  links {\n",
            "  }\n",
            "}\n",
            "incarnation: 6408713884576573982\n",
            "physical_device_desc: \"device: 0, name: Tesla P100-PCIE-16GB, pci bus id: 0000:00:04.0, compute capability: 6.0\"\n",
            "]\n"
          ],
          "name": "stdout"
        }
      ]
    },
    {
      "cell_type": "code",
      "metadata": {
        "id": "t9NnXu58DwMI",
        "colab": {
          "base_uri": "https://localhost:8080/"
        },
        "outputId": "ea1874ac-2261-4490-cd50-867b5ee9304c"
      },
      "source": [
        "# model.load_weights(\"temp/\"+model_weight)\n",
        "\n",
        "model.fit(train_X,train_y,validation_data = (val_X,val_y),epochs = 1,batch_size=4)"
      ],
      "execution_count": null,
      "outputs": [
        {
          "output_type": "stream",
          "text": [
            "242/242 [==============================] - 65s 156ms/step - loss: 1372.2788 - mae_in_months: 307.2294 - val_loss: 0.2786 - val_mae_in_months: 20.0052\n"
          ],
          "name": "stdout"
        },
        {
          "output_type": "execute_result",
          "data": {
            "text/plain": [
              "<tensorflow.python.keras.callbacks.History at 0x7efbd413da10>"
            ]
          },
          "metadata": {
            "tags": []
          },
          "execution_count": 22
        }
      ]
    },
    {
      "cell_type": "markdown",
      "metadata": {
        "id": "vvIuQqBPDwMI"
      },
      "source": [
        "## 모델학습"
      ]
    },
    {
      "cell_type": "code",
      "metadata": {
        "scrolled": true,
        "id": "6li8xL70DwMI",
        "colab": {
          "base_uri": "https://localhost:8080/",
          "height": 1000
        },
        "outputId": "d6883802-4047-4da8-fcd4-9bb1fe5496a2"
      },
      "source": [
        "# 모델 fit\n",
        "\n",
        "epochs = 100                                                    \n",
        "#early stopping\n",
        "early_stopping = EarlyStopping(monitor='val_loss',\n",
        "                              min_delta=0,\n",
        "                              patience= 30,\n",
        "                              verbose=0, mode='auto')\n",
        "\n",
        "# mc = ModelCheckpoint(\"temp/\"+model_weight, monitor='val_loss', mode='min', save_best_only=True)\n",
        "rLR = ReduceLROnPlateau(\n",
        "    monitor='val_loss',  # 검증 손실을 기준으로 callback이 호출됩니다\n",
        "    factor=0.5,          # callback 호출시 학습률을 1/2로 줄입니다\n",
        "    patience=30,         # epoch 10 동안 개선되지 않으면 callback이 호출됩니다\n",
        ")\n",
        "\n",
        "callbacks = [early_stopping,rLR]\n",
        "\n",
        "\n",
        "#fit model\n",
        "history = model.fit(train_X,train_y,\n",
        "                    validation_data = (val_X,val_y),\n",
        "                    epochs = epochs,\n",
        "                    callbacks= callbacks,\n",
        "                    batch_size=4)\n",
        "plot_it(history)"
      ],
      "execution_count": null,
      "outputs": [
        {
          "output_type": "stream",
          "text": [
            "Epoch 1/100\n",
            "242/242 [==============================] - 37s 152ms/step - loss: 0.3010 - mae_in_months: 19.2876 - val_loss: 0.1807 - val_mae_in_months: 16.2209\n",
            "Epoch 2/100\n",
            "242/242 [==============================] - 37s 151ms/step - loss: 1.0687 - mae_in_months: 31.0704 - val_loss: 0.9407 - val_mae_in_months: 41.0522\n",
            "Epoch 3/100\n",
            "242/242 [==============================] - 37s 151ms/step - loss: 0.1667 - mae_in_months: 15.1247 - val_loss: 0.1102 - val_mae_in_months: 13.0161\n",
            "Epoch 4/100\n",
            "242/242 [==============================] - 37s 151ms/step - loss: 0.2211 - mae_in_months: 15.2391 - val_loss: 0.0979 - val_mae_in_months: 11.8682\n",
            "Epoch 5/100\n",
            "242/242 [==============================] - 37s 151ms/step - loss: 0.0597 - mae_in_months: 9.1243 - val_loss: 0.0874 - val_mae_in_months: 11.0986\n",
            "Epoch 6/100\n",
            "242/242 [==============================] - 37s 151ms/step - loss: 1.1343 - mae_in_months: 16.5966 - val_loss: 0.3630 - val_mae_in_months: 22.9522\n",
            "Epoch 7/100\n",
            "242/242 [==============================] - 37s 151ms/step - loss: 0.0924 - mae_in_months: 11.1119 - val_loss: 0.0945 - val_mae_in_months: 11.5388\n",
            "Epoch 8/100\n",
            "242/242 [==============================] - 37s 151ms/step - loss: 0.0349 - mae_in_months: 7.0615 - val_loss: 0.0869 - val_mae_in_months: 10.7220\n",
            "Epoch 9/100\n",
            "242/242 [==============================] - 37s 151ms/step - loss: 0.0180 - mae_in_months: 5.0322 - val_loss: 0.0867 - val_mae_in_months: 10.7959\n",
            "Epoch 10/100\n",
            "242/242 [==============================] - 37s 151ms/step - loss: 0.0161 - mae_in_months: 4.2309 - val_loss: 0.0966 - val_mae_in_months: 11.2859\n",
            "Epoch 11/100\n",
            "242/242 [==============================] - 37s 151ms/step - loss: 0.0140 - mae_in_months: 4.4041 - val_loss: 0.0845 - val_mae_in_months: 10.7789\n",
            "Epoch 12/100\n",
            "242/242 [==============================] - 37s 151ms/step - loss: 0.0090 - mae_in_months: 3.5442 - val_loss: 0.0805 - val_mae_in_months: 10.4632\n",
            "Epoch 13/100\n",
            "242/242 [==============================] - 37s 151ms/step - loss: 0.0064 - mae_in_months: 2.9202 - val_loss: 0.0848 - val_mae_in_months: 10.8675\n",
            "Epoch 14/100\n",
            "242/242 [==============================] - 37s 151ms/step - loss: 0.0053 - mae_in_months: 2.6615 - val_loss: 0.0776 - val_mae_in_months: 10.1996\n",
            "Epoch 15/100\n",
            "242/242 [==============================] - 37s 151ms/step - loss: 0.0057 - mae_in_months: 2.6114 - val_loss: 0.0822 - val_mae_in_months: 10.6734\n",
            "Epoch 16/100\n",
            "242/242 [==============================] - 37s 151ms/step - loss: 0.0043 - mae_in_months: 2.4322 - val_loss: 0.0812 - val_mae_in_months: 10.6851\n",
            "Epoch 17/100\n",
            "242/242 [==============================] - 37s 151ms/step - loss: 0.0058 - mae_in_months: 2.8091 - val_loss: 0.0826 - val_mae_in_months: 10.6766\n",
            "Epoch 18/100\n",
            "242/242 [==============================] - 37s 151ms/step - loss: 0.0054 - mae_in_months: 2.7223 - val_loss: 0.0799 - val_mae_in_months: 10.3752\n",
            "Epoch 19/100\n",
            "242/242 [==============================] - 37s 151ms/step - loss: 0.0067 - mae_in_months: 3.0044 - val_loss: 0.0737 - val_mae_in_months: 10.1864\n",
            "Epoch 20/100\n",
            "242/242 [==============================] - 37s 151ms/step - loss: 0.0075 - mae_in_months: 3.1197 - val_loss: 0.0824 - val_mae_in_months: 10.6226\n",
            "Epoch 21/100\n",
            "242/242 [==============================] - 37s 151ms/step - loss: 0.0075 - mae_in_months: 3.1900 - val_loss: 0.0747 - val_mae_in_months: 10.0255\n",
            "Epoch 22/100\n",
            "242/242 [==============================] - 37s 151ms/step - loss: 0.0094 - mae_in_months: 3.5831 - val_loss: 0.0828 - val_mae_in_months: 10.7707\n",
            "Epoch 23/100\n",
            "242/242 [==============================] - 37s 151ms/step - loss: 0.0086 - mae_in_months: 3.4576 - val_loss: 0.0802 - val_mae_in_months: 10.3442\n",
            "Epoch 24/100\n",
            "242/242 [==============================] - 37s 151ms/step - loss: 0.0091 - mae_in_months: 3.5116 - val_loss: 0.0877 - val_mae_in_months: 11.2715\n",
            "Epoch 25/100\n",
            "242/242 [==============================] - 37s 151ms/step - loss: 0.0090 - mae_in_months: 3.4859 - val_loss: 0.0781 - val_mae_in_months: 10.3380\n",
            "Epoch 26/100\n",
            "242/242 [==============================] - 37s 151ms/step - loss: 0.0097 - mae_in_months: 3.5848 - val_loss: 0.0679 - val_mae_in_months: 9.5674\n",
            "Epoch 27/100\n",
            "242/242 [==============================] - 37s 151ms/step - loss: 0.0086 - mae_in_months: 3.4121 - val_loss: 0.0719 - val_mae_in_months: 9.8872\n",
            "Epoch 28/100\n",
            "242/242 [==============================] - 37s 151ms/step - loss: 0.0071 - mae_in_months: 3.1285 - val_loss: 0.0715 - val_mae_in_months: 10.0598\n",
            "Epoch 29/100\n",
            "242/242 [==============================] - 37s 151ms/step - loss: 0.0082 - mae_in_months: 3.3743 - val_loss: 0.0755 - val_mae_in_months: 10.1861\n",
            "Epoch 30/100\n",
            "242/242 [==============================] - 37s 151ms/step - loss: 0.0081 - mae_in_months: 3.3139 - val_loss: 0.0772 - val_mae_in_months: 10.3326\n",
            "Epoch 31/100\n",
            "242/242 [==============================] - 37s 151ms/step - loss: 0.0091 - mae_in_months: 3.4999 - val_loss: 0.0728 - val_mae_in_months: 9.9290\n",
            "Epoch 32/100\n",
            "242/242 [==============================] - 37s 151ms/step - loss: 0.0092 - mae_in_months: 3.5048 - val_loss: 0.0715 - val_mae_in_months: 10.1056\n",
            "Epoch 33/100\n",
            "242/242 [==============================] - 37s 151ms/step - loss: 0.0083 - mae_in_months: 3.3956 - val_loss: 0.0699 - val_mae_in_months: 9.8312\n",
            "Epoch 34/100\n",
            "242/242 [==============================] - 37s 151ms/step - loss: 0.0078 - mae_in_months: 3.2781 - val_loss: 0.0753 - val_mae_in_months: 9.8498\n",
            "Epoch 35/100\n",
            "242/242 [==============================] - 37s 151ms/step - loss: 0.0076 - mae_in_months: 3.1696 - val_loss: 0.0807 - val_mae_in_months: 10.7364\n",
            "Epoch 36/100\n",
            "242/242 [==============================] - 37s 151ms/step - loss: 0.0074 - mae_in_months: 3.1134 - val_loss: 0.0797 - val_mae_in_months: 10.5163\n",
            "Epoch 37/100\n",
            "242/242 [==============================] - 37s 151ms/step - loss: 0.0100 - mae_in_months: 3.6890 - val_loss: 0.0738 - val_mae_in_months: 10.0472\n",
            "Epoch 38/100\n",
            "242/242 [==============================] - 37s 151ms/step - loss: 0.0096 - mae_in_months: 3.6141 - val_loss: 0.0679 - val_mae_in_months: 9.7111\n",
            "Epoch 39/100\n",
            "242/242 [==============================] - 37s 151ms/step - loss: 0.0178 - mae_in_months: 4.8217 - val_loss: 0.0699 - val_mae_in_months: 9.8097\n",
            "Epoch 40/100\n",
            "242/242 [==============================] - 37s 151ms/step - loss: 0.0110 - mae_in_months: 3.7721 - val_loss: 0.1012 - val_mae_in_months: 12.1363\n",
            "Epoch 41/100\n",
            "242/242 [==============================] - 37s 151ms/step - loss: 0.0074 - mae_in_months: 3.2085 - val_loss: 0.0642 - val_mae_in_months: 9.4249\n",
            "Epoch 42/100\n",
            "242/242 [==============================] - 37s 151ms/step - loss: 0.0050 - mae_in_months: 2.6019 - val_loss: 0.0640 - val_mae_in_months: 9.3862\n",
            "Epoch 43/100\n",
            "242/242 [==============================] - 37s 151ms/step - loss: 0.0040 - mae_in_months: 2.3041 - val_loss: 0.0709 - val_mae_in_months: 9.8500\n",
            "Epoch 44/100\n",
            "242/242 [==============================] - 37s 151ms/step - loss: 0.0041 - mae_in_months: 2.3654 - val_loss: 0.0671 - val_mae_in_months: 9.7532\n",
            "Epoch 45/100\n",
            "242/242 [==============================] - 37s 151ms/step - loss: 0.0054 - mae_in_months: 2.7217 - val_loss: 0.0694 - val_mae_in_months: 9.6445\n",
            "Epoch 46/100\n",
            "242/242 [==============================] - 37s 151ms/step - loss: 0.0070 - mae_in_months: 3.0443 - val_loss: 0.0725 - val_mae_in_months: 10.1080\n",
            "Epoch 47/100\n",
            "242/242 [==============================] - 37s 151ms/step - loss: 0.0090 - mae_in_months: 3.5288 - val_loss: 0.0667 - val_mae_in_months: 9.5098\n",
            "Epoch 48/100\n",
            "242/242 [==============================] - 37s 151ms/step - loss: 0.0088 - mae_in_months: 3.5346 - val_loss: 0.0688 - val_mae_in_months: 9.7029\n",
            "Epoch 49/100\n",
            "242/242 [==============================] - 37s 151ms/step - loss: 0.0132 - mae_in_months: 4.0712 - val_loss: 0.0835 - val_mae_in_months: 10.3600\n",
            "Epoch 50/100\n",
            "242/242 [==============================] - 37s 151ms/step - loss: 0.0136 - mae_in_months: 4.3116 - val_loss: 0.1166 - val_mae_in_months: 12.3139\n",
            "Epoch 51/100\n",
            "242/242 [==============================] - 37s 151ms/step - loss: 0.0112 - mae_in_months: 3.8431 - val_loss: 0.0712 - val_mae_in_months: 9.8843\n",
            "Epoch 52/100\n",
            "242/242 [==============================] - 37s 151ms/step - loss: 0.0069 - mae_in_months: 3.1008 - val_loss: 0.0675 - val_mae_in_months: 9.5440\n",
            "Epoch 53/100\n",
            "242/242 [==============================] - 37s 151ms/step - loss: 0.0059 - mae_in_months: 2.8435 - val_loss: 0.0653 - val_mae_in_months: 9.6803\n",
            "Epoch 54/100\n",
            "242/242 [==============================] - 37s 151ms/step - loss: 0.0055 - mae_in_months: 2.7601 - val_loss: 0.0666 - val_mae_in_months: 9.2403\n",
            "Epoch 55/100\n",
            "242/242 [==============================] - 37s 151ms/step - loss: 0.0050 - mae_in_months: 2.5711 - val_loss: 0.0662 - val_mae_in_months: 9.5503\n",
            "Epoch 56/100\n",
            "242/242 [==============================] - 37s 151ms/step - loss: 0.0049 - mae_in_months: 2.5259 - val_loss: 0.0684 - val_mae_in_months: 9.3196\n",
            "Epoch 57/100\n",
            "242/242 [==============================] - 37s 151ms/step - loss: 0.0075 - mae_in_months: 3.1298 - val_loss: 0.0675 - val_mae_in_months: 9.3921\n",
            "Epoch 58/100\n",
            "242/242 [==============================] - 37s 151ms/step - loss: 0.0068 - mae_in_months: 3.0132 - val_loss: 0.0714 - val_mae_in_months: 10.0270\n",
            "Epoch 59/100\n",
            "242/242 [==============================] - 37s 151ms/step - loss: 0.0064 - mae_in_months: 2.9585 - val_loss: 0.0972 - val_mae_in_months: 11.4626\n",
            "Epoch 60/100\n",
            "242/242 [==============================] - 37s 151ms/step - loss: 0.0117 - mae_in_months: 3.9566 - val_loss: 0.0721 - val_mae_in_months: 9.8262\n",
            "Epoch 61/100\n",
            "242/242 [==============================] - 37s 151ms/step - loss: 0.0131 - mae_in_months: 4.1824 - val_loss: 0.0818 - val_mae_in_months: 10.5844\n",
            "Epoch 62/100\n",
            "242/242 [==============================] - 37s 151ms/step - loss: 0.0093 - mae_in_months: 3.4579 - val_loss: 0.1003 - val_mae_in_months: 11.5988\n",
            "Epoch 63/100\n",
            "242/242 [==============================] - 37s 151ms/step - loss: 0.0071 - mae_in_months: 3.0867 - val_loss: 0.0730 - val_mae_in_months: 9.5954\n",
            "Epoch 64/100\n",
            "242/242 [==============================] - 37s 151ms/step - loss: 0.0047 - mae_in_months: 2.5714 - val_loss: 0.0688 - val_mae_in_months: 9.4631\n",
            "Epoch 65/100\n",
            "242/242 [==============================] - 37s 151ms/step - loss: 0.0041 - mae_in_months: 2.3994 - val_loss: 0.0690 - val_mae_in_months: 9.2408\n",
            "Epoch 66/100\n",
            "242/242 [==============================] - 37s 151ms/step - loss: 0.0039 - mae_in_months: 2.3310 - val_loss: 0.0674 - val_mae_in_months: 9.3946\n",
            "Epoch 67/100\n",
            "242/242 [==============================] - 37s 151ms/step - loss: 0.0032 - mae_in_months: 2.0975 - val_loss: 0.0653 - val_mae_in_months: 9.3390\n",
            "Epoch 68/100\n",
            "242/242 [==============================] - 37s 151ms/step - loss: 0.0036 - mae_in_months: 2.1757 - val_loss: 0.0768 - val_mae_in_months: 9.9083\n",
            "Epoch 69/100\n",
            "242/242 [==============================] - 37s 151ms/step - loss: 0.0058 - mae_in_months: 2.7385 - val_loss: 0.1132 - val_mae_in_months: 12.6268\n",
            "Epoch 70/100\n",
            "242/242 [==============================] - 37s 151ms/step - loss: 0.0069 - mae_in_months: 3.0422 - val_loss: 0.0681 - val_mae_in_months: 9.1695\n",
            "Epoch 71/100\n",
            "242/242 [==============================] - 37s 151ms/step - loss: 0.0054 - mae_in_months: 2.7131 - val_loss: 0.0865 - val_mae_in_months: 10.8304\n",
            "Epoch 72/100\n",
            "242/242 [==============================] - 37s 151ms/step - loss: 0.2657 - mae_in_months: 13.5780 - val_loss: 0.1957 - val_mae_in_months: 17.7259\n"
          ],
          "name": "stdout"
        },
        {
          "output_type": "display_data",
          "data": {
            "image/png": "[encoded data removed]",
            "text/plain": [
              "<Figure size 1440x720 with 1 Axes>"
            ]
          },
          "metadata": {
            "tags": [],
            "needs_background": "light"
          }
        }
      ]
    },
    {
      "cell_type": "code",
      "metadata": {
        "id": "AsWCBazrDwMI"
      },
      "source": [
        ""
      ],
      "execution_count": null,
      "outputs": []
    },
    {
      "cell_type": "markdown",
      "metadata": {
        "id": "yWlsntoiDwMI"
      },
      "source": [
        "## 평가 및 저장"
      ]
    },
    {
      "cell_type": "code",
      "metadata": {
        "id": "GHlma0umDwMI",
        "colab": {
          "base_uri": "https://localhost:8080/"
        },
        "outputId": "eb442b8d-54e0-4897-bf53-5f79807d2a06"
      },
      "source": [
        "pred = model.predict(val_X)*ba_std+ba_mean\n",
        "mse, mae = model.evaluate(val_X,val_y)\n",
        "\n",
        "from sklearn.metrics import r2_score\n",
        "# r2 = r2_score(val_df.boneage,pred)\n",
        "\n",
        "print(f\"mae_year : {mae/12}, rmse : {mse/12}\" )"
      ],
      "execution_count": null,
      "outputs": [
        {
          "output_type": "stream",
          "text": [
            "8/8 [==============================] - 1s 106ms/step - loss: 0.1957 - mae_in_months: 17.7258\n",
            "mae_year : 1.4771540959676106, rmse : 0.016311207165320713\n"
          ],
          "name": "stdout"
        }
      ]
    },
    {
      "cell_type": "code",
      "metadata": {
        "id": "v9xT5CfXDwMJ",
        "colab": {
          "base_uri": "https://localhost:8080/"
        },
        "outputId": "9a1d98cb-dc24-4a2d-ae75-16d1c0460a41"
      },
      "source": [
        "from sklearn.metrics import mean_absolute_error\n",
        "v = val_y*ba_std+ba_mean\n",
        "mean_absolute_error(np.round(pred),v)/12,mean_absolute_error(pred,v)/12"
      ],
      "execution_count": null,
      "outputs": [
        {
          "output_type": "execute_result",
          "data": {
            "text/plain": [
              "(0.870412124756558, 0.8722866939793544)"
            ]
          },
          "metadata": {
            "tags": []
          },
          "execution_count": 24
        }
      ]
    },
    {
      "cell_type": "markdown",
      "metadata": {
        "id": "LNG2KFI5KpPF"
      },
      "source": [
        ""
      ]
    }
  ]
}