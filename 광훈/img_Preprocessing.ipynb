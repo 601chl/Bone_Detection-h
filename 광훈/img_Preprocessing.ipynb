{
  "nbformat": 4,
  "nbformat_minor": 0,
  "metadata": {
    "colab": {
      "name": "img_Preprocessing.ipynb",
      "provenance": [],
      "collapsed_sections": [],
      "machine_shape": "hm",
      "authorship_tag": "ABX9TyMDG75i13HBiRIBNIuAe54V",
      "include_colab_link": true
    },
    "kernelspec": {
      "name": "python3",
      "display_name": "Python 3"
    },
    "language_info": {
      "name": "python"
    },
    "accelerator": "GPU"
  },
  "cells": [
    {
      "cell_type": "markdown",
      "metadata": {
        "id": "view-in-github",
        "colab_type": "text"
      },
      "source": [
        "<a href=\"https://colab.research.google.com/github/kikiru328/Bone_Detection/blob/main/%EA%B4%91%ED%9B%88/img_Preprocessing.ipynb\" target=\"_parent\"><img src=\"https://colab.research.google.com/assets/colab-badge.svg\" alt=\"Open In Colab\"/></a>"
      ]
    },
    {
      "cell_type": "code",
      "metadata": {
        "colab": {
          "base_uri": "https://localhost:8080/"
        },
        "id": "do2pmiDzL0eX",
        "outputId": "73d48ce8-743c-4e6f-cc72-f398d0e76400"
      },
      "source": [
        "from google.colab import drive\n",
        "drive.mount('/content/drive')"
      ],
      "execution_count": 1,
      "outputs": [
        {
          "output_type": "stream",
          "name": "stdout",
          "text": [
            "Mounted at /content/drive\n"
          ]
        }
      ]
    },
    {
      "cell_type": "code",
      "metadata": {
        "colab": {
          "base_uri": "https://localhost:8080/"
        },
        "id": "X0WC4F7rMnit",
        "outputId": "2832c2e5-bf07-40f4-e243-e51bf578851f"
      },
      "source": [
        "import os\n",
        "path = '/content/drive/MyDrive/Bone_detection/data/image/female'\n",
        "dir_list = os.listdir(path)\n",
        "print(dir_list)"
      ],
      "execution_count": 2,
      "outputs": [
        {
          "output_type": "stream",
          "name": "stdout",
          "text": [
            "['1_F.jpg', '4_F.jpg', '5_F.jpg', '7_F.jpg', '8_F.jpg', '11_F.jpg', '12_F.jpg', '13_F.jpg', '15_F.jpg', '17_F.jpg', '16_F.jpg', '19_F.jpg', '18_F.jpg', '3_F.jpg', '6_F.jpg', '9_F.jpg', '10_F.jpg', '2_F.jpg', '14_F.jpg', '20_F.jpg', '21_F.jpg', '23_F.jpg', '25_F.jpg', '26_F.jpg', '28_F.jpg', '31_F.jpg', '32_F.jpg', '33_F.jpg', '34_F.jpg', '36_F.jpg', '37_F.jpg', '38_F.jpg', '39_F.jpg', '40_F.jpg', '41_F.jpg', '42_F.jpg', '44_F.jpg', '46_F.jpg', '47_F.jpg', '48_F.jpg', '49_F.jpg', '52_F.jpg', '22_F.jpg', '24_F.jpg', '27_F.jpg', '29_F.jpg', '30_F.jpg', '35_F.jpg', '43_F.jpg', '45_F.jpg', '50_F.jpg', '51_F.jpg', '57_F.jpg', '58_F.jpg', '59_F.jpg', '60_F.jpg', '61_F.jpg', '62_F.jpg', '72_F.jpg', '74_F.jpg', '75_F.jpg', '76_F.jpg', '77_F.jpg', '82_F.jpg', '83_F.jpg', '85_F.jpg', '86_F.jpg', '88_F.jpg', '89_F.jpg', '92_F.jpg', '93_F.jpg', '94_F.jpg', '95_F.jpg', '101_F.jpg', '103_F.jpg', '105_F.jpg', '106_F.jpg', '108_F.jpg', '109_F.jpg', '110_F.jpg', '113_F.jpg', '53_F.jpg', '54_F.jpg', '55_F.jpg', '56_F.jpg', '63_F.jpg', '64_F.jpg', '65_F.jpg', '66_F.jpg', '67_F.jpg', '68_F.jpg', '69_F.jpg', '70_F.jpg', '71_F.jpg', '73_F.jpg', '78_F.jpg', '79_F.jpg', '80_F.jpg', '81_F.jpg', '84_F.jpg', '87_F.jpg', '90_F.jpg', '91_F.jpg', '96_F.jpg', '97_F.jpg', '98_F.jpg', '99_F.jpg', '100_F.jpg', '102_F.jpg', '104_F.jpg', '107_F.jpg', '111_F.jpg', '112_F.jpg', '117_F.jpg', '120_F.jpg', '124_F.jpg', '127_F.jpg', '126_F.jpg', '129_F.jpg', '130_F.jpg', '131_F.jpg', '134_F.jpg', '135_F.jpg', '136_F.jpg', '138_F.jpg', '142_F.jpg', '144_F.jpg', '147_F.jpg', '149_F.jpg', '150_F.jpg', '152_F.jpg', '154_F.jpg', '155_F.jpg', '156_F.jpg', '159_F.jpg', '162_F.jpg', '161_F.jpg', '163_F.jpg', '114_F.jpg', '115_F.jpg', '116_F.jpg', '118_F.jpg', '119_F.jpg', '121_F.jpg', '122_F.jpg', '123_F.jpg', '125_F.jpg', '128_F.jpg', '132_F.jpg', '133_F.jpg', '137_F.jpg', '139_F.jpg', '140_F.jpg', '141_F.jpg', '143_F.jpg', '145_F.jpg', '146_F.jpg', '151_F.jpg', '153_F.jpg', '157_F.jpg', '158_F.jpg', '160_F.jpg', '148_F.jpg', '166_F.jpg', '168_F.jpg', '169_F.jpg', '171_F.jpg', '174_F.jpg', '175_F.jpg', '176_F.jpg', '178_F.jpg', '182_F.jpg', '183_F.jpg', '185_F.jpg', '186_F.jpg', '187_F.jpg', '188_F.jpg', '196_F.jpg', '197_F.jpg', '198_F.jpg', '201_F.jpg', '202_F.jpg', '203_F.jpg', '204_F.jpg', '206_F.jpg', '207_F.jpg', '209_F.jpg', '164_F.jpg', '165_F.jpg', '167_F.jpg', '170_F.jpg', '172_F.jpg', '173_F.jpg', '177_F.jpg', '179_F.jpg', '180_F.jpg', '181_F.jpg', '184_F.jpg', '189_F.jpg', '190_F.jpg', '191_F.jpg', '192_F.jpg', '193_F.jpg', '194_F.jpg', '195_F.jpg', '205_F.jpg', '208_F.jpg', '200_F.jpg', '199_F.jpg', '210_F.jpg', '211_F.jpg', '213_F.jpg', '214_F.jpg', '212_F.jpg', '215_F.jpg', '218_F.jpg', '221_F.jpg', '220_F.jpg', '224_F.jpg', '226_F.jpg', '216_F.jpg', '219_F.jpg', '222_F.jpg', '223_F.jpg', '225_F.jpg', '227_F.jpg', '228_F.jpg', '229_F.jpg', '230_F.jpg', '231_F.jpg', '232_F.jpg', '233_F.jpg', '234_F.jpg', '235_F.jpg', '236_F.jpg', '237_F.jpg', '242_F.jpg', '243_F.jpg', '244_F.jpg', '247_F.jpg', '250_F.jpg', '251_F.jpg', '256_F.jpg', '257_F.jpg', '238_F.jpg', '239_F.jpg', '240_F.jpg', '241_F.jpg', '245_F.jpg', '246_F.jpg', '248_F.jpg', '249_F.jpg', '252_F.jpg', '254_F.jpg', '255_F.jpg', '217_F.jpg', '253_F.jpg', '258_F.jpg', '260_F.jpg', '261_F.jpg', '262_F.jpg', '263_F.jpg', '264_F.jpg', '265_F.jpg', '266_F.jpg', '267_F.jpg', '268_F.jpg', '269_F.jpg', '270_F.jpg', '271_F.jpg', '272_F.jpg', '273_F.jpg', '274_F.jpg', '275_F.jpg', '276_F.jpg', '277_F.jpg', '278_F.jpg', '279_F.jpg', '280_F.jpg', '281_F.jpg', '282_F.jpg', '283_F.jpg', '284_F.jpg', '285_F.jpg', '286_F.jpg', '287_F.jpg', '288_F.jpg', '289_F.jpg', '290_F.jpg', '291_F.jpg', '292_F.jpg', '293_F.jpg', '294_F.jpg', '295_F.jpg', '296_F.jpg', '298_F.jpg', '297_F.jpg', '299_F.jpg', '300_F.jpg', '301_F.jpg', '302_F.jpg', '303_F.jpg', '304_F.jpg', '306_F.jpg', '307_F.jpg', '309_F.jpg', '305_F.jpg', '308_F.jpg', '310_F.jpg', '311_F.jpg', '312_F.jpg', '313_F.jpg', '314_F.jpg', '315_F.jpg', '316_F.jpg', '317_F.jpg', '318_F.jpg', '319_F.jpg', '320_F.jpg', '321_F.jpg', '322_F.jpg', '323_F.jpg', '324_F.jpg', '325_F.jpg', '326_F.jpg', '327_F.jpg', '328_F.jpg', '329_F.jpg', '330_F.jpg', '331_F.jpg', '332_F.jpg', '333_F.jpg', '334_F.jpg', '335_F.jpg', '336_F.jpg', '337_F.jpg', '338_F.jpg', '339_F.jpg', '340_F.jpg', '341_F.jpg', '342_F.jpg', '343_F.jpg', '344_F.jpg', '345_F.jpg', '346_F.jpg', '347_F.jpg', '348_F.jpg', '349_F.jpg', '350_F.jpg', '351_F.jpg', '352_F.jpg', '353_F.jpg', '354_F.jpg', '355_F.jpg', '356_F.jpg', '357_F.jpg', '358_F.jpg', '359_F.jpg', '360_F.jpg', '361_F.jpg', '362_F.jpg', '363_F.jpg', '364_F.jpg', '365_F.jpg', '366_F.jpg', '367_F.jpg', '368_F.jpg', '369_F.jpg', '370_F.jpg', '371_F.jpg', '372_F.jpg', '373_F.jpg', '374_F.jpg', '375_F.jpg', '376_F.jpg', '377_F.jpg', '378_F.jpg', '379_F.jpg', '380_F.jpg', '381_F.jpg', '382_F.jpg', '383_F.jpg', '384_F.jpg', '385_F.jpg', '386_F.jpg', '387_F.jpg', '388_F.jpg', '389_F.jpg', '390_F.jpg', '391_F.jpg', '392_F.jpg', '393_F.jpg', '394_F.jpg', '395_F.jpg', '396_F.jpg', '397_F.jpg', '398_F.jpg', '399_F.jpg', '400_F.jpg', '401_F.jpg', '402_F.jpg', '403_F.jpg', '404_F.jpg', '405_F.jpg', '406_F.jpg', '407_F.jpg', '408_F.jpg', '409_F.jpg', '410_F.jpg', '413_F.jpg', '412_F.jpg', '411_F.jpg', '414_F.jpg', '415_F.jpg', '416_F.jpg', '417_F.jpg', '418_F.jpg', '419_F.jpg', '420_F.jpg', '421_F.jpg', '422_F.jpg', '423_F.jpg', '424_F.jpg', '425_F.jpg', '426_F.jpg', '428_F.jpg', '427_F.jpg', '429_F.jpg', '430_F.jpg', '432_F.jpg', '433_F.jpg', '434_F.jpg', '435_F.jpg', '436_F.jpg', '437_F.jpg', '438_F.jpg', '439_F.jpg', '440_F.jpg', '441_F.jpg', '442_F.jpg', '444_F.jpg', '448_F.jpg', '453_F.jpg', '455_F.jpg', '456_F.jpg', '454_F.jpg', '443_F.jpg', '445_F.jpg', '446_F.jpg', '447_F.jpg', '449_F.jpg', '450_F.jpg', '451_F.jpg', '452_F.jpg', '457_F.jpg', '458_F.jpg', '459_F.jpg', '460_F.jpg', '461_F.jpg', '462_F.jpg', '463_F.jpg', '464_F.jpg', '465_F.jpg', '466_F.jpg', '467_F.jpg', '468_F.jpg', '469_F.jpg', '470_F.jpg', '471_F.jpg', '472_F.jpg', '473_F.jpg', '474_F.jpg', '475_F.jpg', '476_F.jpg', '477_F.jpg', '478_F.jpg', '479_F.jpg', '480_F.jpg', '481_F.jpg', '482_F.jpg', '483_F.jpg', '484_F.jpg', '485_F.jpg', '486_F.jpg', '487_F.jpg', '488_F.jpg', '489_F.jpg', '490_F.jpg', '491_F.jpg', '492_F.jpg', '493_F.jpg', '494_F.jpg', '495_F.jpg', '496_F.jpg', '497_F.jpg', '498_F.jpg', '499_F.jpg', '500_F.jpg', '501_F.jpg', '502_F.jpg', '503_F.jpg', '504_F.jpg', '505_F.jpg', '506_F.jpg', '507_F.jpg', '508_F.jpg', '509_F.jpg', '510_F.jpg', '511_F.jpg', '512_F.jpg', '513_F.jpg', '514_F.jpg', '515_F.jpg', '516_F.jpg', '517_F.jpg', '518_F.jpg', '519_F.jpg', '520_F.jpg', '521_F.jpg', '522_F.jpg', '523_F.jpg', '524_F.jpg', '525_F.jpg', '526_F.jpg', '527_F.jpg', '528_F.jpg', '529_F.jpg', '530_F.jpg', '531_F.jpg', '532_F.jpg', '533_F.jpg', '534_F.jpg', 'Thumbs.db', '535_F.jpg', '536_F.jpg', '537_F.jpg', '538_F.jpg', '539_F.jpg', '540_F.jpg', '541_F.jpg', '542_F.jpg', '543_F.jpg', '544_F.jpg', '545_F.jpg', '546_F.jpg', '547_F.jpg', '548_F.jpg', '549_F.jpg', '550_F.jpg', '551_F.jpg', '552_F.jpg', '553_F.jpg', '554_F.jpg', '555_F.jpg', '556_F.jpg', '557_F.jpg', '558_F.jpg', '559_F.jpg', '560_F.jpg', '561_F.jpg', '562_F.jpg', '563_F.jpg', '564_F.jpg', '565_F.jpg', '566_F.jpg', '568_F.jpg', '567_F.jpg', '569_F.jpg', '571_F.jpg', '570_F.jpg', '572_F.jpg', '259_F.jpg', '.ipynb_checkpoints']\n"
          ]
        }
      ]
    },
    {
      "cell_type": "code",
      "metadata": {
        "id": "tK3yf6W7M-Fk"
      },
      "source": [
        "test = '/content/drive/MyDrive/Bone_detection/data/image/female/1_F.jpg'"
      ],
      "execution_count": 49,
      "outputs": []
    },
    {
      "cell_type": "code",
      "metadata": {
        "id": "25sFPb86QO_B"
      },
      "source": [
        "import numpy as np\n",
        "import matplotlib.pyplot as plt\n",
        "import cv2"
      ],
      "execution_count": 4,
      "outputs": []
    },
    {
      "cell_type": "markdown",
      "metadata": {
        "id": "k-tODHGM5EAV"
      },
      "source": [
        "# Masking"
      ]
    },
    {
      "cell_type": "code",
      "metadata": {
        "id": "Vxro0RrbAvw-"
      },
      "source": [
        "img = cv2.imread(test)\n",
        "img_ = img.copy()\n",
        "\n",
        "# 색상 lab으로 변경 ( 밝기 강조 )\n",
        "img_ = cv2.cvtColor(img, cv2.COLOR_BGR2Lab)\n",
        "\n",
        "# blurring : 커널은 홀수만 적용. 이미지 평균 기준으로 홀수값\n",
        "blur_kernel = int((img_.mean()*0.5)//2)*2+1\n",
        "img_ = cv2.medianBlur(img_,blur_kernel)\n",
        "\n",
        "# 임계값 처리를 위해 grayscale로 변경\n",
        "img_ = cv2.cvtColor(img_, cv2.COLOR_Lab2BGR)\n",
        "img_ = cv2.cvtColor(img_, cv2.COLOR_BGR2GRAY)\n",
        "\n",
        "# 이미지 평균값으로 이진화.\n",
        "# cv2. threshold(src;image(grayscale) , thresh; threshold , maxval; value over threshold, type; thresholding type)\n",
        "return_, img_ = cv2.threshold(img_, img_.mean()*1.1, 255, cv2.THRESH_BINARY)\n",
        "\n",
        "# 가장 큰 윤곽(contour) 값으로 masking\n",
        "# cv2. findContours(src; image, searching mode, method )\n",
        "contours, hierarchy = cv2.findContours(img_, cv2.RETR_EXTERNAL, cv2.CHAIN_APPROX_SIMPLE)\n",
        "max_contours = max(contours, key = cv2.contourArea) # contourARea : 외곽선이 감싸는 영역의 면적 반환.\n",
        "mask = np.zeros(img_.shape, dtype = np.uint8) # 마스크 생성\n",
        "\n",
        "# mask + contours\n",
        "cv2.drawContours(mask, [max_contours], -1, (255,255,255), -1)\n",
        "\n",
        "# morphology \n",
        "# kernel에 함수 적용 ( blurring )\n",
        "kernel = cv2.getStructuringElement( cv2.MORPH_RECT, (5,5))\n",
        "\n",
        "#최종 mask 생성\n",
        "mask = cv2.dilate(mask,kernel) # 팽창적용\n",
        "\n",
        "\n",
        "\n",
        "\n",
        "plt.subplot(141)\n",
        "plt.imshow(img)\n",
        "plt.subplot(142)\n",
        "plt.imshow(img_)\n",
        "plt.subplot(143)\n",
        "plt.imshow(img_,'gray')\n",
        "plt.subplot(144)\n",
        "plt.imshow(mask)\n",
        "plt.show()"
      ],
      "execution_count": null,
      "outputs": []
    },
    {
      "cell_type": "code",
      "metadata": {
        "id": "wuof8TZNb_sG"
      },
      "source": [
        ""
      ],
      "execution_count": null,
      "outputs": []
    }
  ]
}