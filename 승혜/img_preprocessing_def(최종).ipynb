{
  "nbformat": 4,
  "nbformat_minor": 0,
  "metadata": {
    "colab": {
      "name": "img_preprocessing_def(최종).ipynb",
      "provenance": [],
      "collapsed_sections": [],
      "authorship_tag": "ABX9TyMRAeF38uvBrYfy4B4njotI",
      "include_colab_link": true
    },
    "kernelspec": {
      "name": "python3",
      "display_name": "Python 3"
    },
    "language_info": {
      "name": "python"
    },
    "accelerator": "TPU"
  },
  "cells": [
    {
      "cell_type": "markdown",
      "metadata": {
        "id": "view-in-github",
        "colab_type": "text"
      },
      "source": [
        "<a href=\"https://colab.research.google.com/github/kikiru328/Bone_Detection/blob/main/%EC%8A%B9%ED%98%9C/img_preprocessing_def(%EC%B5%9C%EC%A2%85).ipynb\" target=\"_parent\"><img src=\"https://colab.research.google.com/assets/colab-badge.svg\" alt=\"Open In Colab\"/></a>"
      ]
    },
    {
      "cell_type": "code",
      "metadata": {
        "colab": {
          "base_uri": "https://localhost:8080/"
        },
        "id": "pVXKhbvKYAGU",
        "outputId": "400030b7-cab9-4037-b9da-817133c8a2ae"
      },
      "source": [
        "from google.colab import drive\n",
        "drive.mount('/content/drive')"
      ],
      "execution_count": null,
      "outputs": [
        {
          "output_type": "stream",
          "name": "stdout",
          "text": [
            "Mounted at /content/drive\n"
          ]
        }
      ]
    },
    {
      "cell_type": "code",
      "metadata": {
        "id": "x2aSbU7wYKLQ"
      },
      "source": [
        "# import \n",
        "\n",
        "import numpy as np\n",
        "import cv2\n",
        "import matplotlib.pyplot as plt\n",
        "from sklearn.linear_model import LinearRegression\n",
        "import glob\n",
        "import math\n",
        "# import image_dehazer"
      ],
      "execution_count": null,
      "outputs": []
    },
    {
      "cell_type": "markdown",
      "metadata": {
        "id": "g54kSZPJYKIx"
      },
      "source": [
        "# contrast 함수 "
      ]
    },
    {
      "cell_type": "code",
      "metadata": {
        "id": "9hxSlxqwYKGR"
      },
      "source": [
        "# contrast 함수\n",
        "def contrast_roi(img, low, high):\n",
        "    h, w = img.shape\n",
        "    img_ = np.zeros(img.shape, dtype=np.uint8)\n",
        "    for y in range(h):\n",
        "        for x in range(w):\n",
        "            temp = int((255 / (high - low)) * (img[y][x] - low))\n",
        "            if temp > 255:\n",
        "                img_[y][x] = 255\n",
        "            elif temp < 0:\n",
        "                img_[y][x] = 0\n",
        "            else:\n",
        "                img_[y][x] = temp\n",
        "    return img_"
      ],
      "execution_count": null,
      "outputs": []
    },
    {
      "cell_type": "markdown",
      "metadata": {
        "id": "LGcTbFbgYKEB"
      },
      "source": [
        "# brightness 함수"
      ]
    },
    {
      "cell_type": "code",
      "metadata": {
        "id": "zQwIuPtYYKBi"
      },
      "source": [
        "  def bright_ness(img):\n",
        "    cols, rows = img.shape[:2]\n",
        "    brightness = np.sum(img) / (255 * cols * rows)\n",
        "    return brightness"
      ],
      "execution_count": null,
      "outputs": []
    },
    {
      "cell_type": "markdown",
      "metadata": {
        "id": "fvFrKniKer3y"
      },
      "source": [
        "## total 함수"
      ]
    },
    {
      "cell_type": "code",
      "metadata": {
        "id": "UonZqOhceuHL"
      },
      "source": [
        "# 이미지 1개 가져오기\n",
        "from google.colab import files\n",
        "uploaded = files.upload()"
      ],
      "execution_count": null,
      "outputs": []
    },
    {
      "cell_type": "code",
      "metadata": {
        "id": "-Bc6XWvbex36"
      },
      "source": [
        "# 이미지 1개 img 적용\n",
        "img = cv2.imread('166_F.jpg',cv2.IMREAD_COLOR)"
      ],
      "execution_count": null,
      "outputs": []
    },
    {
      "cell_type": "code",
      "metadata": {
        "id": "EX5ApNRxexxi"
      },
      "source": [
        "# 이미지 전처리 함수 (img, 모폴로지값1, 모폴로지값2, 필터값(d,e))\n",
        "def merong(img,a,b,d,e):\n",
        "  # 이미지 가져오기\n",
        "  # img = cv2.imread('1_F_손목 - 복사본.jpg',cv2.IMREAD_COLOR)\n",
        "  img1 = img\n",
        "\n",
        "  # 밝기 조정\n",
        "  if bright_ness(img1) > 0.8:\n",
        "    img1 = np.clip(img1 - 80., 0, 255).astype(np.uint8)\n",
        "  elif bright_ness(img1) > 0.75:\n",
        "    img1 = np.clip(img1 - 50., 0, 255).astype(np.uint8)\n",
        "  elif bright_ness(img1) > 0.65:\n",
        "    img1 = np.clip(img1 - 30., 0, 255).astype(np.uint8)\n",
        "  else: img1 = np.clip(img1 - 10., 0, 255).astype(np.uint8)\n",
        "\n",
        "  # plt.imshow(img1)\n",
        "  # plt.show()\n",
        "  \n",
        "  # dehazing (must be a color image)\n",
        "  # img1 = image_dehazer.remove_haze(img1)\t\t# Remove Haze\n",
        "\n",
        "  # 이미지 Lab\n",
        "  img1 = cv2.cvtColor(img1, cv2.COLOR_RGB2BGR)\n",
        "  img1 = cv2.cvtColor(img1, cv2.COLOR_BGR2Lab)\n",
        "\n",
        "  # 모폴리지\n",
        "  k = cv2.getStructuringElement(cv2.MORPH_CROSS, (a, a))\n",
        "  img1 = cv2.morphologyEx(img1, cv2.MORPH_TOPHAT, k) # 밝기 값이 크게 튀는 곳을 강조\n",
        "\n",
        "  # 필터\n",
        "  img1 = cv2.bilateralFilter(img1,-1, d, e)\n",
        "  # img1= guided_Fitler(img1, img1, r=3, eps=100)\n",
        "\n",
        "  # Lab to gray for binary\n",
        "  img1 = cv2.cvtColor(img1, cv2.COLOR_Lab2BGR)\n",
        "  img1 = cv2.cvtColor(img1, cv2.COLOR_BGR2GRAY)\n",
        "\n",
        "  # 정규화\n",
        "  img1 = cv2.normalize(img1, None, 0, 255, cv2.NORM_MINMAX)\n",
        "\n",
        "  # 평탄화 (Clahe)\n",
        "  img1 = cv2.equalizeHist(img1)\n",
        "  clahe = cv2.createCLAHE(clipLimit=1.0, tileGridSize=(3,3)) #CLAHE 생성\n",
        "  img1= clahe.apply(img1)           #CLAHE 적용\n",
        "\n",
        "\n",
        "  # binary\n",
        "  ret, mask = cv2.threshold(img1,\n",
        "                            np.mean(img1), # thresh= 이미지의 평균값을 임계치로\n",
        "                            255,\n",
        "                            cv2.THRESH_BINARY) # ret - 임계값, mask = img마스크\n",
        "  \n",
        "  # 같은 픽셀 강도를 갖는 애들 연결해줌 (오브젝트 검출)\n",
        "  contours, hierarchy = cv2.findContours(mask, # 마스크에서\n",
        "                                         cv2.RETR_EXTERNAL, # 바깥쪽 라인만\n",
        "                                         cv2.CHAIN_APPROX_SIMPLE) # 컨투어 꼭짓점 좌표만 제공 \n",
        "\n",
        "  cv2.drawContours(mask, contours, -1, (255,255,255), -1) # -1: 모든 컨트어 표시 /color/ fill\n",
        "\n",
        "\n",
        "  # plt.imshow(mask)\n",
        "  # plt.show()\n",
        "\n",
        "\n",
        "\n",
        "\n",
        "\n",
        "\n",
        "\n",
        "\n",
        "\n",
        "\n",
        "  #### 강 조\n",
        "  img2 = img.copy()\n",
        "  if bright_ness(img2) > 0.8:\n",
        "    img2 = np.clip(img2 - 80., 0, 255).astype(np.uint8)\n",
        "  elif bright_ness(img2) > 0.75:\n",
        "    img2 = np.clip(img2 - 50., 0, 255).astype(np.uint8)\n",
        "  elif bright_ness(img2) > 0.65:\n",
        "    img2 = np.clip(img2 - 30., 0, 255).astype(np.uint8)\n",
        "  else: img2 = np.clip(img2 - 10., 0, 255).astype(np.uint8)\n",
        "\n",
        "\n",
        "  # 모폴로지\n",
        "  k2 = cv2.getStructuringElement(cv2.MORPH_CROSS,(b,b))\n",
        "  img2 = cv2.morphologyEx(img2, cv2.MORPH_TOPHAT, k2)\n",
        "\n",
        "  # contrast\n",
        "  img2 = cv2.cvtColor(img2, cv2.COLOR_BGR2RGB)\n",
        "  img2 = cv2.cvtColor(img2, cv2.COLOR_BGR2GRAY)\n",
        "  # img2= contrast(img2,mask,c)\n",
        "  # if img2.mean() <= 15:\n",
        "  #     low = img2.mean() * 2.3\n",
        "  #     high = img2.mean() * 2.5\n",
        "  # elif img2.mean() <= 20:\n",
        "  #     low = img2.mean() * 2.3\n",
        "  #     high = img2.mean() * 2.8\n",
        "  # else:\n",
        "  #     low = img2.mean() * 2.3\n",
        "  #     high = img2.mean() * 3\n",
        "  if img2.mean() <= 15:\n",
        "      low = img2.mean() * 3\n",
        "      high = img2.mean() * 3.5\n",
        "  elif img2.mean() <= 20:\n",
        "      low = img2.mean() * 3\n",
        "      high = img2.mean() * 3.6\n",
        "  else:\n",
        "      low = img2.mean() * 3\n",
        "      high = img2.mean() * 3.7\n",
        "\n",
        "  img2 = cv2.blur(img2,(2,2))\n",
        "  img2 = contrast_roi(img2, low, high)\n",
        "\n",
        "\n",
        "\n",
        "    \n",
        "  # # 뼈강조하고 마스크랑 비트 연산\n",
        "  # # 모폴로지\n",
        "  # k2 = cv2.getStructuringElement(cv2.MORPH_CROSS, (c, c))\n",
        "  # img = cv2.morphologyEx(img, cv2.MORPH_TOPHAT, k2)\n",
        "\n",
        "\n",
        "  # 컨투어\n",
        "  contours, hierarchy = cv2.findContours(img2, cv2.RETR_EXTERNAL, cv2.CHAIN_APPROX_SIMPLE)\n",
        "  cv2.drawContours(img2, contours, -1, (255, 255, 255), -1)\n",
        "\n",
        "  # 마스크랑 비트 연산 - 이미지랑 마스크 둘 다에서 흰색인 부분만 출력\n",
        "  img2 = cv2.bitwise_and(img2, mask) \n",
        "  # img = cv2.resize(img, (256, 256), interpolation=cv2.INTER_AREA)\n",
        "  img2 = cv2.cvtColor(img2, cv2.COLOR_GRAY2BGR)\n",
        "  img2 = cv2.blur(img2,(2,2))\n",
        "\n",
        "  plt.figure(figsize=(12,10))\n",
        "  plt.imshow(img2,'gray')\n",
        "  plt.show()\n",
        "\n",
        "# merong(img,60,55,25,10)\n"
      ],
      "execution_count": null,
      "outputs": []
    },
    {
      "cell_type": "markdown",
      "metadata": {
        "id": "MOAoJ7T9fDyj"
      },
      "source": [
        "# path설정으로 폴더 사진 전체에 적용 "
      ]
    },
    {
      "cell_type": "code",
      "metadata": {
        "id": "NnPK7kM0fOa7"
      },
      "source": [
        "# 이미지 여러개에 함수 적용\n",
        "import os\n",
        "path = '/content/drive/MyDrive/cakd_colab/2차플젝/데이터 원본/데이터 원본/image/Female'\n",
        "dir_list = os.listdir(path)\n",
        "print(dir_list)\n",
        "\n",
        "# 빼고싶은 개수만큼 [:x] 로 적어주세요\n",
        "for item in dir_list[:20] :   \n",
        "  img = cv2.imread(path+'/'+f'{item}',cv2.IMREAD_COLOR)\n",
        "  # merong(img,55,25,25,10) # 원래꺼 (스킨은 잘 안빠지고 지골이 잘 빠짐)\n",
        "  # merong(img,55,60,25,10)  # 새로운거 (지골이 잘 안빠지고 스킨이 잘 빠짐)\n",
        "  merong(img,60,55,25,10) # 이건 다 잘되지롱\n"
      ],
      "execution_count": null,
      "outputs": []
    }
  ]
}