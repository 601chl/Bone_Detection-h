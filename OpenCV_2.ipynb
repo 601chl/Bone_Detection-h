{
  "nbformat": 4,
  "nbformat_minor": 0,
  "metadata": {
    "colab": {
      "name": "OpenCV_2.ipynb",
      "provenance": [],
      "machine_shape": "hm",
      "authorship_tag": "ABX9TyOd0uuEO8VOV+eF3Ppa7tHP",
      "include_colab_link": true
    },
    "kernelspec": {
      "name": "python3",
      "display_name": "Python 3"
    },
    "language_info": {
      "name": "python"
    },
    "accelerator": "GPU"
  },
  "cells": [
    {
      "cell_type": "markdown",
      "metadata": {
        "id": "view-in-github",
        "colab_type": "text"
      },
      "source": [
        "<a href=\"https://colab.research.google.com/github/kikiru328/Bone_Detection/blob/main/OpenCV_2.ipynb\" target=\"_parent\"><img src=\"https://colab.research.google.com/assets/colab-badge.svg\" alt=\"Open In Colab\"/></a>"
      ]
    },
    {
      "cell_type": "markdown",
      "metadata": {
        "id": "tLpN0okTAlc3"
      },
      "source": [
        "**cv2**.createTracker(track_bar, name, window_name, value, count, on_change): Tracker를 생성하는 함수\n",
        "\n",
        "- value: 초기 값\n",
        "- count: Max 값 (Min: 0)\n",
        "- on_change: 값이 변경될 때 호출되는 Callback 함수\n",
        "\n",
        "cv2.getTrackerPos(track_bar, name, window_name): Tracker로부터 값을 얻어 오는 함수"
      ]
    },
    {
      "cell_type": "markdown",
      "metadata": {
        "id": "f-EsjN4fAv04"
      },
      "source": [
        "## Tracker 객체추적\n"
      ]
    },
    {
      "cell_type": "code",
      "metadata": {
        "id": "WYVIprkuA2cJ"
      },
      "source": [
        "# 실행하면 세션이 다운됨 .. \n",
        "import cv2\n",
        "import numpy as np\n",
        "\n",
        "def change_color(x):\n",
        "  r = cv2.getTrackbarPos(\"R\", \"Image\")\n",
        "  g = cv2.getTrackbarPos(\"G\", \"Image\")\n",
        "  b = cv2.getTrackbarPos(\"B\", \"Image\")\n",
        "  image[:] = [b, g, r]\n",
        "  cv2.imshow('Image', image)\n",
        "  \n",
        "image = np.zeros((600, 400, 3), np.uint8)\n",
        "cv2.namedWindow(\"Image\")\n",
        "\n",
        "cv2.createTrackbar(\"R\", \"Image\", 0, 255, change_color)\n",
        "cv2.createTrackbar(\"G\", \"Image\", 0, 255, change_color)\n",
        "cv2.createTrackbar(\"B\", \"Image\", 0, 255, change_color)\n",
        "\n",
        "cv2.imshow('Image', image)\n",
        "cv2.waitKey(0)"
      ],
      "execution_count": null,
      "outputs": []
    },
    {
      "cell_type": "markdown",
      "metadata": {
        "id": "6ww3u0niA7Fq"
      },
      "source": [
        "## 도형그리기 "
      ]
    },
    {
      "cell_type": "markdown",
      "metadata": {
        "id": "ofFp5hHBBOgw"
      },
      "source": [
        "cv2.line(image, start, end, color, thickness): 하나의 직선을 그리는 함수\n",
        "\n",
        "- start: 시작 좌표 (2차원)\n",
        "- end: 종료 좌표 (2차원)\n",
        "- thickness: 선의 두께"
      ]
    },
    {
      "cell_type": "code",
      "metadata": {
        "colab": {
          "base_uri": "https://localhost:8080/",
          "height": 269
        },
        "id": "9I3q9MGZBG0_",
        "outputId": "fff2ddfd-151b-4107-d854-1a81a49dfa45"
      },
      "source": [
        "import cv2\n",
        "import numpy as np\n",
        "import matplotlib.pyplot as plt\n",
        "\n",
        "image= np.full((512,512,3),255,np.uint8)  # np.uint8 부호없는 정수 \n",
        "image= cv2.line(image,(0,0),(255,255),(255,0,0),3)\n",
        "\n",
        "plt.imshow(image)\n",
        "plt.show()"
      ],
      "execution_count": 1,
      "outputs": [
        {
          "output_type": "display_data",
          "data": {
            "image/png": "[encoded data removed]",
            "text/plain": [
              "<Figure size 432x288 with 1 Axes>"
            ]
          },
          "metadata": {
            "needs_background": "light"
          }
        }
      ]
    },
    {
      "cell_type": "markdown",
      "metadata": {
        "id": "14mSUG0DBtRD"
      },
      "source": [
        "cv2.rectangle(image, start, end, color, thickness): 하나의 사각형을 그리는 함수\n",
        "\n",
        "- start: 시작 좌표 (2차원)\n",
        "- end: 종료 좌표 (2차원)\n",
        "- thickness: 선의 두께 (채우기: -1)"
      ]
    },
    {
      "cell_type": "code",
      "metadata": {
        "colab": {
          "base_uri": "https://localhost:8080/",
          "height": 269
        },
        "id": "0y5V26wcBu4U",
        "outputId": "13cbf27a-4560-417f-a4ec-182b7fdcf14f"
      },
      "source": [
        "import cv2\n",
        "import numpy as np\n",
        "import matplotlib.pyplot as plt\n",
        "\n",
        "image = np.full((512,512,3),255, np.uint8) \n",
        "image = cv2.rectangle(image,(20,20),(255,255),(0,0,0),5) # 시작/ 끝/ 색RGB 000 검정/ 두께\n",
        "\n",
        "plt.imshow(image)\n",
        "plt.show()"
      ],
      "execution_count": 8,
      "outputs": [
        {
          "output_type": "display_data",
          "data": {
            "image/png": "[encoded data removed]",
            "text/plain": [
              "<Figure size 432x288 with 1 Axes>"
            ]
          },
          "metadata": {
            "needs_background": "light"
          }
        }
      ]
    },
    {
      "cell_type": "markdown",
      "metadata": {
        "id": "stnBXtxcIqW7"
      },
      "source": [
        "cv2.circle(image, center, radian, color, thickness): 하나의 원을 그리는 함수\n",
        "\n",
        "- center: 원의 중심 (2차원)\n",
        "- radian: 반지름\n",
        "- thickness: 선의 두께 (채우기: -1)"
      ]
    },
    {
      "cell_type": "code",
      "metadata": {
        "colab": {
          "base_uri": "https://localhost:8080/",
          "height": 269
        },
        "id": "YH_sLQbUIp_j",
        "outputId": "513e215d-1007-4ade-d755-0eea7bab4756"
      },
      "source": [
        "import cv2\n",
        "import numpy as np\n",
        "import matplotlib.pyplot as plt\n",
        "\n",
        "image= np.full((512,512,3),255, np.uint8)\n",
        "image= cv2.circle(image,(200,200),100,(0,100,255),-1)\n",
        "\n",
        "plt.imshow(image)\n",
        "plt.show()\n",
        "\n"
      ],
      "execution_count": 15,
      "outputs": [
        {
          "output_type": "display_data",
          "data": {
            "image/png": "[encoded data removed]",
            "text/plain": [
              "<Figure size 432x288 with 1 Axes>"
            ]
          },
          "metadata": {
            "needs_background": "light"
          }
        }
      ]
    },
    {
      "cell_type": "markdown",
      "metadata": {
        "id": "EhGI3qhFIDIC"
      },
      "source": [
        "cv2.polylines(image, points, is_closed, color, thickness): 하나의 다각형을 그리는 함수\n",
        "\n",
        "points: 꼭지점들\n",
        "is_closed: 닫힌 도형 여부\n",
        "thickness: 선의 두께 (채우기: -1)"
      ]
    },
    {
      "cell_type": "code",
      "metadata": {
        "colab": {
          "base_uri": "https://localhost:8080/",
          "height": 269
        },
        "id": "0kAPBbDhJV-c",
        "outputId": "a652554d-a8a5-4708-9904-df89d3fa3bfb"
      },
      "source": [
        "import cv2\n",
        "import numpy as np\n",
        "import matplotlib.pyplot as plt\n",
        "\n",
        "image = np.full((512, 512, 3), 255, np.uint8)\n",
        "points = np.array([[255,280],[280,220],[330,210],[380,255],[380,310],[320,400],[255,450],\n",
        "                   [190,400],[130,310],[130,255],[180,210],[230,220],[255,280]])\n",
        "image = cv2.polylines(image, [points], True, (255, 0, 0), 5)\n",
        "\n",
        "plt.imshow(image)\n",
        "plt.show()  # 기엽죠?ㅋㅋ"
      ],
      "execution_count": 43,
      "outputs": [
        {
          "output_type": "display_data",
          "data": {
            "image/png": "[encoded data removed]",
            "text/plain": [
              "<Figure size 432x288 with 1 Axes>"
            ]
          },
          "metadata": {
            "needs_background": "light"
          }
        }
      ]
    },
    {
      "cell_type": "markdown",
      "metadata": {
        "id": "1oGVEB0cK2Fe"
      },
      "source": [
        "cv2.putText(image, text, position, font_type, font_scale, color): 하나의 텍스트를 그리는 함수\n",
        "\n",
        "- position: 텍스트가 출력될 위치\n",
        "- font_type: 글씨체\n",
        "- font_scale: 글씨 크기 가중치"
      ]
    },
    {
      "cell_type": "code",
      "metadata": {
        "colab": {
          "base_uri": "https://localhost:8080/",
          "height": 269
        },
        "id": "SA_szWGANY3B",
        "outputId": "8e531669-6b3b-47fb-e54d-5273607a96e6"
      },
      "source": [
        "import cv2\n",
        "import numpy as np\n",
        "import matplotlib.pyplot as plt\n",
        "\n",
        "image = np.full((512, 512, 3), 255, np.uint8)\n",
        "image = cv2.putText(image, 'hello tmdhey ', (20, 255), cv2.FONT_HERSHEY_TRIPLEX, 2, (255, 128, 128))\n",
        "image2 = np.full((512, 512, 3), 255, np.uint8)\n",
        "image2 = cv2.putText(image, 'I\\'m Sophie ', (20, 350), cv2.FONT_HERSHEY_DUPLEX, 2, (0, 204, 255))\n",
        "\n",
        "plt.imshow(image)\n",
        "plt.imshow(image2)\n",
        "plt.show()"
      ],
      "execution_count": 61,
      "outputs": [
        {
          "output_type": "display_data",
          "data": {
            "image/png": "[encoded data removed]",
            "text/plain": [
              "<Figure size 432x288 with 1 Axes>"
            ]
          },
          "metadata": {
            "needs_background": "light"
          }
        }
      ]
    },
    {
      "cell_type": "code",
      "metadata": {
        "id": "E0fkblAmNoSn"
      },
      "source": [
        ""
      ],
      "execution_count": null,
      "outputs": []
    }
  ]
}